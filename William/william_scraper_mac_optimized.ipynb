{
 "cells": [
  {
   "cell_type": "code",
   "execution_count": 10,
   "metadata": {},
   "outputs": [],
   "source": [
    "#Dependencies\n",
    "from bs4 import BeautifulSoup\n",
    "import requests\n",
    "from splinter import Browser\n",
    "from selenium import webdriver\n",
    "from selenium.webdriver.common.keys import Keys\n",
    "import selenium\n",
    "import time\n",
    "import csv"
   ]
  },
  {
   "cell_type": "code",
   "execution_count": 12,
   "metadata": {},
   "outputs": [],
   "source": [
    "#Start the webdriver and maximize the window \n",
    "# (important to avoid ads in clickspace)\n",
    "#IMPORTANT: if you are using a mac, this section will not work. Find code that \n",
    "#does BOTH of these things.\n",
    "driver=webdriver.Chrome('chromedriver')\n",
    "url = \"https://www.simplyrecipes.com/index/\"\n",
    "driver.get(url) \n",
    "driver.maximize_window()"
   ]
  },
  {
   "cell_type": "code",
   "execution_count": 13,
   "metadata": {},
   "outputs": [],
   "source": [
    "# Mac optimized webdriver and window maximiser code\n",
    "driver=webdriver.Chrome('/Users/heesungshim/Desktop/2_Homework_BTC/group-project-2/William/chromedriver')\n",
    "url = \"https://www.simplyrecipes.com/index/\"\n",
    "driver.get(url)\n",
    "driver.maximize_window()\n",
    "response=requests.get(url)\n",
    "soup=BeautifulSoup(response.text,'html.parser')"
   ]
  },
  {
   "cell_type": "code",
   "execution_count": 14,
   "metadata": {},
   "outputs": [],
   "source": [
    "#Set up BeautifulSoup to retrieve info for scraping\n",
    "response=requests.get(url)\n",
    "soup=BeautifulSoup(response.text,'html.parser')"
   ]
  },
  {
   "cell_type": "code",
   "execution_count": 15,
   "metadata": {},
   "outputs": [],
   "source": [
    "#Use soup to get list of strings corresponding to the links we will visit\n",
    "#while scraping\n",
    "\n",
    "linklist=[]\n",
    "links=soup.find_all('a')\n",
    "for link in links:\n",
    "    linklist.append(link)\n",
    "linklist_text=[]\n",
    "for i in range(164,1068): #These are the only strings we need\n",
    "    linklist_text.append(linklist[i].text)"
   ]
  },
  {
   "cell_type": "code",
   "execution_count": 16,
   "metadata": {},
   "outputs": [],
   "source": [
    "#####################\n",
    "#SCRAPING STARTS HERE\n",
    "#####################\n",
    "\n",
    "#Start a temp list to log all recipes\n",
    "recipe_list=[]\n",
    "\n",
    "#systematically visit the links corresponding every item in our list\n",
    "#IMPORTANT: change first line to read \n",
    "# \"for link in linklist_text[start_index, stop_index]\" to start scraping somewhere\n",
    "#in the middle of the link list, or leave the index specification off to start\n",
    "# #at the beginning.\n",
    "\n",
    "for link in linklist_text[924 :]: # <- this is the line you could change\n",
    "    time.sleep(0.3)\n",
    "    target=driver.find_element_by_partial_link_text(link)\n",
    "    target.click()\n",
    "    time.sleep(0.1)\n",
    "    cards = driver.find_elements_by_class_name(\"grd-title-link\")\n",
    "#Try to loop through every recipie on the first page of results and collect data\n",
    "    for i in range(0,len(cards)):\n",
    "        try:\n",
    "            newcards = driver.find_elements_by_class_name(\"grd-title-link\")\n",
    "            time.sleep(0.3)\n",
    "            newcards[i].click()\n",
    "            time.sleep(0.3)\n",
    "            recipe=driver.find_element_by_id(\"sr-recipe-callout\")\n",
    "            recipe_list.append(recipe.text)\n",
    "            driver.back()\n",
    "            time.sleep(0.3)\n",
    "        except:\n",
    "            continue\n",
    "#If there is a \"next\" button, try to click it\n",
    "    nxt=driver.find_elements_by_class_name(\"rpg-next\")\n",
    "    if len(nxt) > 0:\n",
    "        pages=driver.find_elements_by_class_name(\"rpg-page-numbers\")\n",
    "        textpages=pages[-2].text\n",
    "        lastpage=int(textpages)\n",
    "        for i in range(1,lastpage):\n",
    "            nxt2=driver.find_elements_by_class_name(\"rpg-next\")\n",
    "            time.sleep(0.3)\n",
    "            try:\n",
    "                nxt2[0].click()\n",
    "                cards2 = driver.find_elements_by_class_name(\"grd-title-link\")\n",
    "#Try to repeat the process of collecting every recipe on the new page\n",
    "                for i in range(0,len(cards2)):\n",
    "                    try:\n",
    "                        newcards2 = driver.find_elements_by_class_name(\"grd-title-link\")\n",
    "                        time.sleep(0.3)\n",
    "                        newcards2[i].click()\n",
    "                        time.sleep(0.3)\n",
    "                        recipe=driver.find_element_by_id(\"sr-recipe-callout\")\n",
    "                        recipe_list.append(recipe.text)\n",
    "                        driver.back()\n",
    "                        time.sleep(0.3)\n",
    "                    except:\n",
    "                        continue\n",
    "            except:\n",
    "                continue\n",
    "#Append the temporary recipe list to an external file, then clear the temp list\n",
    "#for the next loop\n",
    "    with open (\"recipe_list2.txt\", \"a\") as fout:\n",
    "        for recipe_text in recipe_list:\n",
    "            fout.write(\"%s\\n\" % recipe_text.encode(\"utf-8\"))\n",
    "    recipe_list=[]\n",
    "            \n",
    "#return to the original page to prepare for the next cycle\n",
    "    driver.get(url)"
   ]
  },
  {
   "cell_type": "code",
   "execution_count": null,
   "metadata": {},
   "outputs": [],
   "source": []
  }
 ],
 "metadata": {
  "kernelspec": {
   "display_name": "Python 3",
   "language": "python",
   "name": "python3"
  },
  "language_info": {
   "codemirror_mode": {
    "name": "ipython",
    "version": 3
   },
   "file_extension": ".py",
   "mimetype": "text/x-python",
   "name": "python",
   "nbconvert_exporter": "python",
   "pygments_lexer": "ipython3",
   "version": "3.7.3"
  }
 },
 "nbformat": 4,
 "nbformat_minor": 4
}
