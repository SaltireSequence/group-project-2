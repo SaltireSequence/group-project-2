{
 "cells": [
  {
   "cell_type": "markdown",
   "metadata": {},
   "source": [
    "## Dependencies"
   ]
  },
  {
   "cell_type": "code",
   "execution_count": 31,
   "metadata": {},
   "outputs": [],
   "source": [
    "# SOURCE: https://github.com/hhursev/recipe-scrapers\n",
    "# scraper library dependencies\n",
    "from recipe_scrapers import scrape_me\n",
    "import re\n",
    "\n",
    "# scraping dependencies\n",
    "import datetime\n",
    "import requests\n",
    "import time\n",
    "from bs4 import BeautifulSoup\n",
    "from splinter import Browser\n",
    "from webdriver_manager.chrome import ChromeDriverManager\n",
    "import pandas as pd\n",
    "import collections\n",
    "import pprint"
   ]
  },
  {
   "cell_type": "markdown",
   "metadata": {},
   "source": [
    "## Part 1 - saving index links to a list of nested dictionaries"
   ]
  },
  {
   "cell_type": "markdown",
   "metadata": {},
   "source": [
    "## ATTEMPT 1"
   ]
  },
  {
   "cell_type": "code",
   "execution_count": 32,
   "metadata": {},
   "outputs": [],
   "source": [
    "# Saving URL in a variable to pass into the scraper library.\n",
    "scraper = scrape_me('https://www.simplyrecipes.com/index/')"
   ]
  },
  {
   "cell_type": "code",
   "execution_count": 33,
   "metadata": {},
   "outputs": [],
   "source": [
    "# returns a list of dictionaries containting all of the <a> tag attributes from the defined website. The attribute names are assigned as dictionary keys and the \n",
    "raw_dict = scraper.links()"
   ]
  },
  {
   "cell_type": "code",
   "execution_count": 34,
   "metadata": {},
   "outputs": [],
   "source": [
    "# for loop that iterates through the dictionary\n",
    "result = []\n",
    "for d in raw_dict:\n",
    "    # Iterates through every key in the dictionary\n",
    "    for key, value in d.items():\n",
    "        # If the key is not equal to 'href' and the value doesn't contain ''/recipe' then that pair is skipped.\n",
    "        if key != \"href\" or \"https://www.simplyrecipes.com/recipes/\" not in value:\n",
    "            # Move onto next iteration\n",
    "            continue\n",
    "        txt = ''\n",
    "        # using part of the URL (key value) to determine the key name\n",
    "        for i in re.findall(\"recipes/.*\", value):\n",
    "            txt += i\n",
    "            title = txt.split('/')[1]\n",
    "            # appending each key and value to a nested dictionary in a list.\n",
    "\n",
    "            result.append({title: value})"
   ]
  },
  {
   "cell_type": "markdown",
   "metadata": {},
   "source": [
    "## ATTEMPT 2"
   ]
  },
  {
   "cell_type": "code",
   "execution_count": 6,
   "metadata": {},
   "outputs": [
    {
     "name": "stdout",
     "output_type": "stream",
     "text": [
      "{'Course': ['https://www.simplyrecipes.com/recipes/course/appetizer/',\n",
      "            'https://www.simplyrecipes.com/recipes/course/breakfast/',\n",
      "            'https://www.simplyrecipes.com/recipes/course/brunch/',\n",
      "            'https://www.simplyrecipes.com/recipes/course/dessert/',\n",
      "            'https://www.simplyrecipes.com/recipes/course/dinner/',\n",
      "            'https://www.simplyrecipes.com/recipes/course/drink/',\n",
      "            'https://www.simplyrecipes.com/recipes/course/lunch/',\n",
      "            'https://www.simplyrecipes.com/recipes/course/salad/',\n",
      "            'https://www.simplyrecipes.com/recipes/course/sandwich/',\n",
      "            'https://www.simplyrecipes.com/recipes/course/side_dish/',\n",
      "            'https://www.simplyrecipes.com/recipes/course/snack/',\n",
      "            'https://www.simplyrecipes.com/recipes/course/soup/',\n",
      "            'https://www.simplyrecipes.com/recipes/course/soup_and_stew/',\n",
      "            'https://www.simplyrecipes.com/recipes/course/stew/'],\n",
      " 'Cuisine': ['https://www.simplyrecipes.com/recipes/cuisine/african/',\n",
      "             'https://www.simplyrecipes.com/recipes/cuisine/basque/',\n",
      "             'https://www.simplyrecipes.com/recipes/cuisine/belgian/',\n",
      "             'https://www.simplyrecipes.com/recipes/cuisine/brazilian/',\n",
      "             'https://www.simplyrecipes.com/recipes/cuisine/british/',\n",
      "             'https://www.simplyrecipes.com/recipes/cuisine/cajun/',\n",
      "             'https://www.simplyrecipes.com/recipes/cuisine/cambodian/',\n",
      "             'https://www.simplyrecipes.com/recipes/cuisine/chinese/',\n",
      "             'https://www.simplyrecipes.com/recipes/cuisine/cowboy/',\n",
      "             'https://www.simplyrecipes.com/recipes/cuisine/creole/',\n",
      "             'https://www.simplyrecipes.com/recipes/cuisine/danish/',\n",
      "             'https://www.simplyrecipes.com/recipes/cuisine/ethiopian/',\n",
      "             'https://www.simplyrecipes.com/recipes/cuisine/french/',\n",
      "             'https://www.simplyrecipes.com/recipes/cuisine/german/',\n",
      "             'https://www.simplyrecipes.com/recipes/cuisine/greek/',\n",
      "             'https://www.simplyrecipes.com/recipes/cuisine/hawaiian/',\n",
      "             'https://www.simplyrecipes.com/recipes/cuisine/hungarian/',\n",
      "             'https://www.simplyrecipes.com/recipes/cuisine/indian/',\n",
      "             'https://www.simplyrecipes.com/recipes/cuisine/irish/',\n",
      "             'https://www.simplyrecipes.com/recipes/cuisine/italian/',\n",
      "             'https://www.simplyrecipes.com/recipes/cuisine/jamaican/',\n",
      "             'https://www.simplyrecipes.com/recipes/cuisine/japanese/',\n",
      "             'https://www.simplyrecipes.com/recipes/cuisine/jewish/',\n",
      "             'https://www.simplyrecipes.com/recipes/cuisine/korean/',\n",
      "             'https://www.simplyrecipes.com/recipes/cuisine/latin-american/',\n",
      "             'https://www.simplyrecipes.com/recipes/cuisine/mediterranean/',\n",
      "             'https://www.simplyrecipes.com/recipes/cuisine/mexican/',\n",
      "             'https://www.simplyrecipes.com/recipes/cuisine/mexican_and_tex_mex/',\n",
      "             'https://www.simplyrecipes.com/recipes/cuisine/middle-eastern/',\n",
      "             'https://www.simplyrecipes.com/recipes/cuisine/moroccan/',\n",
      "             'https://www.simplyrecipes.com/recipes/cuisine/new_england/',\n",
      "             'https://www.simplyrecipes.com/recipes/cuisine/new_orleans/',\n",
      "             'https://www.simplyrecipes.com/recipes/cuisine/persian/',\n",
      "             'https://www.simplyrecipes.com/recipes/cuisine/polish/',\n",
      "             'https://www.simplyrecipes.com/recipes/cuisine/portuguese/',\n",
      "             'https://www.simplyrecipes.com/recipes/cuisine/provencal/',\n",
      "             'https://www.simplyrecipes.com/recipes/cuisine/puerto-rican/',\n",
      "             'https://www.simplyrecipes.com/recipes/cuisine/southern/',\n",
      "             'https://www.simplyrecipes.com/recipes/cuisine/southwestern/',\n",
      "             'https://www.simplyrecipes.com/recipes/cuisine/spanish/',\n",
      "             'https://www.simplyrecipes.com/recipes/cuisine/swedish/',\n",
      "             'https://www.simplyrecipes.com/recipes/cuisine/texmex/',\n",
      "             'https://www.simplyrecipes.com/recipes/cuisine/thai/',\n",
      "             'https://www.simplyrecipes.com/recipes/cuisine/vietnamese/'],\n",
      " 'Featured': ['https://www.simplyrecipes.com/hub/grill_recipes/',\n",
      "              'https://www.simplyrecipes.com/hub/best_copycat_recipes_restaurant_favorites/',\n",
      "              'https://www.simplyrecipes.com/hub/cookbook_club/',\n",
      "              'https://www.simplyrecipes.com/category/meal-plans/',\n",
      "              'https://www.simplyrecipes.com/category/eat-your-food/',\n",
      "              'https://www.simplyrecipes.com/category/cooking-for-two/',\n",
      "              'https://www.simplyrecipes.com/category/use-it-up/',\n",
      "              'https://www.simplyrecipes.com/category/editors-picks/',\n",
      "              'https://www.simplyrecipes.com/category/pantry-power/',\n",
      "              'https://www.simplyrecipes.com/category/produce-guides/',\n",
      "              'https://www.simplyrecipes.com/category/equipment-guides/'],\n",
      " 'Ingredient': ['https://www.simplyrecipes.com/recipes/main-ingredient/beef/',\n",
      "                'https://www.simplyrecipes.com/recipes/main-ingredient/cheese/',\n",
      "                'https://www.simplyrecipes.com/recipes/main-ingredient/chicken/',\n",
      "                'https://www.simplyrecipes.com/recipes/main-ingredient/egg/',\n",
      "                'https://www.simplyrecipes.com/recipes/main-ingredient/fish/',\n",
      "                'https://www.simplyrecipes.com/recipes/main-ingredient/fish_and_seafood/',\n",
      "                'https://www.simplyrecipes.com/recipes/main-ingredient/fruit/',\n",
      "                'https://www.simplyrecipes.com/recipes/main-ingredient/lamb/',\n",
      "                'https://www.simplyrecipes.com/recipes/main-ingredient/pasta/',\n",
      "                'https://www.simplyrecipes.com/recipes/main-ingredient/pork/',\n",
      "                'https://www.simplyrecipes.com/recipes/main-ingredient/rice/',\n",
      "                'https://www.simplyrecipes.com/recipes/main-ingredient/seafood/',\n",
      "                'https://www.simplyrecipes.com/recipes/main-ingredient/turkey/',\n",
      "                'https://www.simplyrecipes.com/recipes/main-ingredient/vegetables/'],\n",
      " 'Season': ['https://www.simplyrecipes.com/recipes/season/birthday/',\n",
      "            'https://www.simplyrecipes.com/recipes/season/christmas/',\n",
      "            'https://www.simplyrecipes.com/recipes/season/easter/',\n",
      "            'https://www.simplyrecipes.com/recipes/season/fathers-day/',\n",
      "            'https://www.simplyrecipes.com/recipes/season/seasonal_favorites_fall/',\n",
      "            'https://www.simplyrecipes.com/recipes/season/seasonal_favorites_spring/',\n",
      "            'https://www.simplyrecipes.com/recipes/season/seasonal_favorites_summer/',\n",
      "            'https://www.simplyrecipes.com/recipes/season/seasonal_favorites_winter/',\n",
      "            'https://www.simplyrecipes.com/recipes/season/fourth-of-july/',\n",
      "            'https://www.simplyrecipes.com/recipes/season/game-day/',\n",
      "            'https://www.simplyrecipes.com/recipes/season/halloween/',\n",
      "            'https://www.simplyrecipes.com/recipes/season/hanukkah/',\n",
      "            'https://www.simplyrecipes.com/recipes/season/holiday/',\n",
      "            'https://www.simplyrecipes.com/recipes/season/lent/',\n",
      "            'https://www.simplyrecipes.com/recipes/season/mardi-gras/',\n",
      "            'https://www.simplyrecipes.com/recipes/season/mothers_day/',\n",
      "            'https://www.simplyrecipes.com/recipes/season/new-years-day/',\n",
      "            'https://www.simplyrecipes.com/recipes/season/passover/',\n",
      "            'https://www.simplyrecipes.com/recipes/season/st_patricks_day/',\n",
      "            'https://www.simplyrecipes.com/recipes/season/super_bowl/',\n",
      "            'https://www.simplyrecipes.com/recipes/season/thanksgiving/',\n",
      "            'https://www.simplyrecipes.com/recipes/season/valentines_day/'],\n",
      " 'Special Diets': ['https://www.simplyrecipes.com/recipes/diet/allergy-friendly/',\n",
      "                   'https://www.simplyrecipes.com/recipes/diet/dairy-free/',\n",
      "                   'https://www.simplyrecipes.com/recipes/diet/gluten-free/',\n",
      "                   'https://www.simplyrecipes.com/recipes/diet/healthy/',\n",
      "                   'https://www.simplyrecipes.com/recipes/diet/low_carb/',\n",
      "                   'https://www.simplyrecipes.com/recipes/diet/paleo/',\n",
      "                   'https://www.simplyrecipes.com/recipes/diet/vegan/',\n",
      "                   'https://www.simplyrecipes.com/recipes/diet/vegetarian/'],\n",
      " 'Type': ['https://www.simplyrecipes.com/recipes/type/1-pot/',\n",
      "          'https://www.simplyrecipes.com/recipes/type/air-fryer/',\n",
      "          'https://www.simplyrecipes.com/recipes/type/bbq/',\n",
      "          'https://www.simplyrecipes.com/recipes/type/baking/',\n",
      "          'https://www.simplyrecipes.com/recipes/type/budget/',\n",
      "          'https://www.simplyrecipes.com/recipes/type/candy/',\n",
      "          'https://www.simplyrecipes.com/recipes/type/canning/',\n",
      "          'https://www.simplyrecipes.com/recipes/type/casserole/',\n",
      "          'https://www.simplyrecipes.com/recipes/type/comfort_food/',\n",
      "          'https://www.simplyrecipes.com/recipes/type/condiment/',\n",
      "          'https://www.simplyrecipes.com/recipes/type/cookie/',\n",
      "          'https://www.simplyrecipes.com/recipes/type/deep_fried/',\n",
      "          'https://www.simplyrecipes.com/recipes/type/dip/',\n",
      "          'https://www.simplyrecipes.com/recipes/type/freezer-friendly/',\n",
      "          'https://www.simplyrecipes.com/recipes/type/grill/',\n",
      "          'https://www.simplyrecipes.com/recipes/type/how_to/',\n",
      "          'https://www.simplyrecipes.com/recipes/type/instant-pot/',\n",
      "          'https://www.simplyrecipes.com/recipes/type/jams_and_jellies/',\n",
      "          'https://www.simplyrecipes.com/recipes/type/kidfriendly/',\n",
      "          'https://www.simplyrecipes.com/recipes/type/make-ahead/',\n",
      "          'https://www.simplyrecipes.com/recipes/type/microwave/',\n",
      "          'https://www.simplyrecipes.com/recipes/type/pantry-meal/',\n",
      "          'https://www.simplyrecipes.com/recipes/type/pressure-cooker/',\n",
      "          'https://www.simplyrecipes.com/recipes/type/quick/',\n",
      "          'https://www.simplyrecipes.com/recipes/type/restaurant_favorite/',\n",
      "          'https://www.simplyrecipes.com/recipes/type/salsa/',\n",
      "          'https://www.simplyrecipes.com/recipes/type/sauce/',\n",
      "          'https://www.simplyrecipes.com/recipes/type/sheet-pan-dinner/',\n",
      "          'https://www.simplyrecipes.com/recipes/type/skillet-recipe/',\n",
      "          'https://www.simplyrecipes.com/recipes/type/slow_cooker/',\n",
      "          'https://www.simplyrecipes.com/recipes/type/sous-vide/',\n",
      "          'https://www.simplyrecipes.com/recipes/type/stirfry/']}\n"
     ]
    }
   ],
   "source": [
    "import requests\n",
    "from bs4 import BeautifulSoup\n",
    "import pprint\n",
    "\n",
    "res = requests.get(\"https://www.simplyrecipes.com/\")\n",
    "soup = BeautifulSoup(res.text,\"html.parser\")\n",
    "\n",
    "links = {}\n",
    "\n",
    "for div in soup.find(\"div\", class_=\"rnav-menus\").find_all(\"div\", class_=\"rnav-menu\"):\n",
    "    recipe_type = div.find(\"span\").get_text(strip=True)\n",
    "    links[recipe_type] = [i.find(\"a\")[\"href\"] for i in div.find_all(\"li\")]\n",
    "\n",
    "pprint.pprint(links)"
   ]
  },
  {
   "cell_type": "markdown",
   "metadata": {},
   "source": [
    "## Part 2 - code to scrape a recipe's URL."
   ]
  },
  {
   "cell_type": "markdown",
   "metadata": {},
   "source": [
    "#### Notes: we can probably implement this code into a for loop and iterate through whatever structure our complete URL list sits within"
   ]
  },
  {
   "cell_type": "code",
   "execution_count": 14,
   "metadata": {},
   "outputs": [
    {
     "name": "stderr",
     "output_type": "stream",
     "text": [
      "[WDM] - Current google-chrome version is 84.0.4147\n",
      "[WDM] - Get LATEST driver version for 84.0.4147\n",
      "[WDM] - Driver [/Users/williamforsyth/.wdm/drivers/chromedriver/mac64/84.0.4147.30/chromedriver] found in cache\n"
     ]
    },
    {
     "name": "stdout",
     "output_type": "stream",
     "text": [
      " \n"
     ]
    }
   ],
   "source": [
    "# boilerplate code to setup Browser functionality during scrape.\n",
    "executable_path = {'executable_path': ChromeDriverManager().install()}\n",
    "browser = Browser('chrome', **executable_path)"
   ]
  },
  {
   "cell_type": "code",
   "execution_count": 18,
   "metadata": {},
   "outputs": [],
   "source": [
    "from scraper_api import ScraperAPIClient\n",
    "client = ScraperAPIClient('41e7f420344eb4f9359fb9360d4d4708')\n",
    "result = client.get(url = 'https://www.simplyrecipes.com/recipes/cooking_for_two_strawberry_almond_oat_smoothie/')"
   ]
  },
  {
   "cell_type": "code",
   "execution_count": 19,
   "metadata": {},
   "outputs": [],
   "source": [
    "# setting URL for requets\n",
    "# resp = requests.get(\"https://www.simplyrecipes.com/recipes/cooking_for_two_strawberry_almond_oat_smoothie/\")\n",
    "\n",
    "# Initiating HTML parser, using BeautifulSoup\n",
    "soup = BeautifulSoup(result.text, \"html.parser\")\n",
    "\n",
    "# using soup.find to find <div> tags with a class of \"recipe-callout\", that contains each URL recipe\n",
    "div_ = soup.find(\"div\", attrs={\"class\": \"recipe-callout\"})\n",
    "\n",
    "# Firstly finding all H2 classes and setting as the key. Then iterating through every list item class within \"recipe-callout\" and splitting the text as the value for that key\n",
    "recipes = {\"_\".join(div_.find(\"h2\").text.split()):\n",
    "               [x.text for x in div_.findAll(\"li\", attrs={\"class\": \"ingredient\"})]}"
   ]
  },
  {
   "cell_type": "code",
   "execution_count": 20,
   "metadata": {},
   "outputs": [
    {
     "data": {
      "text/plain": [
       "{'Strawberry_Almond_Oat_Smoothie_Recipe': ['1/2 cup uncooked old-fashioned rolled oats',\n",
       "  '2 cups frozen strawberries',\n",
       "  '1 cup plain yogurt (regular or Greek, any fat percentage)',\n",
       "  '1 cup unsweetened vanilla almond milk (or milk of your choice)',\n",
       "  '1/2 medium banana, fresh or frozen, sliced',\n",
       "  '1/4 teaspoon pure almond extract',\n",
       "  '1-2 teaspoons honey (optional)']}"
      ]
     },
     "execution_count": 20,
     "metadata": {},
     "output_type": "execute_result"
    }
   ],
   "source": [
    "recipes"
   ]
  },
  {
   "cell_type": "code",
   "execution_count": null,
   "metadata": {},
   "outputs": [],
   "source": []
  },
  {
   "cell_type": "code",
   "execution_count": null,
   "metadata": {},
   "outputs": [],
   "source": []
  },
  {
   "cell_type": "code",
   "execution_count": null,
   "metadata": {},
   "outputs": [],
   "source": [
    "from scraper_api import ScraperAPIClient\n",
    "client = ScraperAPIClient('41e7f420344eb4f9359fb9360d4d4708')\n",
    "result = client.get(url = 'https://www.simplyrecipes.com/recipes/course/appetizer/').text\n",
    "print(result);"
   ]
  },
  {
   "cell_type": "code",
   "execution_count": null,
   "metadata": {},
   "outputs": [],
   "source": []
  },
  {
   "cell_type": "code",
   "execution_count": null,
   "metadata": {},
   "outputs": [],
   "source": []
  }
 ],
 "metadata": {
  "kernelspec": {
   "display_name": "Python 3",
   "language": "python",
   "name": "python3"
  },
  "language_info": {
   "codemirror_mode": {
    "name": "ipython",
    "version": 3
   },
   "file_extension": ".py",
   "mimetype": "text/x-python",
   "name": "python",
   "nbconvert_exporter": "python",
   "pygments_lexer": "ipython3",
   "version": "3.7.7"
  }
 },
 "nbformat": 4,
 "nbformat_minor": 4
}
