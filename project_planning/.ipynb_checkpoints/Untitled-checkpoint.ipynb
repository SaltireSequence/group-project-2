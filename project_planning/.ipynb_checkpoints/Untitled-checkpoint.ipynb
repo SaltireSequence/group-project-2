{
 "cells": [
  {
   "cell_type": "code",
   "execution_count": 11,
   "metadata": {},
   "outputs": [],
   "source": [
    "# SOURCE: https://github.com/hhursev/recipe-scrapers\n",
    "from recipe_scrapers import scrape_me\n",
    "import re"
   ]
  },
  {
   "cell_type": "code",
   "execution_count": 12,
   "metadata": {},
   "outputs": [],
   "source": [
    "# scraper that takes \n",
    "scraper = scrape_me('https://www.simplyrecipes.com/index/')"
   ]
  },
  {
   "cell_type": "code",
   "execution_count": 13,
   "metadata": {},
   "outputs": [],
   "source": [
    "# returns a list of dictionaries containting all of the <a> tag attributes from the defined website. The attribute names are assigned as dictionary keys and the \n",
    "raw_dict = scraper.links()\n"
   ]
  },
  {
   "cell_type": "code",
   "execution_count": 15,
   "metadata": {},
   "outputs": [],
   "source": [
    "# for loop that iterates through the dictionary\n",
    "result = []\n",
    "for d in raw_dict:\n",
    "    # Iterates through every key in the dictionary\n",
    "    for key, value in d.items():\n",
    "        # If the key is not equal to 'href' and the value doesn't contain ''/recipe' then that pair is skipped.\n",
    "        if key != \"href\" or \"https://www.simplyrecipes.com/recipes/\" not in value:\n",
    "            # Move onto next iteration\n",
    "            continue\n",
    "        txt = ''\n",
    "        # using part of the URL (key value) to determine the key name\n",
    "        for i in re.findall(\"recipes/.*\", value):\n",
    "            txt += i\n",
    "            title = txt.split('/')[1]\n",
    "            # print the new key and value\n",
    "\n",
    "            result.append({title: value})"
   ]
  },
  {
   "cell_type": "code",
   "execution_count": null,
   "metadata": {},
   "outputs": [],
   "source": []
  },
  {
   "cell_type": "code",
   "execution_count": null,
   "metadata": {},
   "outputs": [],
   "source": []
  },
  {
   "cell_type": "code",
   "execution_count": null,
   "metadata": {},
   "outputs": [],
   "source": []
  },
  {
   "cell_type": "code",
   "execution_count": null,
   "metadata": {},
   "outputs": [],
   "source": []
  },
  {
   "cell_type": "code",
   "execution_count": null,
   "metadata": {},
   "outputs": [],
   "source": []
  }
 ],
 "metadata": {
  "kernelspec": {
   "display_name": "Python 3",
   "language": "python",
   "name": "python3"
  },
  "language_info": {
   "codemirror_mode": {
    "name": "ipython",
    "version": 3
   },
   "file_extension": ".py",
   "mimetype": "text/x-python",
   "name": "python",
   "nbconvert_exporter": "python",
   "pygments_lexer": "ipython3",
   "version": "3.7.7"
  }
 },
 "nbformat": 4,
 "nbformat_minor": 4
}
