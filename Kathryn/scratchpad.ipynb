{
 "cells": [
  {
   "cell_type": "code",
   "execution_count": 1,
   "metadata": {},
   "outputs": [],
   "source": [
    "#dependencies\n",
    "from bs4 import BeautifulSoup\n",
    "import requests\n",
    "from splinter import Browser\n",
    "from selenium import webdriver\n",
    "from selenium.webdriver.common.keys import Keys\n",
    "import selenium"
   ]
  },
  {
   "cell_type": "code",
   "execution_count": 2,
   "metadata": {},
   "outputs": [],
   "source": [
    "driver=webdriver.Chrome('../chromedriver.exe')"
   ]
  },
  {
   "cell_type": "code",
   "execution_count": 3,
   "metadata": {},
   "outputs": [],
   "source": [
    "url = \"https://www.simplyrecipes.com/index/\""
   ]
  },
  {
   "cell_type": "code",
   "execution_count": 6,
   "metadata": {},
   "outputs": [],
   "source": [
    "#you may not need this cell\n",
    "driver.get(url) "
   ]
  },
  {
   "cell_type": "code",
   "execution_count": 7,
   "metadata": {},
   "outputs": [],
   "source": [
    "executable_path = {'executable_path': '../chromedriver.exe'}\n",
    "browser = Browser('chrome', **executable_path, headless=False)"
   ]
  },
  {
   "cell_type": "code",
   "execution_count": 8,
   "metadata": {},
   "outputs": [
    {
     "ename": "UnboundLocalError",
     "evalue": "local variable 'e' referenced before assignment",
     "output_type": "error",
     "traceback": [
      "\u001b[1;31m---------------------------------------------------------------------------\u001b[0m",
      "\u001b[1;31mUnboundLocalError\u001b[0m                         Traceback (most recent call last)",
      "\u001b[1;32m<ipython-input-8-6fed26baff97>\u001b[0m in \u001b[0;36m<module>\u001b[1;34m\u001b[0m\n\u001b[1;32m----> 1\u001b[1;33m \u001b[0mbrowser\u001b[0m \u001b[1;33m=\u001b[0m \u001b[0mBrowser\u001b[0m\u001b[1;33m(\u001b[0m\u001b[1;34m'chrome'\u001b[0m\u001b[1;33m,\u001b[0m \u001b[1;34m\"../chromedriver.exe\"\u001b[0m\u001b[1;33m,\u001b[0m \u001b[0mheadless\u001b[0m\u001b[1;33m=\u001b[0m\u001b[1;32mFalse\u001b[0m\u001b[1;33m)\u001b[0m\u001b[1;33m\u001b[0m\u001b[1;33m\u001b[0m\u001b[0m\n\u001b[0m",
      "\u001b[1;32m~\\.conda\\envs\\PythonDataViz\\lib\\site-packages\\splinter\\browser.py\u001b[0m in \u001b[0;36mBrowser\u001b[1;34m(driver_name, retry_count, *args, **kwargs)\u001b[0m\n\u001b[0;32m     88\u001b[0m         \u001b[1;32mraise\u001b[0m \u001b[0mDriverNotFoundError\u001b[0m\u001b[1;33m(\u001b[0m\u001b[1;34m\"No driver for %s\"\u001b[0m \u001b[1;33m%\u001b[0m \u001b[0mdriver_name\u001b[0m\u001b[1;33m)\u001b[0m\u001b[1;33m\u001b[0m\u001b[1;33m\u001b[0m\u001b[0m\n\u001b[0;32m     89\u001b[0m \u001b[1;33m\u001b[0m\u001b[0m\n\u001b[1;32m---> 90\u001b[1;33m     \u001b[1;32mreturn\u001b[0m \u001b[0mget_driver\u001b[0m\u001b[1;33m(\u001b[0m\u001b[0mdriver\u001b[0m\u001b[1;33m,\u001b[0m \u001b[1;33m*\u001b[0m\u001b[0margs\u001b[0m\u001b[1;33m,\u001b[0m \u001b[1;33m**\u001b[0m\u001b[0mkwargs\u001b[0m\u001b[1;33m)\u001b[0m\u001b[1;33m\u001b[0m\u001b[1;33m\u001b[0m\u001b[0m\n\u001b[0m",
      "\u001b[1;32m~\\.conda\\envs\\PythonDataViz\\lib\\site-packages\\splinter\\browser.py\u001b[0m in \u001b[0;36mget_driver\u001b[1;34m(driver, retry_count, *args, **kwargs)\u001b[0m\n\u001b[0;32m     66\u001b[0m             \u001b[1;32mpass\u001b[0m\u001b[1;33m\u001b[0m\u001b[1;33m\u001b[0m\u001b[0m\n\u001b[0;32m     67\u001b[0m \u001b[1;33m\u001b[0m\u001b[0m\n\u001b[1;32m---> 68\u001b[1;33m     \u001b[1;32mraise\u001b[0m \u001b[0me\u001b[0m\u001b[1;33m\u001b[0m\u001b[1;33m\u001b[0m\u001b[0m\n\u001b[0m\u001b[0;32m     69\u001b[0m \u001b[1;33m\u001b[0m\u001b[0m\n\u001b[0;32m     70\u001b[0m \u001b[1;33m\u001b[0m\u001b[0m\n",
      "\u001b[1;31mUnboundLocalError\u001b[0m: local variable 'e' referenced before assignment"
     ]
    }
   ],
   "source": [
    "browser = Browser('chrome', \"../chromedriver.exe\", headless=False)"
   ]
  },
  {
   "cell_type": "code",
   "execution_count": 9,
   "metadata": {},
   "outputs": [],
   "source": [
    "browser.visit(url)"
   ]
  },
  {
   "cell_type": "code",
   "execution_count": 10,
   "metadata": {},
   "outputs": [],
   "source": [
    "response=requests.get(url)"
   ]
  },
  {
   "cell_type": "code",
   "execution_count": 11,
   "metadata": {},
   "outputs": [],
   "source": [
    "soup=BeautifulSoup(response.text,'html.parser')"
   ]
  },
  {
   "cell_type": "code",
   "execution_count": 22,
   "metadata": {},
   "outputs": [],
   "source": [
    "linklist=[]\n",
    "links=soup.find_all('a')\n",
    "for link in links:\n",
    "    linklist.append(link)\n"
   ]
  },
  {
   "cell_type": "code",
   "execution_count": 35,
   "metadata": {},
   "outputs": [],
   "source": [
    "linkindex=[]\n",
    "for (i, link) in enumerate(links):\n",
    "    linkindex.append(f\"{i,} {link.text}\")"
   ]
  },
  {
   "cell_type": "code",
   "execution_count": 45,
   "metadata": {},
   "outputs": [],
   "source": [
    "for i in range(164,1068):\n",
    "    linklist_short= (linklist[i].text)"
   ]
  },
  {
   "cell_type": "code",
   "execution_count": 43,
   "metadata": {},
   "outputs": [
    {
     "name": "stdout",
     "output_type": "stream",
     "text": [
      "['(0,) Shop', '(1,) Home', '(2,) About', '(3,) Recipe Index', '(4,) Simply Recipes on Facebook', '(5,) Simply Recipes on Pinterest', '(6,) Simply Recipes on Twitter', '(7,) Simply Recipes on Instagram', '(8,) Simply Recipes Food and Cooking Blog', '(9,) \\n\\nSaved\\n', '(10,) \\n\\nList\\n', '(11,) \\n\\nSaved\\n', '(12,) \\n\\nShopping List\\n', '(13,) Summer Grilling!', '(14,) Favorite Restaurant Recipes', '(15,) Summer Cookbook Club', '(16,) Weekly Meal Plans', '(17,) Eat Your Food! (Kid-friendly)', '(18,) Cooking for Two', '(19,) Use It Up!', \"(20,) Editors' Picks\", '(21,) Pantry Power', '(22,) Produce Guides', '(23,) Equipment Guides', '(24,) Allergy-Friendly', '(25,) Dairy-Free', '(26,) Gluten-Free', '(27,) Healthy', '(28,) Low Carb', '(29,) Paleo', '(30,) Vegan', '(31,) Vegetarian', '(32,) Beef', '(33,) Cheese', '(34,) Chicken', '(35,) Egg', '(36,) Fish', '(37,) Fish and Seafood', '(38,) Fruit', '(39,) Lamb', '(40,) Pasta and Noodles', '(41,) Pork', '(42,) Rice', '(43,) Seafood', '(44,) Turkey', '(45,) Vegetables', '(46,) Appetizer', '(47,) Breakfast', '(48,) Brunch', '(49,) Dessert', '(50,) Dinner', '(51,) Drink', '(52,) Lunch', '(53,) Salad', '(54,) Sandwich', '(55,) Side Dish', '(56,) Snack', '(57,) Soup', '(58,) Soup and Stew', '(59,) Stew', '(60,) African', '(61,) Basque', '(62,) Belgian', '(63,) Brazilian', '(64,) British', '(65,) Cajun', '(66,) Cambodian', '(67,) Chinese', '(68,) Cowboy', '(69,) Creole', '(70,) Danish', '(71,) Ethiopian', '(72,) French', '(73,) German', '(74,) Greek', '(75,) Hawaiian', '(76,) Hungarian', '(77,) Indian', '(78,) Irish', '(79,) Italian', '(80,) Jamaican', '(81,) Japanese', '(82,) Jewish', '(83,) Korean', '(84,) Latin American', '(85,) Mediterranean', '(86,) Mexican', '(87,) Mexican and Tex Mex', '(88,) Middle Eastern', '(89,) Moroccan', '(90,) New England', '(91,) New Orleans', '(92,) Persian', '(93,) Polish', '(94,) Portuguese', '(95,) Provencal', '(96,) Puerto Rican', '(97,) Southern', '(98,) Southwestern', '(99,) Spanish', '(100,) Swedish', '(101,) TexMex', '(102,) Thai', '(103,) Vietnamese', '(104,) Birthday', '(105,) Christmas', '(106,) Easter', \"(107,) Father's Day\", '(108,) Favorite Fall', '(109,) Favorite Spring', '(110,) Favorite Summer', '(111,) Favorite Winter', '(112,) Fourth of July', '(113,) Game Day', '(114,) Halloween', '(115,) Hanukkah', '(116,) Holiday', '(117,) Lent', '(118,) Mardi Gras', \"(119,) Mother's Day\", \"(120,) New Year's\", '(121,) Passover', \"(122,) St. Patrick's Day\", '(123,) Super Bowl', '(124,) Thanksgiving', \"(125,) Valentine's Day\", '(126,) 1-Pot', '(127,) Air Fryer', '(128,) BBQ', '(129,) Baking', '(130,) Budget', '(131,) Candy', '(132,) Canning', '(133,) Casserole', '(134,) Comfort Food', '(135,) Condiment', '(136,) Cookie', '(137,) Deep Fried', '(138,) Dip', '(139,) Freezer-friendly', '(140,) Grill', '(141,) How To', '(142,) Instant Pot', '(143,) Jams and Jellies', '(144,) Kid-friendly', '(145,) Make-ahead', '(146,) Microwave', '(147,) Pantry Meal', '(148,) Pressure Cooker', '(149,) Quick and Easy', '(150,) Restaurant Favorite', '(151,) Salsa', '(152,) Sauce', '(153,) Sheet Pan Dinner', '(154,) Skillet Recipe', '(155,) Slow Cooker', '(156,) Sous Vide', '(157,) Stir-fry', '(158,) Recipe Index', '(159,) Shop', '(160,) Simply Recipes on Facebook', '(161,) Simply Recipes on Pinterest', '(162,) Simply Recipes on Twitter', '(163,) Simply Recipes on Instagram', '(164,) 1-Pot 207', '(165,) Acorn Squash 4', '(166,) Adobado 1', '(167,) Adobo 1', '(168,) African 8', '(169,) Agua Fresca 4', '(170,) Ahi Tuna 2', '(171,) Air Fryer 14', '(172,) Almond 20', '(173,) Almond Flour 4', '(174,) Almond Milk 4', '(175,) Anchovy 1', '(176,) Angel Hair Pasta 12', '(177,) Announcements 13', '(178,) Appetizer 193', '(179,) Apple 61', '(180,) Apple Cake 7', '(181,) Apple Cider 7', '(182,) Apple Pie 11', '(183,) Applesauce 3', '(184,) Apricot 12', '(185,) Arame 1', '(186,) Artichoke 23', '(187,) Arugula 25', '(188,) Arugula Salad 9', '(189,) Ask the Team 15', '(190,) Asparagus 39', '(191,) Avocado 43', '(192,) Bacon 50', '(193,) Baguette 1', '(194,) Baked Apple 2', '(195,) Baked Beans 6', '(196,) Baking 362', '(197,) Baklava 1', '(198,) Balsamic Vinegar 11', '(199,) Banana 24', '(200,) Banana Bread 12', '(201,) Bar cookie 19', '(202,) Barbecue 16', '(203,) Barbecue Sauce 7', '(204,) Bark 1', '(205,) Barley 5', '(206,) Basil 18', '(207,) Basque 2', '(208,) BBQ 20', '(209,) Bean 86', '(210,) Bean Salad 9', '(211,) Bean Threads 1', '(212,) Beef 158', '(213,) Beef Roast 12', '(214,) Beef Stew 12', '(215,) Beef Tenderloin 1', '(216,) Beer 5', '(217,) Beet 17', '(218,) Beet Salad 6', '(219,) Belgian 3', '(220,) Bell Pepper 26', '(221,) Berry 32', '(222,) Beurre Blanc 1', '(223,) Birthday 14', '(224,) Biscotti 3', '(225,) Biscuit 14', '(226,) Bison 1', '(227,) Bisque 4', '(228,) Black Bean 31', '(229,) Black Eyed Peas 4', '(230,) Blackberry 13', '(231,) Blondie 3', '(232,) Blood Orange 4', '(233,) Blue Cheese 9', '(234,) Blueberry 33', '(235,) Bok Choy 5', '(236,) Bolognese 3', '(237,) Book Reviews 8', '(238,) Bouillon 1', '(239,) Bourbon 16', '(240,) Bourbon Sauce 2', '(241,) Boursin 3', '(242,) Boysenberry 5', '(243,) Braised Beef 9', '(244,) Brandy 5', '(245,) Branzino 1', '(246,) Brazilian 1', '(247,) Bread 52', '(248,) Bread Pudding 4', '(249,) Breakfast 27', '(250,) Breakfast Casserole 14', '(251,) Brie 4', '(252,) Brisket 5', '(253,) British 10', '(254,) Brittle 1', '(255,) Broccoli 28', '(256,) Broccoli Rabe 4', '(257,) Broccolini 2', '(258,) Brown Butter 11', '(259,) Brown Derby 1', '(260,) Brownies 10', '(261,) Brunch 11', '(262,) Bruschetta 2', '(263,) Brussels Sprouts 13', '(264,) Buckwheat 3', '(265,) Budget 165', '(266,) Buffalo 3', '(267,) Bulgur 2', '(268,) Bun 3', '(269,) Bundt Cake 9', '(270,) Burger 23', '(271,) Burrata 1', '(272,) Burrito 2', '(273,) Butter 13', '(274,) Butter Pecan 2', '(275,) Butter Sauce 3', '(276,) Butterflied chicken 3', '(277,) Buttermilk 24', '(278,) Butternut Squash 23', '(279,) Butterscotch 5', '(280,) Cabbage 23', '(281,) Cacciatore 2', '(282,) Cactus 4', '(283,) Cajun 11', '(284,) Cake 62', '(285,) Calamari 2', '(286,) Cambodian 2', '(287,) Campari 4', '(288,) Candy 29', '(289,) Canned Clam 2', '(290,) Canned Salmon 2', '(291,) Canned Sardine 1', '(292,) Canned tomatoes 1', '(293,) Canned Tuna 16', '(294,) Cannellini Bean 14', '(295,) Canning 25', '(296,) Cantaloupe 1', '(297,) Caponata 3', '(298,) Caramel 11', '(299,) Caramelized Onion 13', '(300,) Caraway 5', '(301,) Carbonara 2', '(302,) Cardamom 4', '(303,) Caribbean 3', '(304,) Carne Asada 1', '(305,) Carnitas 2', '(306,) Carrot 25', '(307,) Carrot Salad 5', '(308,) Carrots 3', '(309,) Cashew 5', '(310,) Casserole 97', '(311,) Cassis 1', '(312,) Cauliflower 32', '(313,) Celery 4', '(314,) Celery Root 8', '(315,) Ceviche 3', '(316,) Chai 6', '(317,) Champagne 8', '(318,) Chanterelle 1', '(319,) Chard 1', '(320,) Chayote 1', '(321,) Cheddar 7', '(322,) Cheese 150', '(323,) Cheesecake 15', '(324,) Cherry 15', '(325,) Cherry Tomato 19', '(326,) Chestnut 4', '(327,) Chia Seed 3', '(328,) Chicken 302', '(329,) Chicken Breast 70', '(330,) Chicken Broth 1', '(331,) Chicken Curry 8', '(332,) Chicken Cutlets 2', '(333,) Chicken Drumstick 6', '(334,) Chicken Feet 1', '(335,) Chicken Leg 11', '(336,) Chicken Liver 3', '(337,) Chicken Roulade 4', '(338,) Chicken Salad 14', '(339,) Chicken Soup 22', '(340,) Chicken Stew 13', '(341,) Chicken Stock 7', '(342,) Chicken Tender 4', '(343,) Chicken Thigh 56', '(344,) Chicken Wing 14', '(345,) Chickpea 25', '(346,) Chile Verde 3', '(347,) Chiles 14', '(348,) Chili 20', '(349,) Chili Beans 7', '(350,) Chili Sauce 3', '(351,) Chimichurri 5', '(352,) Chinese 48', '(353,) Chinese Chicken Salad 2', '(354,) Chipotle 16', '(355,) Chocolate 88', '(356,) Chocolate Cake 16', '(357,) Chocolate Chip 21', '(358,) Chocolate Pudding 2', '(359,) Chorizo 9', '(360,) Chow Mein 1', '(361,) Chowder 7', '(362,) Christmas 192', '(363,) Christmas Cookie 39', '(364,) Chuck Roast 4', '(365,) Chutney 5', '(366,) Cider 3', '(367,) Cilantro 11', '(368,) Cinnamon 12', '(369,) Citrus 11', '(370,) Clam 13', '(371,) Clarified Butter 1', '(372,) Cleaning and Organizing 7', '(373,) Cobb Salad 3', '(374,) Cobbler 8', '(375,) Cocktail 63', '(376,) Cocoa 4', '(377,) Cocoa Nibs 1', '(378,) Coconut 17', '(379,) Coconut Milk 12', '(380,) Coconut Oil 2', '(381,) Cod 15', '(382,) Coffee 8', '(383,) Coffee Cake 5', '(384,) Cold Soup 6', '(385,) Coleslaw 10', '(386,) Collard Greens 5', '(387,) Colombian 1', '(388,) Comfort Food 223', '(389,) Compote 1', '(390,) Condiment 60', '(391,) Cookbook Club 16', '(392,) Cookbooks 24', '(393,) Cookie 90', '(394,) Cooking for Two 23', '(395,) Cordial 1', '(396,) Coriander 1', '(397,) Corn 41', '(398,) Corn Salad 5', '(399,) Cornbread 8', '(400,) Corned Beef 13', '(401,) Cornish Game Hen 1', '(402,) Cornmeal 6', '(403,) Cotija 1', '(404,) Cottage Cheese 1', '(405,) Couscous 5', '(406,) Cowboy 3', '(407,) Crab 17', '(408,) Crab Cake 4', '(409,) Crab Cakes 1', '(410,) Crab Salad 3', '(411,) Cranberry 29', '(412,) Cream Cheese 14', '(413,) Cream Pie 7', '(414,) Cream Sauce 3', '(415,) Creme Brulee 1', '(416,) Creole 8', '(417,) Crisp 1', '(418,) Crostini 2', '(419,) Crouton 7', '(420,) Crumble 3', '(421,) Cucumber 24', '(422,) Cucumber Salad 8', '(423,) Cupcake 12', '(424,) Curry 32', '(425,) Custard 10', '(426,) Daikon 1', '(427,) Danish 1', '(428,) Dark chocolate 2', '(429,) Date 7', '(430,) Deep Fried 13', '(431,) Delicata Squash 4', '(432,) Dessert 389', '(433,) Deviled Eggs 10', '(434,) Dijestif 1', '(435,) Dijon 4', '(436,) Dill 1', '(437,) Dinner 986', '(438,) Dinosaur Kale 8', '(439,) Dip 49', '(440,) Donut 3', '(441,) Dr. Pepper 3', '(442,) Dressing 5', '(443,) Drink 120', '(444,) Dry Rub 2', '(445,) Duck 4', '(446,) Dumplings 5', '(447,) Easter 74', '(448,) Eat Your Food 42', '(449,) Edamame 2', \"(450,) Editors' Picks 8\", '(451,) Egg 110', '(452,) Egg Noodles 10', '(453,) Egg Salad 5', '(454,) Eggnog 5', '(455,) Eggplant 21', '(456,) Elderberry 1', '(457,) Empanada 1', '(458,) Enchiladas 9', '(459,) Endive 5', '(460,) English Pea 3', '(461,) Entertaining 9', '(462,) Equipment Guides 15', '(463,) Escabeche 2', '(464,) Escarole 1', '(465,) Ethiopian 2', '(466,) Fajitas 5', '(467,) Family-Friendly 102', '(468,) Farfalle 2', '(469,) Farro 4', \"(470,) Father's Day 53\", '(471,) Fava Bean 3', '(472,) Favorite Fall 202', '(473,) Favorite Spring 96', '(474,) Favorite Summer 331', '(475,) Favorite Winter 147', '(476,) Fennel 16', '(477,) Feta 16', '(478,) Fettuccine 8', '(479,) Fig 6', '(480,) Fish 110', '(481,) Fish and Seafood 202', '(482,) Fish Cakes 7', '(483,) Fish Stew 11', '(484,) Fish Stock 2', '(485,) Flank Steak 14', '(486,) Focaccia 2', '(487,) Fondue 3', '(488,) Fourth of July 117', '(489,) Frankfurter 1', '(490,) Freekeh 1', '(491,) Freezer-friendly 200', '(492,) French 6', '(493,) French Toast 12', '(494,) Fried Chicken 4', '(495,) Fried Egg 2', '(496,) Fried Rice 7', '(497,) Frittata 8', '(498,) Fritters 3', '(499,) Frosting 8', '(500,) Frozen Yogurt 4', '(501,) Fruit 222', '(502,) Fruit Salad 9', '(503,) Fruitcake 1', '(504,) Fudge 1', '(505,) Galette 9', '(506,) Game Day 107', '(507,) Ganache 2', '(508,) Garbanzo Bean 13', '(509,) Garlic 17', '(510,) Gazpacho 4', '(511,) Gelatin 3', '(512,) German 15', '(513,) Gift Guide 20', '(514,) Gin 6', '(515,) Ginger 33', '(516,) Ginger Ale 1', '(517,) Gingerbread 8', '(518,) Gluten-Free 2', '(519,) Gnocchi 7', '(520,) Goat 1', '(521,) Goat Cheese 12', '(522,) Golden Beet 6', '(523,) Goose 1', '(524,) Gorgonzola 4', '(525,) Goulash 1', '(526,) Graham Crackers 3', '(527,) Granola 5', '(528,) Grape 5', '(529,) Grapefruit 7', '(530,) Gratin 8', '(531,) Gravy 9', '(532,) Greek 4', '(533,) Green Bean 22', '(534,) Green Chile 15', '(535,) Green Olive 6', '(536,) Green Onion 3', '(537,) Green Tomato 3', '(538,) Green Vegetables 52', '(539,) Greens 33', '(540,) Grill 133', '(541,) Grilled Cheese Sandwich 14', '(542,) Grilled Chicken 16', '(543,) Grilled Fish 6', '(544,) Grilled Salad 3', '(545,) Grits 4', '(546,) Ground Beef 29', '(547,) Ground Pork 9', '(548,) Ground Turkey 19', '(549,) Gruyere 14', '(550,) Guacamole 9', '(551,) Guinness 7', '(552,) Gumbo 1', '(553,) Haddock 1', '(554,) Halibut 8', '(555,) Halloween 22', '(556,) Ham 33', '(557,) Hamburger 9', '(558,) Hanukkah 21', '(559,) Hard Boiled Egg 15', '(560,) Hash 7', '(561,) Hash Browns 1', '(562,) Hawaiian 5', '(563,) Hazelnut 4', '(564,) Healthy in a Hurry 7', '(565,) Heath Bar 2', '(566,) Heavy Cream 8', '(567,) Hibiscus 2', '(568,) Hijiki 1', '(569,) Holiday 225', '(570,) Hollandaise 3', '(571,) Hominy 5', '(572,) Honey 18', '(573,) Honeydew 1', '(574,) Horseradish 3', '(575,) Hot Dog 9', '(576,) How To 142', '(577,) Huevos 3', '(578,) Hummus 8', '(579,) Hungarian 1', '(580,) Ice Cream 40', '(581,) Indian 28', '(582,) Ingredient Guides 19', '(583,) Instant Pot 60', '(584,) Irish 24', '(585,) Italian 110', '(586,) Italian Sausage 35', '(587,) Jackfruit 2', '(588,) Jalapeno 13', '(589,) Jam 17', '(590,) Jamaican 4', '(591,) Jambalaya 3', '(592,) Jams and Jellies 22', '(593,) Japanese 12', '(594,) Japanese Eggplant 5', '(595,) Jelled Salad 1', '(596,) Jello 3', '(597,) Jelly 8', '(598,) Jerk 4', '(599,) Jerusalem Artichoke 1', '(600,) Jewish 17', '(601,) Jicama 5', '(602,) Juice 2', '(603,) Julia Child 3', '(604,) Kabob 5', '(605,) Kabocha 1', '(606,) Kahlua 2', '(607,) Kale 34', '(608,) Kebab 5', '(609,) Kid-friendly 152', '(610,) Kidney Beans 5', '(611,) Kielbasa 3', '(612,) Kimchi 3', '(613,) Kitchen Tools 40', '(614,) Kiwifruit 1', '(615,) Kohlrabi 2', '(616,) Korean 5', '(617,) Kumquat 2', '(618,) Ladyfingers 1', '(619,) Lamb 28', '(620,) Lamb Shank 6', '(621,) Lamb Stew 10', '(622,) Lasagna 11', '(623,) Latin American 11', '(624,) Lavender 1', '(625,) Leek 11', '(626,) Leftover Ham 9', '(627,) Leftover Turkey 1', '(628,) Lemon 41', '(629,) Lemon Chicken 5', '(630,) Lemon Curd 4', '(631,) Lemon Verbena 1', '(632,) Lemonade 6', '(633,) Lent 88', '(634,) Lentil 10', '(635,) Lentil Stew 3', '(636,) Lettuce 7', '(637,) Lettuce Wraps 7', '(638,) Lima Bean 1', '(639,) Lime 20', '(640,) Limeade 3', '(641,) Ling Cod 2', '(642,) Linguine 6', '(643,) Liver 5', '(644,) Liverwurst 1', '(645,) Lobster 5', '(646,) London Broil 1', '(647,) Lunch 61', '(648,) Mac Cheese 13', '(649,) Macadamia Nut 1', '(650,) Macaroni 11', '(651,) Macaroni Salad 3', '(652,) Make-ahead 329', '(653,) Manchego 1', '(654,) Mandarin Orange 3', '(655,) Mango 17', '(656,) Maple 3', '(657,) Maple Syrup 6', '(658,) Mardi Gras 14', '(659,) Margarita 6', '(660,) Marmalade 5', '(661,) Marsala 3', '(662,) Marshmallow 6', '(663,) Mascarpone 4', '(664,) Mashed Potatoes 10', '(665,) Matzo 4', '(666,) Mayonnaise 3', '(667,) Meal Planning Tips 4', '(668,) Meal Plans 154', '(669,) Meatballs 17', '(670,) Meatloaf 9', '(671,) Mediterranean 13', '(672,) Melon 3', '(673,) Membrillo 1', '(674,) Menu Planner 2', '(675,) Meringue 10', '(676,) Meringue Pie 2', '(677,) Mexican 90', '(678,) Mexican and Tex Mex 136', '(679,) Meyer Lemon 5', '(680,) Microwave 9', '(681,) Middle Eastern 23', '(682,) Milk 6', '(683,) Minestrone 6', '(684,) Mini Pepper 2', '(685,) Mint 31', '(686,) Miso 6', '(687,) Mocktail 4', '(688,) Molasses 14', '(689,) Molded Salad 1', '(690,) Morel 2', '(691,) Moroccan 17', \"(692,) Mother's Day 64\", '(693,) Mousse 3', '(694,) Mozzarella 19', '(695,) Muffin 15', '(696,) Mushroom 53', '(697,) Mushrooms 8', '(698,) Mussel 4', '(699,) Mustard 10', '(700,) Mustard Greens 1', '(701,) Mustard Seed 1', '(702,) Nachos 4', '(703,) Napa Cabbage 4', '(704,) Navy Bean 1', '(705,) Nectarine 2', '(706,) Nettle 1', '(707,) New England 22', '(708,) New Orleans 12', '(709,) New Potatoes 13', \"(710,) New Year's 29\", '(711,) Noodle 8', '(712,) Noodles 5', '(713,) Nopales 3', '(714,) Nut 7', '(715,) Nut Butter 1', '(716,) Nutella 1', '(717,) Oatmeal 15', '(718,) Oatmeal Cookie 6', '(719,) Oats 6', '(720,) Observations 2', '(721,) Octopus 1', '(722,) Okra 5', '(723,) Olive 16', '(724,) Olive Oil 6', '(725,) One Simply Terrific Thing 16', '(726,) Onion 27', '(727,) Orange 22', '(728,) Orange Flower Water 2', '(729,) Orange Peel 1', '(730,) Oreo Cookie 1', '(731,) Orzo 6', '(732,) Oxtail 5', '(733,) Oyster 4', '(734,) Pacific Black Cod 3', '(735,) Pancake 10', '(736,) Pancakes 3', '(737,) Pancetta 5', '(738,) Panini 4', '(739,) Panko 4', '(740,) Pantry Meal 74', '(741,) Pantry Power 19', '(742,) Papaya 1', '(743,) Paprika 5', '(744,) Parmesan 18', '(745,) Parsley 11', '(746,) Parsnip 8', '(747,) Passover 22', '(748,) Pasta and Noodles 166', '(749,) Pasta Salad 13', '(750,) Pasta Sauce 7', '(751,) Pastry 9', '(752,) Pate 5', '(753,) Pate Brisee 3', '(754,) Peach 17', '(755,) Peanut 4', '(756,) Peanut Butter 18', '(757,) Peanut Butter and Jelly 1', '(758,) Pear 16', '(759,) Peas 17', '(760,) Pecan 22', '(761,) Penne 3', '(762,) Pepperjack 2', '(763,) Peppermint 6', '(764,) Pepperoni 4', '(765,) Persian 5', '(766,) Persimmon 4', '(767,) Pesto 29', '(768,) Petrale Sole 2', '(769,) Picadillo 2', '(770,) Pickle 10', '(771,) Picnic Salad 40', '(772,) Pie 49', '(773,) Pie Crust 10', '(774,) Pie Dough 5', '(775,) Pilaf 8', '(776,) Pimento 1', '(777,) Pine Nut 4', '(778,) Pineapple 22', '(779,) Pink Shrimp 1', '(780,) Pinto Bean 1', '(781,) Pinto Beans 4', '(782,) Pistachio 8', '(783,) Pita Bread 4', '(784,) Pizza 25', '(785,) Pizza Dough 4', '(786,) Plantain 3', '(787,) Plum 7', '(788,) Poached Egg 5', '(789,) Poached Eggs 1', '(790,) Poached Salmon 4', '(791,) Poblano 9', '(792,) Polenta 5', '(793,) Polish 1', '(794,) Pomegranate 17', '(795,) Popcorn 3', '(796,) Poppy Seed 4', '(797,) Popsicle 2', '(798,) Porcini 1', '(799,) Pork 151', '(800,) Pork Chops 20', '(801,) Pork Roast 9', '(802,) Pork Shoulder 17', '(803,) Pork Tenderloin 10', '(804,) Porterhouse 1', '(805,) Portuguese 2', '(806,) Pot Pie 2', '(807,) Pot Roast 7', '(808,) Potato Salads 10', '(809,) Potatoes 107', '(810,) Pound Cake 7', '(811,) Pozole 5', '(812,) Preserved Lemons 3', '(813,) Preserves 6', '(814,) Pressure Cooker 2', '(815,) Pretzel 5', '(816,) Produce Guides 35', '(817,) Product Reviews 5', '(818,) Prosciutto 11', '(819,) Provencal 11', '(820,) Prune 1', '(821,) Pudding 15', '(822,) Puerto Rican 9', '(823,) Puff pastry 2', '(824,) Pulled Pork 12', '(825,) Pumpkin 26', '(826,) Pumpkin Pie 2', '(827,) Pumpkin Soup 7', '(828,) Purslane 1', '(829,) Quahog 1', '(830,) Quail 1', '(831,) Quesadilla 15', '(832,) Quiche 12', '(833,) Quick and Easy 651', '(834,) Quick Bread 29', '(835,) Quince 4', '(836,) Quinoa 14', '(837,) Rabbit 5', '(838,) Radicchio 6', '(839,) Radish 4', '(840,) Raisin 6', '(841,) Ramen 3', '(842,) Ramp 2', '(843,) Raspberry 12', '(844,) Ratatouille 2', '(845,) Recipe Collections 142', '(846,) Red Cabbage 3', '(847,) Red Pepper 1', '(848,) Red Snapper 2', '(849,) Red White and Blue 8', '(850,) Refried Beans 7', '(851,) Relish 8', '(852,) Remoulade 5', '(853,) Restaurant Favorite 84', '(854,) Rhubarb 14', '(855,) Rib Roast 1', '(856,) Ribeye 3', '(857,) Ribs 6', '(858,) Rice 79', '(859,) Rice and Beans 6', '(860,) Rice noodle 5', '(861,) Rice Pilaf 8', '(862,) Rice Salad 4', '(863,) Ricotta 20', '(864,) Risotto 14', '(865,) Roast Chicken 14', '(866,) Roast Turkey 3', '(867,) Roasted Red Pepper 5', '(868,) Roll-ups 1', '(869,) Rolls 6', '(870,) Romaine Lettuce 5', '(871,) Romanesco 1', '(872,) Root Beer 2', '(873,) Root Vegetables 11', '(874,) Rose Hip 2', '(875,) Rosemary 2', '(876,) Rotisserie Chicken 11', '(877,) Roulade 3', '(878,) Rum 15', '(879,) Rustic Tart 10', '(880,) Rutabaga 2', '(881,) Sablefish 1', '(882,) Saffron 3', '(883,) Sake 1', '(884,) Salad 206', '(885,) Salad Dressing 13', '(886,) Salmon 54', '(887,) Salsa 32', '(888,) Salsa Verde 13', '(889,) Salt Cod 1', '(890,) Sandwich 71', '(891,) Sandwich Meat 6', '(892,) Sangria 6', '(893,) Sardine 1', '(894,) Sassafras 1', '(895,) Sauce 55', '(896,) Sauerkraut 14', '(897,) Sausage 37', '(898,) Sausage and Sauerkraut 5', '(899,) Savory Tart 3', '(900,) Scallop 5', '(901,) Schnitzel 1', '(902,) Scone 4', '(903,) Scrambled Egg 9', '(904,) Seafood 208', '(905,) Seafood Stew 15', '(906,) Seafood Stock 2', '(907,) Seared Tuna 2', '(908,) Seaweed 1', '(909,) Sesame 11', '(910,) Seville Orange 3', '(911,) Sheet Cake 4', '(912,) Sheet Pan Dinner 19', '(913,) Shellfish 15', \"(914,) Shepherd's Pie 3\", '(915,) Shiitake Mushroom 8', '(916,) Shishito Pepper 1', '(917,) Shopping Alerts 1', '(918,) Short Ribs 3', '(919,) Shortcake 7', '(920,) Shrimp 67', '(921,) Side Dish 384', '(922,) Skewer 9', '(923,) Skillet Recipe 41', '(924,) Skirt Steak 8', '(925,) Slab Pie 1', '(926,) Slow Cooker 40', '(927,) Smoked Paprika 8', '(928,) Smoked Salmon 11', '(929,) Smoothie 10', '(930,) Snack 194', '(931,) Snack Cake 3', '(932,) Snow Peas 2', '(933,) Soba 5', '(934,) Soda Bread 5', '(935,) Sopa de Fideo 2', '(936,) Sorbet 10', '(937,) Souffle 3', '(938,) Soup 151', '(939,) Soup and Stew 208', '(940,) Sourdough Bread 1', '(941,) Sous Vide 19', '(942,) Southern 30', '(943,) Southwestern 41', '(944,) Soybean 1', '(945,) Spaghetti 13', '(946,) Spaghetti Squash 3', '(947,) Spanish 4', '(948,) Spareribs 3', '(949,) Speculoos 1', '(950,) Spice Bread 4', '(951,) Spice Mix 5', '(952,) Spices & Seasonings 6', '(953,) Spinach 43', '(954,) Split peas 2', '(955,) Squash 14', '(956,) Squash Blossom 1', '(957,) Squid 2', '(958,) Squid Ink 1', '(959,) Sriracha 2', \"(960,) St. Patrick's Day 35\", '(961,) Steak 33', '(962,) Stew 61', '(963,) Sticky Buns 1', '(964,) Stir-fry 37', '(965,) Stock 8', '(966,) Strawberry 45', '(967,) Strip Steak 1', '(968,) Stroganoff 6', '(969,) Stuffed Pepper 8', '(970,) Stuffed Zucchini 5', '(971,) Stuffing 6', '(972,) Succotash 2', '(973,) Sugar 7', '(974,) Sugar Cookie 4', '(975,) Sugar Snap Peas 2', '(976,) Summer Squash 9', '(977,) Sun Dried Tomatoes 4', '(978,) Sunflower Seed 2', '(979,) Super Bowl 74', '(980,) Swedish 3', '(981,) Sweet Pepper 3', '(982,) Sweet Potatoes 36', '(983,) Swiss Chard 17', '(984,) Swordfish 3', '(985,) Taco 23', '(986,) Tagine 3', '(987,) Tahini 8', '(988,) Tamale 2', '(989,) Tangerine 1', '(990,) Tapioca 1', '(991,) Tarragon 7', '(992,) Tart 16', '(993,) Tater Tots 1', '(994,) Tea 13', '(995,) Tequila 10', '(996,) Teriyaki 8', '(997,) TexMex 58', '(998,) Thai 9', '(999,) Thanksgiving 143', '(1000,) The Friday Buzz 47', '(1001,) Thyme 1', '(1002,) Tilapia 2', '(1003,) Tips 118', '(1004,) Toast 4', '(1005,) Toffee 5', '(1006,) Tofu 6', '(1007,) Tomatillo 12', '(1008,) Tomato 84', '(1009,) Tomato Sauce 19', '(1010,) Tomato Soup 13', '(1011,) Tongue 1', '(1012,) Top Sirloin 3', '(1013,) Torte 5', '(1014,) Tortellini 4', '(1015,) Tortilla 28', '(1016,) Tostadas 3', '(1017,) Tri tip 3', '(1018,) Trout 1', '(1019,) Truffle 1', '(1020,) Tuile 1', '(1021,) Tuna 23', '(1022,) Tuna Salad 10', '(1023,) Turkey 71', '(1024,) Turkey Leftovers 28', '(1025,) Turkey Soup 6', '(1026,) Turkey Stew 4', '(1027,) Turmeric 18', '(1028,) Turnip 6', '(1029,) Turnover 3', '(1030,) Twice Baked 1', '(1031,) Tzatziki 4', '(1032,) Uncategorized 1390', '(1033,) Upside Down Cake 4', '(1034,) Use It Up! 7', \"(1035,) Valentine's Day 53\", '(1036,) Vanilla 9', '(1037,) Veal 2', '(1038,) Vegetable Oil 2', '(1039,) Vegetable Soup 30', '(1040,) Vegetables 513', '(1041,) Veggie Burger 5', '(1042,) Venison 1', '(1043,) Vermicelli 3', '(1044,) Vichyssoise 2', '(1045,) Video 195', '(1046,) Vietnamese 16', '(1047,) Vinaigrette 12', '(1048,) Vodka 10', '(1049,) Waffle 9', '(1050,) Walnut 31', '(1051,) Watercress 3', '(1052,) Watermelon 7', \"(1053,) What's In Season? 12\", '(1054,) Whipped Cream 7', '(1055,) Whiskey 7', '(1056,) White Bean 21', '(1057,) White Chocolate 6', '(1058,) Whole wheat flour 4', '(1059,) Wild Duck 1', '(1060,) Wild Rice 4', '(1061,) Wine 9', '(1062,) Winter Squash 20', '(1063,) Wraps 2', '(1064,) Yam 7', '(1065,) Yogurt 11', '(1066,) Zinfandel 1', '(1067,) Zucchini 51', '(1068,) Zucchini Noodle 5', '(1069,) Summer Grilling!', '(1070,) Favorite Restaurant Recipes', '(1071,) Summer Cookbook Club', '(1072,) Weekly Meal Plans', '(1073,) Eat Your Food! (Kid-friendly)', '(1074,) Cooking for Two', '(1075,) Use It Up!', '(1076,) Editors’ Picks', '(1077,) Pantry Power', '(1078,) Produce Guides', '(1079,) Equipment Guides', '(1080,) ', '(1081,) Read more about us...', '(1082,) About', '(1083,) Advertise', '(1084,) Privacy Policy', '(1085,) Your California Privacy Rights']\n"
     ]
    }
   ],
   "source": [
    "print (linkindex)"
   ]
  },
  {
   "cell_type": "code",
   "execution_count": null,
   "metadata": {},
   "outputs": [],
   "source": []
  }
 ],
 "metadata": {
  "kernelspec": {
   "display_name": "Python 3.6.10 64-bit ('PythonDataViz': conda)",
   "language": "python",
   "name": "python361064bitpythondatavizcondaed56fc30986a464784f8a472c80ebaf6"
  },
  "language_info": {
   "codemirror_mode": {
    "name": "ipython",
    "version": 3
   },
   "file_extension": ".py",
   "mimetype": "text/x-python",
   "name": "python",
   "nbconvert_exporter": "python",
   "pygments_lexer": "ipython3",
   "version": "3.6.10"
  }
 },
 "nbformat": 4,
 "nbformat_minor": 4
}
