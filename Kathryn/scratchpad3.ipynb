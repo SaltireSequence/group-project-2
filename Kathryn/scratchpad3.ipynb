{
 "cells": [
  {
   "cell_type": "code",
   "execution_count": 6,
   "metadata": {},
   "outputs": [],
   "source": [
    "\n",
    "#dependencies\n",
    "from bs4 import BeautifulSoup\n",
    "import requests\n",
    "from splinter import Browser\n",
    "from selenium import webdriver\n",
    "from selenium.webdriver.common.keys import Keys\n",
    "import selenium\n",
    "import time\n",
    "import csv"
   ]
  },
  {
   "cell_type": "code",
   "execution_count": 78,
   "metadata": {},
   "outputs": [],
   "source": [
    "#set up chromedriver\n",
    "driver=webdriver.Chrome('chromedriver.exe')\n",
    "url = \"https://www.simplyrecipes.com/index/\"\n",
    "driver.get(url) \n",
    "response=requests.get(url)\n",
    "soup=BeautifulSoup(response.text,'html.parser')"
   ]
  },
  {
   "cell_type": "code",
   "execution_count": 8,
   "metadata": {},
   "outputs": [],
   "source": [
    "linklist=[]\n",
    "links=soup.find_all('a')\n",
    "for link in links:\n",
    "    linklist.append(link)\n",
    "linklist_text=[]\n",
    "for i in range(164,1068):\n",
    "    linklist_text.append(linklist[i].text)"
   ]
  },
  {
   "cell_type": "code",
   "execution_count": 9,
   "metadata": {},
   "outputs": [
    {
     "ename": "WebDriverException",
     "evalue": "Message: chrome not reachable\n  (Session info: chrome=84.0.4147.125)\n  (Driver info: chromedriver=2.34.522940 (1a76f96f66e3ca7b8e57d503b4dd3bccfba87af1),platform=Windows NT 10.0.18363 x86_64)\n",
     "output_type": "error",
     "traceback": [
      "\u001b[1;31m---------------------------------------------------------------------------\u001b[0m",
      "\u001b[1;31mWebDriverException\u001b[0m                        Traceback (most recent call last)",
      "\u001b[1;32m<ipython-input-9-539d55357642>\u001b[0m in \u001b[0;36m<module>\u001b[1;34m\u001b[0m\n\u001b[0;32m     18\u001b[0m         \u001b[1;32mexcept\u001b[0m\u001b[1;33m:\u001b[0m\u001b[1;33m\u001b[0m\u001b[1;33m\u001b[0m\u001b[0m\n\u001b[0;32m     19\u001b[0m             \u001b[1;32mcontinue\u001b[0m\u001b[1;33m\u001b[0m\u001b[1;33m\u001b[0m\u001b[0m\n\u001b[1;32m---> 20\u001b[1;33m     \u001b[0mdriver\u001b[0m\u001b[1;33m.\u001b[0m\u001b[0mget\u001b[0m\u001b[1;33m(\u001b[0m\u001b[0murl\u001b[0m\u001b[1;33m)\u001b[0m\u001b[1;33m\u001b[0m\u001b[1;33m\u001b[0m\u001b[0m\n\u001b[0m",
      "\u001b[1;32m~\\.conda\\envs\\PythonDataViz\\lib\\site-packages\\selenium\\webdriver\\remote\\webdriver.py\u001b[0m in \u001b[0;36mget\u001b[1;34m(self, url)\u001b[0m\n\u001b[0;32m    331\u001b[0m         \u001b[0mLoads\u001b[0m \u001b[0ma\u001b[0m \u001b[0mweb\u001b[0m \u001b[0mpage\u001b[0m \u001b[1;32min\u001b[0m \u001b[0mthe\u001b[0m \u001b[0mcurrent\u001b[0m \u001b[0mbrowser\u001b[0m \u001b[0msession\u001b[0m\u001b[1;33m.\u001b[0m\u001b[1;33m\u001b[0m\u001b[1;33m\u001b[0m\u001b[0m\n\u001b[0;32m    332\u001b[0m         \"\"\"\n\u001b[1;32m--> 333\u001b[1;33m         \u001b[0mself\u001b[0m\u001b[1;33m.\u001b[0m\u001b[0mexecute\u001b[0m\u001b[1;33m(\u001b[0m\u001b[0mCommand\u001b[0m\u001b[1;33m.\u001b[0m\u001b[0mGET\u001b[0m\u001b[1;33m,\u001b[0m \u001b[1;33m{\u001b[0m\u001b[1;34m'url'\u001b[0m\u001b[1;33m:\u001b[0m \u001b[0murl\u001b[0m\u001b[1;33m}\u001b[0m\u001b[1;33m)\u001b[0m\u001b[1;33m\u001b[0m\u001b[1;33m\u001b[0m\u001b[0m\n\u001b[0m\u001b[0;32m    334\u001b[0m \u001b[1;33m\u001b[0m\u001b[0m\n\u001b[0;32m    335\u001b[0m     \u001b[1;33m@\u001b[0m\u001b[0mproperty\u001b[0m\u001b[1;33m\u001b[0m\u001b[1;33m\u001b[0m\u001b[0m\n",
      "\u001b[1;32m~\\.conda\\envs\\PythonDataViz\\lib\\site-packages\\selenium\\webdriver\\remote\\webdriver.py\u001b[0m in \u001b[0;36mexecute\u001b[1;34m(self, driver_command, params)\u001b[0m\n\u001b[0;32m    319\u001b[0m         \u001b[0mresponse\u001b[0m \u001b[1;33m=\u001b[0m \u001b[0mself\u001b[0m\u001b[1;33m.\u001b[0m\u001b[0mcommand_executor\u001b[0m\u001b[1;33m.\u001b[0m\u001b[0mexecute\u001b[0m\u001b[1;33m(\u001b[0m\u001b[0mdriver_command\u001b[0m\u001b[1;33m,\u001b[0m \u001b[0mparams\u001b[0m\u001b[1;33m)\u001b[0m\u001b[1;33m\u001b[0m\u001b[1;33m\u001b[0m\u001b[0m\n\u001b[0;32m    320\u001b[0m         \u001b[1;32mif\u001b[0m \u001b[0mresponse\u001b[0m\u001b[1;33m:\u001b[0m\u001b[1;33m\u001b[0m\u001b[1;33m\u001b[0m\u001b[0m\n\u001b[1;32m--> 321\u001b[1;33m             \u001b[0mself\u001b[0m\u001b[1;33m.\u001b[0m\u001b[0merror_handler\u001b[0m\u001b[1;33m.\u001b[0m\u001b[0mcheck_response\u001b[0m\u001b[1;33m(\u001b[0m\u001b[0mresponse\u001b[0m\u001b[1;33m)\u001b[0m\u001b[1;33m\u001b[0m\u001b[1;33m\u001b[0m\u001b[0m\n\u001b[0m\u001b[0;32m    322\u001b[0m             response['value'] = self._unwrap_value(\n\u001b[0;32m    323\u001b[0m                 response.get('value', None))\n",
      "\u001b[1;32m~\\.conda\\envs\\PythonDataViz\\lib\\site-packages\\selenium\\webdriver\\remote\\errorhandler.py\u001b[0m in \u001b[0;36mcheck_response\u001b[1;34m(self, response)\u001b[0m\n\u001b[0;32m    240\u001b[0m                 \u001b[0malert_text\u001b[0m \u001b[1;33m=\u001b[0m \u001b[0mvalue\u001b[0m\u001b[1;33m[\u001b[0m\u001b[1;34m'alert'\u001b[0m\u001b[1;33m]\u001b[0m\u001b[1;33m.\u001b[0m\u001b[0mget\u001b[0m\u001b[1;33m(\u001b[0m\u001b[1;34m'text'\u001b[0m\u001b[1;33m)\u001b[0m\u001b[1;33m\u001b[0m\u001b[1;33m\u001b[0m\u001b[0m\n\u001b[0;32m    241\u001b[0m             \u001b[1;32mraise\u001b[0m \u001b[0mexception_class\u001b[0m\u001b[1;33m(\u001b[0m\u001b[0mmessage\u001b[0m\u001b[1;33m,\u001b[0m \u001b[0mscreen\u001b[0m\u001b[1;33m,\u001b[0m \u001b[0mstacktrace\u001b[0m\u001b[1;33m,\u001b[0m \u001b[0malert_text\u001b[0m\u001b[1;33m)\u001b[0m\u001b[1;33m\u001b[0m\u001b[1;33m\u001b[0m\u001b[0m\n\u001b[1;32m--> 242\u001b[1;33m         \u001b[1;32mraise\u001b[0m \u001b[0mexception_class\u001b[0m\u001b[1;33m(\u001b[0m\u001b[0mmessage\u001b[0m\u001b[1;33m,\u001b[0m \u001b[0mscreen\u001b[0m\u001b[1;33m,\u001b[0m \u001b[0mstacktrace\u001b[0m\u001b[1;33m)\u001b[0m\u001b[1;33m\u001b[0m\u001b[1;33m\u001b[0m\u001b[0m\n\u001b[0m\u001b[0;32m    243\u001b[0m \u001b[1;33m\u001b[0m\u001b[0m\n\u001b[0;32m    244\u001b[0m     \u001b[1;32mdef\u001b[0m \u001b[0m_value_or_default\u001b[0m\u001b[1;33m(\u001b[0m\u001b[0mself\u001b[0m\u001b[1;33m,\u001b[0m \u001b[0mobj\u001b[0m\u001b[1;33m,\u001b[0m \u001b[0mkey\u001b[0m\u001b[1;33m,\u001b[0m \u001b[0mdefault\u001b[0m\u001b[1;33m)\u001b[0m\u001b[1;33m:\u001b[0m\u001b[1;33m\u001b[0m\u001b[1;33m\u001b[0m\u001b[0m\n",
      "\u001b[1;31mWebDriverException\u001b[0m: Message: chrome not reachable\n  (Session info: chrome=84.0.4147.125)\n  (Driver info: chromedriver=2.34.522940 (1a76f96f66e3ca7b8e57d503b4dd3bccfba87af1),platform=Windows NT 10.0.18363 x86_64)\n"
     ]
    }
   ],
   "source": [
    "\n",
    "recipe_list=[]\n",
    "for link in linklist_text:\n",
    "    time.sleep(0.3)\n",
    "    target=driver.find_element_by_partial_link_text(link)\n",
    "    target.click()\n",
    "    time.sleep(0.1)\n",
    "    cards = driver.find_elements_by_class_name(\"grd-title-link\")\n",
    "    for i in range(0,len(cards)):\n",
    "        try:\n",
    "            newcards = driver.find_elements_by_class_name(\"grd-title-link\")\n",
    "            time.sleep(0.3)\n",
    "            newcards[i].click()\n",
    "            time.sleep(0.3)\n",
    "            recipe=driver.find_element_by_id(\"sr-recipe-callout\")\n",
    "            recipe_list.append(recipe.text)\n",
    "            driver.back()\n",
    "            time.sleep(0.3)\n",
    "        except:\n",
    "            continue\n",
    "    nxt=driver.find_elements_by_class_name(\"rpg-next\")\n",
    "    driver.get(url)"
   ]
  },
  {
   "cell_type": "code",
   "execution_count": 15,
   "metadata": {},
   "outputs": [],
   "source": [
    "nxt=driver.find_elements_by_class_name(\"rpg-next\")"
   ]
  },
  {
   "cell_type": "code",
   "execution_count": 17,
   "metadata": {},
   "outputs": [
    {
     "name": "stdout",
     "output_type": "stream",
     "text": [
      "else\n"
     ]
    }
   ],
   "source": [
    "if nxt:\n",
    "    print(nxt)\n",
    "else:\n",
    "    print(\"else\")"
   ]
  },
  {
   "cell_type": "code",
   "execution_count": 21,
   "metadata": {},
   "outputs": [],
   "source": [
    "pages=driver.find_element_by_class_name(\"rpg-show-mobile\")"
   ]
  },
  {
   "cell_type": "code",
   "execution_count": 25,
   "metadata": {},
   "outputs": [],
   "source": [
    "#get last page number\n",
    "pages=driver.find_element_by_class_name(\"rpg-show-mobile\")\n",
    "lastnum=pages.text.split(\" \")[-1]\n",
    "lastpage=int(lastnum)"
   ]
  },
  {
   "cell_type": "code",
   "execution_count": 26,
   "metadata": {},
   "outputs": [
    {
     "data": {
      "text/plain": [
       "11"
      ]
     },
     "execution_count": 26,
     "metadata": {},
     "output_type": "execute_result"
    }
   ],
   "source": [
    "lastpage"
   ]
  },
  {
   "cell_type": "code",
   "execution_count": 72,
   "metadata": {},
   "outputs": [
    {
     "ename": "ValueError",
     "evalue": "invalid literal for int() with base 10: ''",
     "output_type": "error",
     "traceback": [
      "\u001b[1;31m---------------------------------------------------------------------------\u001b[0m",
      "\u001b[1;31mValueError\u001b[0m                                Traceback (most recent call last)",
      "\u001b[1;32m<ipython-input-72-93287823c069>\u001b[0m in \u001b[0;36m<module>\u001b[1;34m\u001b[0m\n\u001b[0;32m     23\u001b[0m         \u001b[0mpages\u001b[0m\u001b[1;33m=\u001b[0m\u001b[0mdriver\u001b[0m\u001b[1;33m.\u001b[0m\u001b[0mfind_element_by_class_name\u001b[0m\u001b[1;33m(\u001b[0m\u001b[1;34m\"rpg-show-mobile\"\u001b[0m\u001b[1;33m)\u001b[0m\u001b[1;33m\u001b[0m\u001b[1;33m\u001b[0m\u001b[0m\n\u001b[0;32m     24\u001b[0m         \u001b[0mlastnum\u001b[0m\u001b[1;33m=\u001b[0m\u001b[0mpages\u001b[0m\u001b[1;33m.\u001b[0m\u001b[0mtext\u001b[0m\u001b[1;33m.\u001b[0m\u001b[0msplit\u001b[0m\u001b[1;33m(\u001b[0m\u001b[1;34m\" \"\u001b[0m\u001b[1;33m)\u001b[0m\u001b[1;33m[\u001b[0m\u001b[1;33m-\u001b[0m\u001b[1;36m1\u001b[0m\u001b[1;33m]\u001b[0m\u001b[1;33m\u001b[0m\u001b[1;33m\u001b[0m\u001b[0m\n\u001b[1;32m---> 25\u001b[1;33m         \u001b[0mlastpage\u001b[0m\u001b[1;33m=\u001b[0m\u001b[0mint\u001b[0m\u001b[1;33m(\u001b[0m\u001b[0mlastnum\u001b[0m\u001b[1;33m)\u001b[0m\u001b[1;33m\u001b[0m\u001b[1;33m\u001b[0m\u001b[0m\n\u001b[0m\u001b[0;32m     26\u001b[0m         \u001b[1;31m#do the following that number of times (number of pages)\u001b[0m\u001b[1;33m\u001b[0m\u001b[1;33m\u001b[0m\u001b[1;33m\u001b[0m\u001b[0m\n\u001b[0;32m     27\u001b[0m         \u001b[1;32mfor\u001b[0m \u001b[0mi\u001b[0m \u001b[1;32min\u001b[0m \u001b[0mrange\u001b[0m\u001b[1;33m(\u001b[0m\u001b[1;36m0\u001b[0m\u001b[1;33m,\u001b[0m\u001b[0mlastpage\u001b[0m\u001b[1;33m-\u001b[0m\u001b[1;36m2\u001b[0m\u001b[1;33m)\u001b[0m\u001b[1;33m:\u001b[0m\u001b[1;33m\u001b[0m\u001b[1;33m\u001b[0m\u001b[0m\n",
      "\u001b[1;31mValueError\u001b[0m: invalid literal for int() with base 10: ''"
     ]
    }
   ],
   "source": [
    "\n",
    "recipe_list=[]\n",
    "for link in linklist_text:\n",
    "    time.sleep(0.3)\n",
    "    target=driver.find_element_by_partial_link_text(link)\n",
    "    target.click()\n",
    "    time.sleep(0.1)\n",
    "    cards = driver.find_elements_by_class_name(\"grd-title-link\")\n",
    "    for i in range(0,len(cards)):\n",
    "        try:\n",
    "            newcards = driver.find_elements_by_class_name(\"grd-title-link\")\n",
    "            time.sleep(0.3)\n",
    "            newcards[i].click()\n",
    "            time.sleep(0.3)\n",
    "            recipe=driver.find_element_by_id(\"sr-recipe-callout\")\n",
    "            recipe_list.append(recipe.text)\n",
    "            driver.back()\n",
    "            time.sleep(0.3)\n",
    "        except:\n",
    "            continue\n",
    "    nxt=driver.find_elements_by_class_name(\"rpg-next\")\n",
    "    if nxt[0]:\n",
    "        #get the number of pages to iterate through\n",
    "        pages=driver.find_element_by_class_name(\"rpg-show-mobile\")\n",
    "        lastnum=pages.text.split(\" \")[-1]\n",
    "        lastpage=int(lastnum)\n",
    "        #do the following that number of times (number of pages)\n",
    "        for i in range(0,lastpage-2):\n",
    "            #click the next button\n",
    "            nxt=driver.find_elements_by_class_name(\"rpg-next\")\n",
    "            nxt[0].click()\n",
    "            try:\n",
    "                newcards = driver.find_elements_by_class_name(\"grd-title-link\")\n",
    "                time.sleep(0.3)\n",
    "                newcards[i].click()\n",
    "                time.sleep(0.3)\n",
    "                recipe=driver.find_element_by_id(\"sr-recipe-callout\")\n",
    "                recipe_list.append(recipe.text)\n",
    "                driver.back()\n",
    "                time.sleep(0.3)\n",
    "            except:\n",
    "                continue\n",
    "        \n",
    "        \n",
    "    driver.get(url)"
   ]
  },
  {
   "cell_type": "code",
   "execution_count": 73,
   "metadata": {},
   "outputs": [
    {
     "data": {
      "text/plain": [
       "'next →'"
      ]
     },
     "execution_count": 73,
     "metadata": {},
     "output_type": "execute_result"
    }
   ],
   "source": [
    "nxt[0].text"
   ]
  },
  {
   "cell_type": "code",
   "execution_count": 38,
   "metadata": {},
   "outputs": [],
   "source": [
    "def getcards():\n",
    "            newcards = driver.find_elements_by_class_name(\"grd-title-link\")\n",
    "            time.sleep(0.3)\n",
    "            newcards[i].click()\n",
    "            time.sleep(0.3)\n",
    "            recipe=driver.find_element_by_id(\"sr-recipe-callout\")\n",
    "            recipe_list.append(recipe.text)\n",
    "            driver.back()\n",
    "            time.sleep(0.3)"
   ]
  },
  {
   "cell_type": "code",
   "execution_count": 39,
   "metadata": {},
   "outputs": [],
   "source": [
    "def getlastpage():\n",
    "        pages=driver.find_element_by_class_name(\"rpg-show-mobile\")\n",
    "        lastnum=pages.text.split(\" \")[-1]\n",
    "        lastpage=int(lastnum)"
   ]
  },
  {
   "cell_type": "code",
   "execution_count": 42,
   "metadata": {},
   "outputs": [],
   "source": [
    "def clicknext():\n",
    "    nxt=driver.find_elements_by_class_name(\"rpg-next\")\n",
    "    nxt[0].click()"
   ]
  },
  {
   "cell_type": "code",
   "execution_count": 82,
   "metadata": {},
   "outputs": [],
   "source": [
    "driver=webdriver.Chrome('chromedriver.exe')\n",
    "url = \"https://www.simplyrecipes.com/index/\"\n",
    "driver.get(url) \n",
    "response=requests.get(url)\n",
    "soup=BeautifulSoup(response.text,'html.parser')\n",
    "driver.get(url)"
   ]
  },
  {
   "cell_type": "code",
   "execution_count": 112,
   "metadata": {},
   "outputs": [
    {
     "ename": "WebDriverException",
     "evalue": "Message: unknown error: Element <a rel=\"nofollow\" class=\"rpg-next rpg-page-numbers\" href=\"https://www.simplyrecipes.com/recipes/type/1-pot/page/2/\">...</a> is not clickable at point (231, 520). Other element would receive the click: <iframe frameborder=\"0\" src=\"https://34912e5744f06fb3b832246925fa9ad5.safeframe.googlesyndication.com/safeframe/1-0-37/html/container.html\" id=\"google_ads_iframe_/11927475/SR_Mobile_Adhesion_0\" title=\"3rd party ad content\" name=\"1-0-37;12910;<!doctype html><html><head><script>var jscVersion = 'r20200805';</script><script>var google_casm=[];</script></head><body leftMargin=&quot;0&quot; topMargin=&quot;0&quot; marginwidth=&quot;0&quot; marginheight=&quot;0&quot;><div class=&quot;GoogleActiveViewInnerContainer&quot;style=&quot;left:0px;top:0px;width:100%;height:100%;position:fixed;pointer-events:none;z-index:-9999;&quot;></div><div style=&quot;display:inline&quot;class=&quot;GoogleActiveViewElement&quot;data-google-av-cxn=&quot;https://pagead2.googlesyndication.com/pcs/activeview?xai=AKAOjstJgSWxVAErTSJjQIHkpa8_dD_11FUn1hwqrDw4vML9R8DyMAZhy543K_pyzHfNvQ43ZU7GrOwm-gORgN3JaPIiPdkIiRNuzsIUxQwNYeHPtwuMbwrn_iL6nr4&amp;amp;sai=AMfl-YS-oOr9wEzTEshi6D0JzQ3pDQm41JQZ7-MvMpBBWFHH0cWdRZhJpyzGlqMwGh3nh0-oSLbN7NvFVJq66dlQxi1qhrt4Xcm-y7l_HVgxVuswfTEs3xH4leFZvNOs&amp;amp;sig=Cg0ArKJSzElEq7Ubj0B0EAE&amp;amp;cid=CAASEuRoy9st2mKZ6XEMwzRgg5warg&quot;data-google-av-adk=&quot;3245814313&quot;data-google-av-metadata=&quot;la=0&amp;amp;xdi=0&amp;amp;&quot;data-google-av-override=&quot;-1&quot;data-google-av-dm=&quot;2&quot;data-google-av-immediate data-google-av-aid=&quot;0&quot;data-google-av-naid=&quot;1&quot;data-google-av-slift=&quot;&quot;data-google-av-cpmav=&quot;&quot;data-google-av-btr=&quot;&quot;data-google-av-itpl=&quot;20&quot;data-google-av-rs=&quot;4&quot;><DIV STYLE=&quot;position: absolute; left: 0px; top: 0px; visibility: hidden;&quot;><IMG SRC=&quot;https://pagead2.googlesyndication.com/pagead/gen_204?id=xbid&amp;dbm_b=AKAmf-Cy83gfvWYXUTJ19zbcOzBM68PeTnVrJG_qfp39BUKj71kdxe3I3qYKl-k_cq30kfyG12boRLFAX-M4vtKzd8g0XBYKw2XRuOzS6Udki55ihMwKNi4&quot; BORDER=0 WIDTH=1 HEIGHT=1 ALT=&quot;&quot; STYLE=&quot;display:none&quot;></DIV><iframe title=&quot;Blank&quot; src=&quot;https://googleads.g.doubleclick.net/xbbe/pixel?d=CLO4XRDz7F4YmNG1gwEwAQ&amp;v=APEucNVcVIv8s2gcPlHXsDWfKXmVOTDW8-P6YeWXPDvuYrgTDNA8SqhM_0mtBJm8MRJmFlCcx4fwHE5mTVSztn7CRprVUKtkFA&quot; style=&quot;display:none&quot; aria-hidden=&quot;true&quot;></iframe><div><div style=&quot;position:relative; display:inline-block;&quot;><script data-jc=&quot;75&quot; data-jc-version=&quot;r20200805&quot;>(function(){/*  Copyright The Closure Library Authors. SPDX-License-Identifier: Apache-2.0 */ 'use strict';var l=this||self;function m(a,c){Array.prototype.forEach.call(a,c,void 0)}function n(a,c){return Array.prototype.map.call(a,c,void 0)}function p(a,c){return Array.prototype.reduce.call(a,c,-1)}function q(a){for(var c=[],d=0;d<a;d++)c[d]=&quot;&quot;;return c};function r(a){r[&quot; &quot;](a);return a}r[&quot; &quot;]=function(){};function t(a,c){if(a)for(const d in a)Object.prototype.hasOwnProperty.call(a,d)&amp;&amp;c.call(void 0,a[d],d,a)}var u=/https?:\\/\\/[^\\/]+/;function v(a){return(a=u.exec(a))&amp;&amp;a[0]||&quot;&quot;};var w=(a=null)=>a&amp;&amp;75==a.getAttribute(&quot;data-jc&quot;)?a:document.querySelector('[data-jc=&quot;75&quot;]');const y=/^https?:\\/\\/(\\w|-)+\\.cdn\\.ampproject\\.(net|org)(\\?|\\/|$)/; function z(){var a=l;const c=[];let d=null,f,b;do{b=a;try{var e;if(e=!!b&amp;&amp;null!=b.location.href)b:{try{r(b.foo);e=!0;break b}catch(k){}e=!1}var h=e}catch(k){h=!1}if(h){var g=b.location.href;d=b.document&amp;&amp;b.document.referrer||null;f=!0}else g=d,d=null,f=!1;c.push(new A(g||&quot;&quot;,b,f));try{a=b.parent}catch(k){a=null}}while(a&amp;&amp;b!=a);for(let k=0,x=c.length-1;k<=x;++k)c[k].depth=x-k;b=l;if(b.location&amp;&amp;b.location.ancestorOrigins&amp;&amp;b.location.ancestorOrigins.length==c.length-1)for(a=1;a<c.length;++a)g=c[a],g.url|| (g.url=b.location.ancestorOrigins[a-1]||&quot;&quot;,g.b=!0);return c}function B(a){a=a||z();let c=new A(l.location.href,l,!0,!1),d=null;const f=a.length-1;for(var b=f;0<=b;--b){var e=a[b];!d&amp;&amp;y.test(e.url)&amp;&amp;(d=e);if(e.url&amp;&amp;!e.b){c=e;break}}b=null;e=a.length&amp;&amp;a[f].url;0!=c.depth&amp;&amp;e&amp;&amp;(b=a[f]);return new C(c,b,d)}var C=class{constructor(a,c,d){this.c=a;this.f=c;this.a=d}},A=class{constructor(a,c,d,f,b){this.url=a;this.b=!!f;this.depth=&quot;number&quot;===typeof b?b:null}};function D(a,c,d,f,b){const e=[];t(a,function(h,g){(h=E(h,c,d,f,b))&amp;&amp;e.push(g+&quot;=&quot;+h)});return e.join(c)}function E(a,c,d,f,b){if(null==a)return&quot;&quot;;c=c||&quot;&amp;&quot;;d=d||&quot;,$&quot;;&quot;string&quot;==typeof d&amp;&amp;(d=d.split(&quot;&quot;));if(a instanceof Array){if(f=f||0,f<d.length){const e=[];for(let h=0;h<a.length;h++)e.push(E(a[h],c,d,f+1,b));return e.join(d[f])}}else if(&quot;object&quot;==typeof a)return b=b||0,2>b?encodeURIComponent(D(a,c,d,f,b+1)):&quot;...&quot;;return encodeURIComponent(String(a))};class F{constructor(a,c){this.a=a;this.depth=c}}var H=()=>{var a=z();const c=Math.max(a.length-1,0);var d=B(a);a=d.c;var f=d.f;const b=d.a,e=[];d=(g,k)=>null==g?k:g;b&amp;&amp;e.push(new F([b.url,b.b?2:0],d(b.depth,1)));f&amp;&amp;f!=b&amp;&amp;e.push(new F([f.url,2],0));a.url&amp;&amp;a!=b&amp;&amp;e.push(new F([a.url,0],d(a.depth,c)));const h=n(e,(g,k)=>e.slice(0,e.length-k));!a.url||(b||f)&amp;&amp;a!=b||(f=v(a.url))&amp;&amp;h.push([new F([f,1],d(a.depth,c))]);h.push([]);return n(h,g=>G(c,g))}; function G(a,c){const d=p(c,(b,e)=>Math.max(b,e.depth)),f=q(d+2);f[0]=a;m(c,b=>f[b.depth+1]=b.a);return f}var I=()=>{const a=H();return n(a,c=>E(c))};function J(a){try{const c=I();c.pop();const d=2083-a.length-5;for(let f=0;f<c.length;f++){const b=encodeURIComponent(c[f]);if(b.length<=d)return setTimeout(()=>{if(!(.01<Math.random())){var e=(e=w(document.currentScript))&amp;&amp;e.getAttribute(&quot;data-jc-version&quot;)||&quot;unknown&quot;;e=`https://${&quot;pagead2.googlesyndication.com&quot;}/pagead/gen_204?id=jca&amp;jc=${75}&amp;version=${e}&amp;sample=${.01}`;var h=window,g;if(g=h.navigator)g=h.navigator.userAgent,g=/Chrome/.test(g)&amp;&amp;!/Edge/.test(g)?!0:!1;g&amp;&amp;h.navigator.sendBeacon?h.navigator.sendBeacon(e): (h.google_image_requests||(h.google_image_requests=[]),g=h.document.createElement(&quot;img&quot;),g.src=e,h.google_image_requests.push(g))}},0),a+&quot;&amp;rfl=&quot;+b}return a}catch(c){}return a}var K=[&quot;rfl&quot;],L=l;K[0]in L||&quot;undefined&quot;==typeof L.execScript||L.execScript(&quot;var &quot;+K[0]);for(var M;K.length&amp;&amp;(M=K.shift());)K.length||void 0===J?L[M]&amp;&amp;L[M]!==Object.prototype[M]?L=L[M]:L=L[M]={}:L[M]=J;}).call(this);</script><script>var url = 'https://googleads.g.doubleclick.net/dbm/ad?dbm_c=AKAmf-BnEKNi7AlyNuvLslMwVVac4W1aQSXYwroNUt5a9PbGXiCbnNqL3iFEBLrBP3NKxmdq9hh8zE9qPSniu2Tnhq6TKjauKOi3nw3qEfN3KukuMT98Wm8-1BEeyoiaXWLGj1itVSfJmTX9Lx_fi9XaLTYrUTnA7Q&amp;dbm_d=AKAmf-BhBc03QnhwOmDyPhJq5bS77RMldxTB7nFpuaixL5qYpWLxSlp9nRF2QZsGTL0XmuuQNJ0RYT5wWlTuApLgoG-dbDn0IwJXYbrJtGASA8o0WpnXlJN1IvCdOgSVITXZJI0x9e4ONEbq42WQa9qEMagsKdnBNVqriUcMClDxWugWwE8R4YDlcacoJ_iQywxfTVqQY3Ecbf_BHaLCPc4d0uyoBU3S5_0znHzw693MYNYROMhzROkf8DMEugndatzhHkrsgAb-0CseXn7WoQ0_R6dEht4eykFsW4_Ykj_C9Ec2eqhuw4h1wQtWJjMj0W1ZZLCGmrFM68qZig4TiRAobZd6jlMUN8hWTpK3P3M-Z-vaBwDPkGkX18dWUXzc2Ac3hs3XSoOpfNdcxpl9xJXnPmhSvl_IkmE11N3UGpKaLHoN0aIe9vZW07EcGtyX_HyECDUr7molZcG8YNjY2l-Ms4tMHQWu3v_ERRW9O8omMUb1kQO4a-K_JIlCyxmq1l7OWF0vVA7sC7y1ASi2pQCcO1qKVJVAFsszFp5o0Jpn5pey5gXjkuOlTI30h4CVzXPw3v-pfPORc8LZrouEKlqUtd2heRP72onF1jqSubvZGEmRvrh5VRiirZ08G79zS-FHzAi8IT66GGd44x_cQ09MIMiJkgZ_ma1cu22GiOTsrp_91grSCBt-yyR1o9JY44UEzreCtGNsVpZr4H6ZdwtyHoeNfcY6umJUffrq9nHZyLyOlEzEIDVbmobKzZ6Ne7QNaWRjU3ISXTmRSqVw4Y4YBrqDf55PPy_CsZAP9O8nnUzs0SK2BlhLYXs_Tk3p8vUGD3-IvYdimfBzi0FRDEVUilWpDNHExnnu8_N794y3qbVmdErHVhsZOS949Kb61ZSFo8lLScJ30tLw10SMfXFjCYgKpfTx7-oGrPQRr4AuyFpSJqqgsVZXrJU1pcD0yKYsk0NsZ0Jbjp8K7oxbv1w4om85J2F-l_iBQ2LMNHUPtLaqOquwwaO94Mfe5S781aEgMIJFhdbCMyPLfKd1Vhi3HdhsT3B5e65WKZR9ozKKh5aoM9JKBWd9mO_ikh4TGF__Ef1c3C28IVXFG_j3YcZ2o4obJqXi0pf0423F0B2BF2uJ2_dsaalU2dcVAbFfzC2eZtx08vQuAna0eYksLH64ZNHOdlVYXQ2oFps6AalmdudAeyPR1sHUzSXPEWZTlyT-4EAD3ACTM4FIdRYSRIpQPvxT6bsWahxwFnVq-6L72VpYFkLbAiZzb_E_rxghPLDcCDZEu-UfkBKixOI2dLoDDKqObrlFanOOY-9vQuax0pBTINOVPsJwbtC9xo5fKIEo78iQN-xjhafnIq82LuZOtOqxrxkb2BP-GFk5AX_jceprgSaat112JuHgGbAYJ6rv2L6XxI3I1NgHn44ucI6mtOOkEAz_miPfMkEscIv4g7ITgZ-B2_WIrRHr3Dfta7f_tohaysUDVyD8G0akp71GikeeF1tou--Xvn5AQpHAsPvK88g_clX7dKoU41OouHyhRXAFLZQY2c4eLo6ZpPmF08RsE2kTG1OAqtU13jG4DQ25lpRemCpjq2Z_V62Clo8RRTkFIX-xG0KEWtJWOxgnaLF_Gy8Z3GslzGnjt3x94i2U2xtI5Ku8eveDGfeq1vhnCRFL_QvqNq0YlfgdmhuiZc2WAhxokRBrDNXm7jE5sd2bkXcX1VXV2eXrJRqLIW5zyt794-tbTiE2s_V791jD9oiUmHaHdAA9dbiJMGtN2rf53E1gMo7VfPzgMi9eCimGBfDyvhqXgMf24YkgcN_h6JwCR5xOZ97V5V5q1OXltWLgiYVwM_XSyRwMvdn51WBBtGIx133iAWx-axN5b7wxVFqfI-fe8jFsZZ7-LEGOZ3tx5HET0LR_PBTxud3i68FNXvXL2Jp1wHtZXeRdD76CeuY0vpO5IW1rkXMrl6JleNqH0c0au3XqOPsEISP04VfVRtfU2_avQ89DrF2B5F4mjlKoOHRzoxlHKbJ8lWbHqOg7P40JTobd7usyUtM2oKIG2X0COlLF6WCJda-0nQTQd6rA33QDn9_sloYq24nG0M3Fj2A_RtKL8bJHWr99KaWRmHOdBS9h4EQL4-mOCMJ50oW4JFfaM5B7wAsPqiEIFkW2nZrVqYwTJwxsxeFxa6q7J5dh7MZntA4UFVTaFzXodNywQS7833HYycS9EA6F5DLCYsDowhhGofq4S3oWZ-at9LttVQjmehdzDTZoj0Uf47VdrocEckRoZL2UnCQAU9zjUPlq7R0TLJfG8v4Jmm8ZOafvmItCcavh5QeFeQNY7cqLt-9NU7e5YHqmyM0uxEXwM6pOMpiHIvxduaqGe3lqf0t1TBh2y7qJBOeRPYUkOrqEvSuya4GhlDlIX3IEy02fWLnya6ZOepW7KIavAcHJZCZlUMAg7nYdogJIPqs-UQdEdt3EhyBsniyBQQADufT8jumNwQBqED79fueKRfF50yQSIwV6-TlvsZCgZ7oMMTT4lCuMAtUyTBA1PUwoEdloOMEmmfSrxBtRUzyp95WcE6YiyuiVNysM8dVhi7stw6pYZEqi-edAXtr2D_HL0fSxdeT8yeNziDC2dAVbqNcAPbs9kiYiNjMTdnM0MM_5gUjZfZ77Lw&amp;cid=CAASEuRoy9st2mKZ6XEMwzRgg5warg';document.write('<script src=&quot;' + (window.rfl ? window.rfl(url) : url) + '&quot;></s' + 'cript>');</script></div></div></div><script data-jc=&quot;22&quot; src=&quot;https://tpc.googlesyndication.com/pagead/js/r20200805/r20110914/client/window_focus_fy2019.js&quot; async data-jc-version=&quot;r20200805&quot; data-jcp-url=&quot;https://googleads.g.doubleclick.net/pagead/conversion/?ai=CIggsoZczX9XCLoid-gOivruQA4n55-1dqOD-ybQMj52CrcsEEAEg89eGI2DJjviGyKP8GqABvL3SmQPIAQmoAwHIA5sEqgTAAU_QcARz2houttLo2qKe9ZtDVStr7y0OAz6JvL41XiHxdvNCZG6Oa53wB4s6yH0e1JygKjnFrZDavCyBcNtynrhZkfoYQlh-nJmb2NnW8tg8pRdU7aREYQj9_SnQoH125hf1MHITw8qqSgR3zVf0ZBQOImTCVO-dAeFyA1vgMk3DkITxDNpE5T30mVFfaN-UgBn0EjSizxOAU-tI_QvbAmkLFXQbEiZtTdKpa8wgfKM9fwtIYd-lYdYB-a-1q7cSX8AEtN3Yy58D4AQDkAYBoAZMgAeswq1mqAeOzhuoB9XJG6gHk9gbqAe6BqgH8NkbqAfy2RuoB-zVG6gHpr4bqAfs1RuoB_PRG6gHltgbqAfC2hvYBwDSCAcIgGEQARgdgAoDmAsByAsBgAwBsBPC26EJ0BMA2BMLiBQB2BQB&amp;amp;sigh=uId5ypf0FI0&amp;amp;cid=CAQSPACNIrLMl3Q0WM-mP0EbE9x08JtzwC-VjSkFtsXX0s3iE75hC4oTO33EbG9Y-rXcffYoaKpx7Tek3Z-oSQ&quot; data-jcp-gws-id=&quot;&quot; data-jcp-qem-id=&quot;CJWX4OOPlesCFYiOfgodIt8OMg&quot;></script><iframe title=&quot;Blank&quot; scrolling=&quot;no&quot; frameborder=0 height=0 width=0 src=&quot;https://pagead2.googlesyndication.com/pagead/s/cookie_push_onload.html#aHR0cHM6Ly9zeW5jLm1hdGh0YWcuY29tL3N5bmMvaW1nP210X2V4aWQ9NCZnb29nbGVfcHVzaD1BUXZpdFVJODdLdkdRZFVaSFhkSkwwYWd5V1ZsRmpONEcybWtiWjcyQWRoejV2YWNudlRGbGU4SUV6UHhGdldiNWpneDFpVnI4eldwbnE2cEhYU25LTW5KN3BwWFFZVVVqWEd0,aHR0cHM6Ly9tYXRjaC5hZHNydnIub3JnL3RyYWNrL2NtZi9nb29nbGU_Z29vZ2xlX3B1c2g9QVF2aXRVTDFycnlfaEtkUm1WOUZFNTNSejlUSUhzbThYWG5kaW1PeURheGRWZFY3NjRfd2UzbVV2MVJId2ZMbTBwSU5BVnRCdXdFM3U1SkU4MjFmWkNOdTVwZ0JsT1B1YzBV,aHR0cHM6Ly9tYWduZXRpYy50LmRvbWRleC5jb20vc3luYy9nb29nbGUvP2dvb2dsZV9wdXNoPUFRdml0VUlSdmYtOXRNRDdBclB3dnlGcHpVQVhodjhWNGFYNnJfUC1zNHAwckVuNG5hdnRHdndBellMQXZLR2lydS1jZjNCUGtrbXJ5QkpFTjFzdl9YT2pfNExpLXI5eEhOLXo=,aHR0cHM6Ly9jMS5hZGZvcm0ubmV0L3NlcnZpbmcvY29va2llL21hdGNoLz9wYXJ0eT0xJmdvb2dsZV9wdXNoPUFRdml0VUlwTUJ4dXEwaVBOdy1KODVZWVlvOWt5b0JxRUctRVlrcUJrQ3BCVFhNLVBNU2FwQ1BEYXFTUW9rSmhjYXNiaVRGRUhiNWtWQ2tXWk5Hd254WUZjblREaEM5cVJ6SQ==,aHR0cHM6Ly9jcy5jaG9jb2xhdGVwbGF0Zm9ybS5jb20vcHViP3BpZD1lYmRhJmdvb2dsZV9wdXNoPUFRdml0VUxTUHIzRzFYTHhCUXhUcWxBQmhKeXRjdW5BbWV0OVZBT1N3M0YydHlmczdfNTRSMDU1aTI3RmZwM0dtMEdvN3JEWUVocmtPRG9oNEg2MDI0UWQwUGgxblRmcHFlM1A=,aHR0cHM6Ly9zMC4ybWRuLm5ldC9kb3QuZ2lmP2dvb2dsZV9wdXNoPUFRdml0VUw1OGItNEFmMU9FOU1EYWYxbElCcDNrRkFETFQ5UElUSnl3eHlQTU44elliQzJ5eTlLN01uenhDUWlBajk1ZGZ2WEZIdUw3V3lQWjB5dnNYRVV5bG56Wi1WaHp3d2xWZw==,aHR0cHM6Ly9jbS5nLmRvdWJsZWNsaWNrLm5ldC9waXhlbC9hdHRyP2Q9QUhORjEzSmpKeGlyNUZNaVQ5emJTTzY3MDNZOTRCcjl4dWpTTmtCQ0VmbnYzMk9oTlhkc1NmQlNPejVGRW5ldHZsNkVvTms=&quot;  style=&quot;position:absolute&quot; aria-hidden=&quot;true&quot;></iframe><script src=&quot;https://www.googletagservices.com/activeview/js/current/osd_listener.js?cache=r20110914&quot;></script><script type=&quot;text/javascript&quot;>osdlfm(-1,'','BR7VkoZczX9XCLoid-gOivruQAwCo4P7JtAwAABABOAHIAQnIA5sE4AQDoAZM0ggFCIBhEAHCEwYYvL3SmQM','',3245814313,true,'la\\x3d0\\x26xdi\\x3d0\\x26',3,'CAASEuRoy9st2mKZ6XEMwzRgg5warg','https://pagead2.googlesyndication.com/pcs/activeview?xai\\x3dAKAOjstJgSWxVAErTSJjQIHkpa8_dD_11FUn1hwqrDw4vML9R8DyMAZhy543K_pyzHfNvQ43ZU7GrOwm-gORgN3JaPIiPdkIiRNuzsIUxQwNYeHPtwuMbwrn_iL6nr4\\x26sai\\x3dAMfl-YS-oOr9wEzTEshi6D0JzQ3pDQm41JQZ7-MvMpBBWFHH0cWdRZhJpyzGlqMwGh3nh0-oSLbN7NvFVJq66dlQxi1qhrt4Xcm-y7l_HVgxVuswfTEs3xH4leFZvNOs\\x26sig\\x3dCg0ArKJSzElEq7Ubj0B0EAE\\x26cid\\x3dCAASEuRoy9st2mKZ6XEMwzRgg5warg','');</script><script data-jc=&quot;23&quot; src=&quot;https://tpc.googlesyndication.com/pagead/js/r20200805/r20110914/client/qs_click_protection_fy2019.js&quot; data-jc-version=&quot;r20200805&quot;></script><script>googqscp.init([[[[null,500,99,2,9,null,null,null,1]]],null,null,null,null,null,null,null,null,null,null,1]);</script><img src=&quot;//www.google.com/ads/measurement/l?ebcid=ALh7CaTicuC3r4krBTS_T5xXLNiGKSYbj4BzWg5b80oQtZZ3N7D4Dqj9pszO0KJwufcaZbygJStbIg31Vw6GqnszvCMicnDbCw&quot; style=&quot;display:none;&quot; alt=&quot;&quot;></img><div style=&quot;bottom:0;right:0;width:320px;height:50px;background:initial !important;position:absolute !important;max-width:100% !important;max-height:100% !important;pointer-events:none !important;image-rendering:pixelated !important;z-index:2147483647;background-image:url('data:image/png;base64,iVBORw0KGgoAAAANSUhEUgAAACsAAAAWBAMAAACrl3iAAAAABlBMVEUAAAD+AciWmZzWAAAAAnRSTlMAApidrBQAAAB7SURBVBjTbVEJDsAwCMIf8P/Xrh6obWYyjSkiMuA/LOPU3QGMV8/kdI4z2NTI/sID8wxOt1G40OKugeSWEvGXkg4669aNRqK5N4y1QlOCaTKV5vbUHhVph/UMHiWJigs4urG/+8rlYbsgHa+DvWGj9XdebupY3g7qRo8PH3YFYEvWAxcAAAAASUVORK5CYII=') !important;&quot;></div></body></html>{&quot;uid&quot;:&quot;4&quot;,&quot;hostPeerName&quot;:&quot;https://www.simplyrecipes.com&quot;,&quot;initialGeometry&quot;:&quot;{\\&quot;windowCoords_t\\&quot;:10,\\&quot;windowCoords_r\\&quot;:1060,\\&quot;windowCoords_b\\&quot;:670,\\&quot;windowCoords_l\\&quot;:10,\\&quot;frameCoords_t\\&quot;:10154.666687011719,\\&quot;frameCoords_r\\&quot;:392.33333587646484,\\&quot;frameCoords_b\\&quot;:10204.666687011719,\\&quot;frameCoords_l\\&quot;:72.33333587646484,\\&quot;styleZIndex\\&quot;:\\&quot;auto\\&quot;,\\&quot;allowedExpansion_t\\&quot;:474.66668701171875,\\&quot;allowedExpansion_r\\&quot;:72.66666412353516,\\&quot;allowedExpansion_b\\&quot;:4.33331298828125,\\&quot;allowedExpansion_l\\&quot;:72.33333587646484,\\&quot;xInView\\&quot;:1,\\&quot;yInView\\&quot;:1}&quot;,&quot;permissions&quot;:&quot;{\\&quot;expandByOverlay\\&quot;:false,\\&quot;expandByPush\\&quot;:false,\\&quot;readCookie\\&quot;:false,\\&quot;writeCookie\\&quot;:false}&quot;,&quot;metadata&quot;:&quot;{\\&quot;shared\\&quot;:{\\&quot;sf_ver\\&quot;:\\&quot;1-0-37\\&quot;,\\&quot;ck_on\\&quot;:1,\\&quot;flash_ver\\&quot;:\\&quot;0\\&quot;}}&quot;,&quot;reportCreativeGeometry&quot;:false,&quot;isDifferentSourceWindow&quot;:false,&quot;goog_safeframe_hlt&quot;:{},&quot;encryptionMode&quot;:null}\" scrolling=\"no\" marginwidth=\"0\" marginheight=\"0\" width=\"320\" height=\"50\" data-is-safeframe=\"true\" sandbox=\"allow-forms allow-popups allow-popups-to-escape-sandbox allow-same-origin allow-scripts allow-top-navigation-by-user-activation\" data-google-container-id=\"4\" style=\"border: 0px; vertical-align: bottom;\"></iframe>\n  (Session info: chrome=84.0.4147.125)\n  (Driver info: chromedriver=2.34.522940 (1a76f96f66e3ca7b8e57d503b4dd3bccfba87af1),platform=Windows NT 10.0.18363 x86_64)\n",
     "output_type": "error",
     "traceback": [
      "\u001b[1;31m---------------------------------------------------------------------------\u001b[0m",
      "\u001b[1;31mWebDriverException\u001b[0m                        Traceback (most recent call last)",
      "\u001b[1;32m<ipython-input-112-47627a9e5f15>\u001b[0m in \u001b[0;36m<module>\u001b[1;34m\u001b[0m\n\u001b[0;32m     30\u001b[0m             \u001b[0mtime\u001b[0m\u001b[1;33m.\u001b[0m\u001b[0msleep\u001b[0m\u001b[1;33m(\u001b[0m\u001b[1;36m0.3\u001b[0m\u001b[1;33m)\u001b[0m\u001b[1;33m\u001b[0m\u001b[1;33m\u001b[0m\u001b[0m\n\u001b[0;32m     31\u001b[0m             \u001b[1;31m#click next\u001b[0m\u001b[1;33m\u001b[0m\u001b[1;33m\u001b[0m\u001b[1;33m\u001b[0m\u001b[0m\n\u001b[1;32m---> 32\u001b[1;33m             \u001b[0mnxt\u001b[0m\u001b[1;33m[\u001b[0m\u001b[1;36m0\u001b[0m\u001b[1;33m]\u001b[0m\u001b[1;33m.\u001b[0m\u001b[0mclick\u001b[0m\u001b[1;33m(\u001b[0m\u001b[1;33m)\u001b[0m\u001b[1;33m\u001b[0m\u001b[1;33m\u001b[0m\u001b[0m\n\u001b[0m\u001b[0;32m     33\u001b[0m             \u001b[1;31m#try to get the cards\u001b[0m\u001b[1;33m\u001b[0m\u001b[1;33m\u001b[0m\u001b[1;33m\u001b[0m\u001b[0m\n\u001b[0;32m     34\u001b[0m             \u001b[0mcards2\u001b[0m \u001b[1;33m=\u001b[0m \u001b[0mdriver\u001b[0m\u001b[1;33m.\u001b[0m\u001b[0mfind_elements_by_class_name\u001b[0m\u001b[1;33m(\u001b[0m\u001b[1;34m\"grd-title-link\"\u001b[0m\u001b[1;33m)\u001b[0m\u001b[1;33m\u001b[0m\u001b[1;33m\u001b[0m\u001b[0m\n",
      "\u001b[1;32m~\\.conda\\envs\\PythonDataViz\\lib\\site-packages\\selenium\\webdriver\\remote\\webelement.py\u001b[0m in \u001b[0;36mclick\u001b[1;34m(self)\u001b[0m\n\u001b[0;32m     78\u001b[0m     \u001b[1;32mdef\u001b[0m \u001b[0mclick\u001b[0m\u001b[1;33m(\u001b[0m\u001b[0mself\u001b[0m\u001b[1;33m)\u001b[0m\u001b[1;33m:\u001b[0m\u001b[1;33m\u001b[0m\u001b[1;33m\u001b[0m\u001b[0m\n\u001b[0;32m     79\u001b[0m         \u001b[1;34m\"\"\"Clicks the element.\"\"\"\u001b[0m\u001b[1;33m\u001b[0m\u001b[1;33m\u001b[0m\u001b[0m\n\u001b[1;32m---> 80\u001b[1;33m         \u001b[0mself\u001b[0m\u001b[1;33m.\u001b[0m\u001b[0m_execute\u001b[0m\u001b[1;33m(\u001b[0m\u001b[0mCommand\u001b[0m\u001b[1;33m.\u001b[0m\u001b[0mCLICK_ELEMENT\u001b[0m\u001b[1;33m)\u001b[0m\u001b[1;33m\u001b[0m\u001b[1;33m\u001b[0m\u001b[0m\n\u001b[0m\u001b[0;32m     81\u001b[0m \u001b[1;33m\u001b[0m\u001b[0m\n\u001b[0;32m     82\u001b[0m     \u001b[1;32mdef\u001b[0m \u001b[0msubmit\u001b[0m\u001b[1;33m(\u001b[0m\u001b[0mself\u001b[0m\u001b[1;33m)\u001b[0m\u001b[1;33m:\u001b[0m\u001b[1;33m\u001b[0m\u001b[1;33m\u001b[0m\u001b[0m\n",
      "\u001b[1;32m~\\.conda\\envs\\PythonDataViz\\lib\\site-packages\\selenium\\webdriver\\remote\\webelement.py\u001b[0m in \u001b[0;36m_execute\u001b[1;34m(self, command, params)\u001b[0m\n\u001b[0;32m    631\u001b[0m             \u001b[0mparams\u001b[0m \u001b[1;33m=\u001b[0m \u001b[1;33m{\u001b[0m\u001b[1;33m}\u001b[0m\u001b[1;33m\u001b[0m\u001b[1;33m\u001b[0m\u001b[0m\n\u001b[0;32m    632\u001b[0m         \u001b[0mparams\u001b[0m\u001b[1;33m[\u001b[0m\u001b[1;34m'id'\u001b[0m\u001b[1;33m]\u001b[0m \u001b[1;33m=\u001b[0m \u001b[0mself\u001b[0m\u001b[1;33m.\u001b[0m\u001b[0m_id\u001b[0m\u001b[1;33m\u001b[0m\u001b[1;33m\u001b[0m\u001b[0m\n\u001b[1;32m--> 633\u001b[1;33m         \u001b[1;32mreturn\u001b[0m \u001b[0mself\u001b[0m\u001b[1;33m.\u001b[0m\u001b[0m_parent\u001b[0m\u001b[1;33m.\u001b[0m\u001b[0mexecute\u001b[0m\u001b[1;33m(\u001b[0m\u001b[0mcommand\u001b[0m\u001b[1;33m,\u001b[0m \u001b[0mparams\u001b[0m\u001b[1;33m)\u001b[0m\u001b[1;33m\u001b[0m\u001b[1;33m\u001b[0m\u001b[0m\n\u001b[0m\u001b[0;32m    634\u001b[0m \u001b[1;33m\u001b[0m\u001b[0m\n\u001b[0;32m    635\u001b[0m     \u001b[1;32mdef\u001b[0m \u001b[0mfind_element\u001b[0m\u001b[1;33m(\u001b[0m\u001b[0mself\u001b[0m\u001b[1;33m,\u001b[0m \u001b[0mby\u001b[0m\u001b[1;33m=\u001b[0m\u001b[0mBy\u001b[0m\u001b[1;33m.\u001b[0m\u001b[0mID\u001b[0m\u001b[1;33m,\u001b[0m \u001b[0mvalue\u001b[0m\u001b[1;33m=\u001b[0m\u001b[1;32mNone\u001b[0m\u001b[1;33m)\u001b[0m\u001b[1;33m:\u001b[0m\u001b[1;33m\u001b[0m\u001b[1;33m\u001b[0m\u001b[0m\n",
      "\u001b[1;32m~\\.conda\\envs\\PythonDataViz\\lib\\site-packages\\selenium\\webdriver\\remote\\webdriver.py\u001b[0m in \u001b[0;36mexecute\u001b[1;34m(self, driver_command, params)\u001b[0m\n\u001b[0;32m    319\u001b[0m         \u001b[0mresponse\u001b[0m \u001b[1;33m=\u001b[0m \u001b[0mself\u001b[0m\u001b[1;33m.\u001b[0m\u001b[0mcommand_executor\u001b[0m\u001b[1;33m.\u001b[0m\u001b[0mexecute\u001b[0m\u001b[1;33m(\u001b[0m\u001b[0mdriver_command\u001b[0m\u001b[1;33m,\u001b[0m \u001b[0mparams\u001b[0m\u001b[1;33m)\u001b[0m\u001b[1;33m\u001b[0m\u001b[1;33m\u001b[0m\u001b[0m\n\u001b[0;32m    320\u001b[0m         \u001b[1;32mif\u001b[0m \u001b[0mresponse\u001b[0m\u001b[1;33m:\u001b[0m\u001b[1;33m\u001b[0m\u001b[1;33m\u001b[0m\u001b[0m\n\u001b[1;32m--> 321\u001b[1;33m             \u001b[0mself\u001b[0m\u001b[1;33m.\u001b[0m\u001b[0merror_handler\u001b[0m\u001b[1;33m.\u001b[0m\u001b[0mcheck_response\u001b[0m\u001b[1;33m(\u001b[0m\u001b[0mresponse\u001b[0m\u001b[1;33m)\u001b[0m\u001b[1;33m\u001b[0m\u001b[1;33m\u001b[0m\u001b[0m\n\u001b[0m\u001b[0;32m    322\u001b[0m             response['value'] = self._unwrap_value(\n\u001b[0;32m    323\u001b[0m                 response.get('value', None))\n",
      "\u001b[1;32m~\\.conda\\envs\\PythonDataViz\\lib\\site-packages\\selenium\\webdriver\\remote\\errorhandler.py\u001b[0m in \u001b[0;36mcheck_response\u001b[1;34m(self, response)\u001b[0m\n\u001b[0;32m    240\u001b[0m                 \u001b[0malert_text\u001b[0m \u001b[1;33m=\u001b[0m \u001b[0mvalue\u001b[0m\u001b[1;33m[\u001b[0m\u001b[1;34m'alert'\u001b[0m\u001b[1;33m]\u001b[0m\u001b[1;33m.\u001b[0m\u001b[0mget\u001b[0m\u001b[1;33m(\u001b[0m\u001b[1;34m'text'\u001b[0m\u001b[1;33m)\u001b[0m\u001b[1;33m\u001b[0m\u001b[1;33m\u001b[0m\u001b[0m\n\u001b[0;32m    241\u001b[0m             \u001b[1;32mraise\u001b[0m \u001b[0mexception_class\u001b[0m\u001b[1;33m(\u001b[0m\u001b[0mmessage\u001b[0m\u001b[1;33m,\u001b[0m \u001b[0mscreen\u001b[0m\u001b[1;33m,\u001b[0m \u001b[0mstacktrace\u001b[0m\u001b[1;33m,\u001b[0m \u001b[0malert_text\u001b[0m\u001b[1;33m)\u001b[0m\u001b[1;33m\u001b[0m\u001b[1;33m\u001b[0m\u001b[0m\n\u001b[1;32m--> 242\u001b[1;33m         \u001b[1;32mraise\u001b[0m \u001b[0mexception_class\u001b[0m\u001b[1;33m(\u001b[0m\u001b[0mmessage\u001b[0m\u001b[1;33m,\u001b[0m \u001b[0mscreen\u001b[0m\u001b[1;33m,\u001b[0m \u001b[0mstacktrace\u001b[0m\u001b[1;33m)\u001b[0m\u001b[1;33m\u001b[0m\u001b[1;33m\u001b[0m\u001b[0m\n\u001b[0m\u001b[0;32m    243\u001b[0m \u001b[1;33m\u001b[0m\u001b[0m\n\u001b[0;32m    244\u001b[0m     \u001b[1;32mdef\u001b[0m \u001b[0m_value_or_default\u001b[0m\u001b[1;33m(\u001b[0m\u001b[0mself\u001b[0m\u001b[1;33m,\u001b[0m \u001b[0mobj\u001b[0m\u001b[1;33m,\u001b[0m \u001b[0mkey\u001b[0m\u001b[1;33m,\u001b[0m \u001b[0mdefault\u001b[0m\u001b[1;33m)\u001b[0m\u001b[1;33m:\u001b[0m\u001b[1;33m\u001b[0m\u001b[1;33m\u001b[0m\u001b[0m\n",
      "\u001b[1;31mWebDriverException\u001b[0m: Message: unknown error: Element <a rel=\"nofollow\" class=\"rpg-next rpg-page-numbers\" href=\"https://www.simplyrecipes.com/recipes/type/1-pot/page/2/\">...</a> is not clickable at point (231, 520). Other element would receive the click: <iframe frameborder=\"0\" src=\"https://34912e5744f06fb3b832246925fa9ad5.safeframe.googlesyndication.com/safeframe/1-0-37/html/container.html\" id=\"google_ads_iframe_/11927475/SR_Mobile_Adhesion_0\" title=\"3rd party ad content\" name=\"1-0-37;12910;<!doctype html><html><head><script>var jscVersion = 'r20200805';</script><script>var google_casm=[];</script></head><body leftMargin=&quot;0&quot; topMargin=&quot;0&quot; marginwidth=&quot;0&quot; marginheight=&quot;0&quot;><div class=&quot;GoogleActiveViewInnerContainer&quot;style=&quot;left:0px;top:0px;width:100%;height:100%;position:fixed;pointer-events:none;z-index:-9999;&quot;></div><div style=&quot;display:inline&quot;class=&quot;GoogleActiveViewElement&quot;data-google-av-cxn=&quot;https://pagead2.googlesyndication.com/pcs/activeview?xai=AKAOjstJgSWxVAErTSJjQIHkpa8_dD_11FUn1hwqrDw4vML9R8DyMAZhy543K_pyzHfNvQ43ZU7GrOwm-gORgN3JaPIiPdkIiRNuzsIUxQwNYeHPtwuMbwrn_iL6nr4&amp;amp;sai=AMfl-YS-oOr9wEzTEshi6D0JzQ3pDQm41JQZ7-MvMpBBWFHH0cWdRZhJpyzGlqMwGh3nh0-oSLbN7NvFVJq66dlQxi1qhrt4Xcm-y7l_HVgxVuswfTEs3xH4leFZvNOs&amp;amp;sig=Cg0ArKJSzElEq7Ubj0B0EAE&amp;amp;cid=CAASEuRoy9st2mKZ6XEMwzRgg5warg&quot;data-google-av-adk=&quot;3245814313&quot;data-google-av-metadata=&quot;la=0&amp;amp;xdi=0&amp;amp;&quot;data-google-av-override=&quot;-1&quot;data-google-av-dm=&quot;2&quot;data-google-av-immediate data-google-av-aid=&quot;0&quot;data-google-av-naid=&quot;1&quot;data-google-av-slift=&quot;&quot;data-google-av-cpmav=&quot;&quot;data-google-av-btr=&quot;&quot;data-google-av-itpl=&quot;20&quot;data-google-av-rs=&quot;4&quot;><DIV STYLE=&quot;position: absolute; left: 0px; top: 0px; visibility: hidden;&quot;><IMG SRC=&quot;https://pagead2.googlesyndication.com/pagead/gen_204?id=xbid&amp;dbm_b=AKAmf-Cy83gfvWYXUTJ19zbcOzBM68PeTnVrJG_qfp39BUKj71kdxe3I3qYKl-k_cq30kfyG12boRLFAX-M4vtKzd8g0XBYKw2XRuOzS6Udki55ihMwKNi4&quot; BORDER=0 WIDTH=1 HEIGHT=1 ALT=&quot;&quot; STYLE=&quot;display:none&quot;></DIV><iframe title=&quot;Blank&quot; src=&quot;https://googleads.g.doubleclick.net/xbbe/pixel?d=CLO4XRDz7F4YmNG1gwEwAQ&amp;v=APEucNVcVIv8s2gcPlHXsDWfKXmVOTDW8-P6YeWXPDvuYrgTDNA8SqhM_0mtBJm8MRJmFlCcx4fwHE5mTVSztn7CRprVUKtkFA&quot; style=&quot;display:none&quot; aria-hidden=&quot;true&quot;></iframe><div><div style=&quot;position:relative; display:inline-block;&quot;><script data-jc=&quot;75&quot; data-jc-version=&quot;r20200805&quot;>(function(){/*  Copyright The Closure Library Authors. SPDX-License-Identifier: Apache-2.0 */ 'use strict';var l=this||self;function m(a,c){Array.prototype.forEach.call(a,c,void 0)}function n(a,c){return Array.prototype.map.call(a,c,void 0)}function p(a,c){return Array.prototype.reduce.call(a,c,-1)}function q(a){for(var c=[],d=0;d<a;d++)c[d]=&quot;&quot;;return c};function r(a){r[&quot; &quot;](a);return a}r[&quot; &quot;]=function(){};function t(a,c){if(a)for(const d in a)Object.prototype.hasOwnProperty.call(a,d)&amp;&amp;c.call(void 0,a[d],d,a)}var u=/https?:\\/\\/[^\\/]+/;function v(a){return(a=u.exec(a))&amp;&amp;a[0]||&quot;&quot;};var w=(a=null)=>a&amp;&amp;75==a.getAttribute(&quot;data-jc&quot;)?a:document.querySelector('[data-jc=&quot;75&quot;]');const y=/^https?:\\/\\/(\\w|-)+\\.cdn\\.ampproject\\.(net|org)(\\?|\\/|$)/; function z(){var a=l;const c=[];let d=null,f,b;do{b=a;try{var e;if(e=!!b&amp;&amp;null!=b.location.href)b:{try{r(b.foo);e=!0;break b}catch(k){}e=!1}var h=e}catch(k){h=!1}if(h){var g=b.location.href;d=b.document&amp;&amp;b.document.referrer||null;f=!0}else g=d,d=null,f=!1;c.push(new A(g||&quot;&quot;,b,f));try{a=b.parent}catch(k){a=null}}while(a&amp;&amp;b!=a);for(let k=0,x=c.length-1;k<=x;++k)c[k].depth=x-k;b=l;if(b.location&amp;&amp;b.location.ancestorOrigins&amp;&amp;b.location.ancestorOrigins.length==c.length-1)for(a=1;a<c.length;++a)g=c[a],g.url|| (g.url=b.location.ancestorOrigins[a-1]||&quot;&quot;,g.b=!0);return c}function B(a){a=a||z();let c=new A(l.location.href,l,!0,!1),d=null;const f=a.length-1;for(var b=f;0<=b;--b){var e=a[b];!d&amp;&amp;y.test(e.url)&amp;&amp;(d=e);if(e.url&amp;&amp;!e.b){c=e;break}}b=null;e=a.length&amp;&amp;a[f].url;0!=c.depth&amp;&amp;e&amp;&amp;(b=a[f]);return new C(c,b,d)}var C=class{constructor(a,c,d){this.c=a;this.f=c;this.a=d}},A=class{constructor(a,c,d,f,b){this.url=a;this.b=!!f;this.depth=&quot;number&quot;===typeof b?b:null}};function D(a,c,d,f,b){const e=[];t(a,function(h,g){(h=E(h,c,d,f,b))&amp;&amp;e.push(g+&quot;=&quot;+h)});return e.join(c)}function E(a,c,d,f,b){if(null==a)return&quot;&quot;;c=c||&quot;&amp;&quot;;d=d||&quot;,$&quot;;&quot;string&quot;==typeof d&amp;&amp;(d=d.split(&quot;&quot;));if(a instanceof Array){if(f=f||0,f<d.length){const e=[];for(let h=0;h<a.length;h++)e.push(E(a[h],c,d,f+1,b));return e.join(d[f])}}else if(&quot;object&quot;==typeof a)return b=b||0,2>b?encodeURIComponent(D(a,c,d,f,b+1)):&quot;...&quot;;return encodeURIComponent(String(a))};class F{constructor(a,c){this.a=a;this.depth=c}}var H=()=>{var a=z();const c=Math.max(a.length-1,0);var d=B(a);a=d.c;var f=d.f;const b=d.a,e=[];d=(g,k)=>null==g?k:g;b&amp;&amp;e.push(new F([b.url,b.b?2:0],d(b.depth,1)));f&amp;&amp;f!=b&amp;&amp;e.push(new F([f.url,2],0));a.url&amp;&amp;a!=b&amp;&amp;e.push(new F([a.url,0],d(a.depth,c)));const h=n(e,(g,k)=>e.slice(0,e.length-k));!a.url||(b||f)&amp;&amp;a!=b||(f=v(a.url))&amp;&amp;h.push([new F([f,1],d(a.depth,c))]);h.push([]);return n(h,g=>G(c,g))}; function G(a,c){const d=p(c,(b,e)=>Math.max(b,e.depth)),f=q(d+2);f[0]=a;m(c,b=>f[b.depth+1]=b.a);return f}var I=()=>{const a=H();return n(a,c=>E(c))};function J(a){try{const c=I();c.pop();const d=2083-a.length-5;for(let f=0;f<c.length;f++){const b=encodeURIComponent(c[f]);if(b.length<=d)return setTimeout(()=>{if(!(.01<Math.random())){var e=(e=w(document.currentScript))&amp;&amp;e.getAttribute(&quot;data-jc-version&quot;)||&quot;unknown&quot;;e=`https://${&quot;pagead2.googlesyndication.com&quot;}/pagead/gen_204?id=jca&amp;jc=${75}&amp;version=${e}&amp;sample=${.01}`;var h=window,g;if(g=h.navigator)g=h.navigator.userAgent,g=/Chrome/.test(g)&amp;&amp;!/Edge/.test(g)?!0:!1;g&amp;&amp;h.navigator.sendBeacon?h.navigator.sendBeacon(e): (h.google_image_requests||(h.google_image_requests=[]),g=h.document.createElement(&quot;img&quot;),g.src=e,h.google_image_requests.push(g))}},0),a+&quot;&amp;rfl=&quot;+b}return a}catch(c){}return a}var K=[&quot;rfl&quot;],L=l;K[0]in L||&quot;undefined&quot;==typeof L.execScript||L.execScript(&quot;var &quot;+K[0]);for(var M;K.length&amp;&amp;(M=K.shift());)K.length||void 0===J?L[M]&amp;&amp;L[M]!==Object.prototype[M]?L=L[M]:L=L[M]={}:L[M]=J;}).call(this);</script><script>var url = 'https://googleads.g.doubleclick.net/dbm/ad?dbm_c=AKAmf-BnEKNi7AlyNuvLslMwVVac4W1aQSXYwroNUt5a9PbGXiCbnNqL3iFEBLrBP3NKxmdq9hh8zE9qPSniu2Tnhq6TKjauKOi3nw3qEfN3KukuMT98Wm8-1BEeyoiaXWLGj1itVSfJmTX9Lx_fi9XaLTYrUTnA7Q&amp;dbm_d=AKAmf-BhBc03QnhwOmDyPhJq5bS77RMldxTB7nFpuaixL5qYpWLxSlp9nRF2QZsGTL0XmuuQNJ0RYT5wWlTuApLgoG-dbDn0IwJXYbrJtGASA8o0WpnXlJN1IvCdOgSVITXZJI0x9e4ONEbq42WQa9qEMagsKdnBNVqriUcMClDxWugWwE8R4YDlcacoJ_iQywxfTVqQY3Ecbf_BHaLCPc4d0uyoBU3S5_0znHzw693MYNYROMhzROkf8DMEugndatzhHkrsgAb-0CseXn7WoQ0_R6dEht4eykFsW4_Ykj_C9Ec2eqhuw4h1wQtWJjMj0W1ZZLCGmrFM68qZig4TiRAobZd6jlMUN8hWTpK3P3M-Z-vaBwDPkGkX18dWUXzc2Ac3hs3XSoOpfNdcxpl9xJXnPmhSvl_IkmE11N3UGpKaLHoN0aIe9vZW07EcGtyX_HyECDUr7molZcG8YNjY2l-Ms4tMHQWu3v_ERRW9O8omMUb1kQO4a-K_JIlCyxmq1l7OWF0vVA7sC7y1ASi2pQCcO1qKVJVAFsszFp5o0Jpn5pey5gXjkuOlTI30h4CVzXPw3v-pfPORc8LZrouEKlqUtd2heRP72onF1jqSubvZGEmRvrh5VRiirZ08G79zS-FHzAi8IT66GGd44x_cQ09MIMiJkgZ_ma1cu22GiOTsrp_91grSCBt-yyR1o9JY44UEzreCtGNsVpZr4H6ZdwtyHoeNfcY6umJUffrq9nHZyLyOlEzEIDVbmobKzZ6Ne7QNaWRjU3ISXTmRSqVw4Y4YBrqDf55PPy_CsZAP9O8nnUzs0SK2BlhLYXs_Tk3p8vUGD3-IvYdimfBzi0FRDEVUilWpDNHExnnu8_N794y3qbVmdErHVhsZOS949Kb61ZSFo8lLScJ30tLw10SMfXFjCYgKpfTx7-oGrPQRr4AuyFpSJqqgsVZXrJU1pcD0yKYsk0NsZ0Jbjp8K7oxbv1w4om85J2F-l_iBQ2LMNHUPtLaqOquwwaO94Mfe5S781aEgMIJFhdbCMyPLfKd1Vhi3HdhsT3B5e65WKZR9ozKKh5aoM9JKBWd9mO_ikh4TGF__Ef1c3C28IVXFG_j3YcZ2o4obJqXi0pf0423F0B2BF2uJ2_dsaalU2dcVAbFfzC2eZtx08vQuAna0eYksLH64ZNHOdlVYXQ2oFps6AalmdudAeyPR1sHUzSXPEWZTlyT-4EAD3ACTM4FIdRYSRIpQPvxT6bsWahxwFnVq-6L72VpYFkLbAiZzb_E_rxghPLDcCDZEu-UfkBKixOI2dLoDDKqObrlFanOOY-9vQuax0pBTINOVPsJwbtC9xo5fKIEo78iQN-xjhafnIq82LuZOtOqxrxkb2BP-GFk5AX_jceprgSaat112JuHgGbAYJ6rv2L6XxI3I1NgHn44ucI6mtOOkEAz_miPfMkEscIv4g7ITgZ-B2_WIrRHr3Dfta7f_tohaysUDVyD8G0akp71GikeeF1tou--Xvn5AQpHAsPvK88g_clX7dKoU41OouHyhRXAFLZQY2c4eLo6ZpPmF08RsE2kTG1OAqtU13jG4DQ25lpRemCpjq2Z_V62Clo8RRTkFIX-xG0KEWtJWOxgnaLF_Gy8Z3GslzGnjt3x94i2U2xtI5Ku8eveDGfeq1vhnCRFL_QvqNq0YlfgdmhuiZc2WAhxokRBrDNXm7jE5sd2bkXcX1VXV2eXrJRqLIW5zyt794-tbTiE2s_V791jD9oiUmHaHdAA9dbiJMGtN2rf53E1gMo7VfPzgMi9eCimGBfDyvhqXgMf24YkgcN_h6JwCR5xOZ97V5V5q1OXltWLgiYVwM_XSyRwMvdn51WBBtGIx133iAWx-axN5b7wxVFqfI-fe8jFsZZ7-LEGOZ3tx5HET0LR_PBTxud3i68FNXvXL2Jp1wHtZXeRdD76CeuY0vpO5IW1rkXMrl6JleNqH0c0au3XqOPsEISP04VfVRtfU2_avQ89DrF2B5F4mjlKoOHRzoxlHKbJ8lWbHqOg7P40JTobd7usyUtM2oKIG2X0COlLF6WCJda-0nQTQd6rA33QDn9_sloYq24nG0M3Fj2A_RtKL8bJHWr99KaWRmHOdBS9h4EQL4-mOCMJ50oW4JFfaM5B7wAsPqiEIFkW2nZrVqYwTJwxsxeFxa6q7J5dh7MZntA4UFVTaFzXodNywQS7833HYycS9EA6F5DLCYsDowhhGofq4S3oWZ-at9LttVQjmehdzDTZoj0Uf47VdrocEckRoZL2UnCQAU9zjUPlq7R0TLJfG8v4Jmm8ZOafvmItCcavh5QeFeQNY7cqLt-9NU7e5YHqmyM0uxEXwM6pOMpiHIvxduaqGe3lqf0t1TBh2y7qJBOeRPYUkOrqEvSuya4GhlDlIX3IEy02fWLnya6ZOepW7KIavAcHJZCZlUMAg7nYdogJIPqs-UQdEdt3EhyBsniyBQQADufT8jumNwQBqED79fueKRfF50yQSIwV6-TlvsZCgZ7oMMTT4lCuMAtUyTBA1PUwoEdloOMEmmfSrxBtRUzyp95WcE6YiyuiVNysM8dVhi7stw6pYZEqi-edAXtr2D_HL0fSxdeT8yeNziDC2dAVbqNcAPbs9kiYiNjMTdnM0MM_5gUjZfZ77Lw&amp;cid=CAASEuRoy9st2mKZ6XEMwzRgg5warg';document.write('<script src=&quot;' + (window.rfl ? window.rfl(url) : url) + '&quot;></s' + 'cript>');</script></div></div></div><script data-jc=&quot;22&quot; src=&quot;https://tpc.googlesyndication.com/pagead/js/r20200805/r20110914/client/window_focus_fy2019.js&quot; async data-jc-version=&quot;r20200805&quot; data-jcp-url=&quot;https://googleads.g.doubleclick.net/pagead/conversion/?ai=CIggsoZczX9XCLoid-gOivruQA4n55-1dqOD-ybQMj52CrcsEEAEg89eGI2DJjviGyKP8GqABvL3SmQPIAQmoAwHIA5sEqgTAAU_QcARz2houttLo2qKe9ZtDVStr7y0OAz6JvL41XiHxdvNCZG6Oa53wB4s6yH0e1JygKjnFrZDavCyBcNtynrhZkfoYQlh-nJmb2NnW8tg8pRdU7aREYQj9_SnQoH125hf1MHITw8qqSgR3zVf0ZBQOImTCVO-dAeFyA1vgMk3DkITxDNpE5T30mVFfaN-UgBn0EjSizxOAU-tI_QvbAmkLFXQbEiZtTdKpa8wgfKM9fwtIYd-lYdYB-a-1q7cSX8AEtN3Yy58D4AQDkAYBoAZMgAeswq1mqAeOzhuoB9XJG6gHk9gbqAe6BqgH8NkbqAfy2RuoB-zVG6gHpr4bqAfs1RuoB_PRG6gHltgbqAfC2hvYBwDSCAcIgGEQARgdgAoDmAsByAsBgAwBsBPC26EJ0BMA2BMLiBQB2BQB&amp;amp;sigh=uId5ypf0FI0&amp;amp;cid=CAQSPACNIrLMl3Q0WM-mP0EbE9x08JtzwC-VjSkFtsXX0s3iE75hC4oTO33EbG9Y-rXcffYoaKpx7Tek3Z-oSQ&quot; data-jcp-gws-id=&quot;&quot; data-jcp-qem-id=&quot;CJWX4OOPlesCFYiOfgodIt8OMg&quot;></script><iframe title=&quot;Blank&quot; scrolling=&quot;no&quot; frameborder=0 height=0 width=0 src=&quot;https://pagead2.googlesyndication.com/pagead/s/cookie_push_onload.html#aHR0cHM6Ly9zeW5jLm1hdGh0YWcuY29tL3N5bmMvaW1nP210X2V4aWQ9NCZnb29nbGVfcHVzaD1BUXZpdFVJODdLdkdRZFVaSFhkSkwwYWd5V1ZsRmpONEcybWtiWjcyQWRoejV2YWNudlRGbGU4SUV6UHhGdldiNWpneDFpVnI4eldwbnE2cEhYU25LTW5KN3BwWFFZVVVqWEd0,aHR0cHM6Ly9tYXRjaC5hZHNydnIub3JnL3RyYWNrL2NtZi9nb29nbGU_Z29vZ2xlX3B1c2g9QVF2aXRVTDFycnlfaEtkUm1WOUZFNTNSejlUSUhzbThYWG5kaW1PeURheGRWZFY3NjRfd2UzbVV2MVJId2ZMbTBwSU5BVnRCdXdFM3U1SkU4MjFmWkNOdTVwZ0JsT1B1YzBV,aHR0cHM6Ly9tYWduZXRpYy50LmRvbWRleC5jb20vc3luYy9nb29nbGUvP2dvb2dsZV9wdXNoPUFRdml0VUlSdmYtOXRNRDdBclB3dnlGcHpVQVhodjhWNGFYNnJfUC1zNHAwckVuNG5hdnRHdndBellMQXZLR2lydS1jZjNCUGtrbXJ5QkpFTjFzdl9YT2pfNExpLXI5eEhOLXo=,aHR0cHM6Ly9jMS5hZGZvcm0ubmV0L3NlcnZpbmcvY29va2llL21hdGNoLz9wYXJ0eT0xJmdvb2dsZV9wdXNoPUFRdml0VUlwTUJ4dXEwaVBOdy1KODVZWVlvOWt5b0JxRUctRVlrcUJrQ3BCVFhNLVBNU2FwQ1BEYXFTUW9rSmhjYXNiaVRGRUhiNWtWQ2tXWk5Hd254WUZjblREaEM5cVJ6SQ==,aHR0cHM6Ly9jcy5jaG9jb2xhdGVwbGF0Zm9ybS5jb20vcHViP3BpZD1lYmRhJmdvb2dsZV9wdXNoPUFRdml0VUxTUHIzRzFYTHhCUXhUcWxBQmhKeXRjdW5BbWV0OVZBT1N3M0YydHlmczdfNTRSMDU1aTI3RmZwM0dtMEdvN3JEWUVocmtPRG9oNEg2MDI0UWQwUGgxblRmcHFlM1A=,aHR0cHM6Ly9zMC4ybWRuLm5ldC9kb3QuZ2lmP2dvb2dsZV9wdXNoPUFRdml0VUw1OGItNEFmMU9FOU1EYWYxbElCcDNrRkFETFQ5UElUSnl3eHlQTU44elliQzJ5eTlLN01uenhDUWlBajk1ZGZ2WEZIdUw3V3lQWjB5dnNYRVV5bG56Wi1WaHp3d2xWZw==,aHR0cHM6Ly9jbS5nLmRvdWJsZWNsaWNrLm5ldC9waXhlbC9hdHRyP2Q9QUhORjEzSmpKeGlyNUZNaVQ5emJTTzY3MDNZOTRCcjl4dWpTTmtCQ0VmbnYzMk9oTlhkc1NmQlNPejVGRW5ldHZsNkVvTms=&quot;  style=&quot;position:absolute&quot; aria-hidden=&quot;true&quot;></iframe><script src=&quot;https://www.googletagservices.com/activeview/js/current/osd_listener.js?cache=r20110914&quot;></script><script type=&quot;text/javascript&quot;>osdlfm(-1,'','BR7VkoZczX9XCLoid-gOivruQAwCo4P7JtAwAABABOAHIAQnIA5sE4AQDoAZM0ggFCIBhEAHCEwYYvL3SmQM','',3245814313,true,'la\\x3d0\\x26xdi\\x3d0\\x26',3,'CAASEuRoy9st2mKZ6XEMwzRgg5warg','https://pagead2.googlesyndication.com/pcs/activeview?xai\\x3dAKAOjstJgSWxVAErTSJjQIHkpa8_dD_11FUn1hwqrDw4vML9R8DyMAZhy543K_pyzHfNvQ43ZU7GrOwm-gORgN3JaPIiPdkIiRNuzsIUxQwNYeHPtwuMbwrn_iL6nr4\\x26sai\\x3dAMfl-YS-oOr9wEzTEshi6D0JzQ3pDQm41JQZ7-MvMpBBWFHH0cWdRZhJpyzGlqMwGh3nh0-oSLbN7NvFVJq66dlQxi1qhrt4Xcm-y7l_HVgxVuswfTEs3xH4leFZvNOs\\x26sig\\x3dCg0ArKJSzElEq7Ubj0B0EAE\\x26cid\\x3dCAASEuRoy9st2mKZ6XEMwzRgg5warg','');</script><script data-jc=&quot;23&quot; src=&quot;https://tpc.googlesyndication.com/pagead/js/r20200805/r20110914/client/qs_click_protection_fy2019.js&quot; data-jc-version=&quot;r20200805&quot;></script><script>googqscp.init([[[[null,500,99,2,9,null,null,null,1]]],null,null,null,null,null,null,null,null,null,null,1]);</script><img src=&quot;//www.google.com/ads/measurement/l?ebcid=ALh7CaTicuC3r4krBTS_T5xXLNiGKSYbj4BzWg5b80oQtZZ3N7D4Dqj9pszO0KJwufcaZbygJStbIg31Vw6GqnszvCMicnDbCw&quot; style=&quot;display:none;&quot; alt=&quot;&quot;></img><div style=&quot;bottom:0;right:0;width:320px;height:50px;background:initial !important;position:absolute !important;max-width:100% !important;max-height:100% !important;pointer-events:none !important;image-rendering:pixelated !important;z-index:2147483647;background-image:url('data:image/png;base64,iVBORw0KGgoAAAANSUhEUgAAACsAAAAWBAMAAACrl3iAAAAABlBMVEUAAAD+AciWmZzWAAAAAnRSTlMAApidrBQAAAB7SURBVBjTbVEJDsAwCMIf8P/Xrh6obWYyjSkiMuA/LOPU3QGMV8/kdI4z2NTI/sID8wxOt1G40OKugeSWEvGXkg4669aNRqK5N4y1QlOCaTKV5vbUHhVph/UMHiWJigs4urG/+8rlYbsgHa+DvWGj9XdebupY3g7qRo8PH3YFYEvWAxcAAAAASUVORK5CYII=') !important;&quot;></div></body></html>{&quot;uid&quot;:&quot;4&quot;,&quot;hostPeerName&quot;:&quot;https://www.simplyrecipes.com&quot;,&quot;initialGeometry&quot;:&quot;{\\&quot;windowCoords_t\\&quot;:10,\\&quot;windowCoords_r\\&quot;:1060,\\&quot;windowCoords_b\\&quot;:670,\\&quot;windowCoords_l\\&quot;:10,\\&quot;frameCoords_t\\&quot;:10154.666687011719,\\&quot;frameCoords_r\\&quot;:392.33333587646484,\\&quot;frameCoords_b\\&quot;:10204.666687011719,\\&quot;frameCoords_l\\&quot;:72.33333587646484,\\&quot;styleZIndex\\&quot;:\\&quot;auto\\&quot;,\\&quot;allowedExpansion_t\\&quot;:474.66668701171875,\\&quot;allowedExpansion_r\\&quot;:72.66666412353516,\\&quot;allowedExpansion_b\\&quot;:4.33331298828125,\\&quot;allowedExpansion_l\\&quot;:72.33333587646484,\\&quot;xInView\\&quot;:1,\\&quot;yInView\\&quot;:1}&quot;,&quot;permissions&quot;:&quot;{\\&quot;expandByOverlay\\&quot;:false,\\&quot;expandByPush\\&quot;:false,\\&quot;readCookie\\&quot;:false,\\&quot;writeCookie\\&quot;:false}&quot;,&quot;metadata&quot;:&quot;{\\&quot;shared\\&quot;:{\\&quot;sf_ver\\&quot;:\\&quot;1-0-37\\&quot;,\\&quot;ck_on\\&quot;:1,\\&quot;flash_ver\\&quot;:\\&quot;0\\&quot;}}&quot;,&quot;reportCreativeGeometry&quot;:false,&quot;isDifferentSourceWindow&quot;:false,&quot;goog_safeframe_hlt&quot;:{},&quot;encryptionMode&quot;:null}\" scrolling=\"no\" marginwidth=\"0\" marginheight=\"0\" width=\"320\" height=\"50\" data-is-safeframe=\"true\" sandbox=\"allow-forms allow-popups allow-popups-to-escape-sandbox allow-same-origin allow-scripts allow-top-navigation-by-user-activation\" data-google-container-id=\"4\" style=\"border: 0px; vertical-align: bottom;\"></iframe>\n  (Session info: chrome=84.0.4147.125)\n  (Driver info: chromedriver=2.34.522940 (1a76f96f66e3ca7b8e57d503b4dd3bccfba87af1),platform=Windows NT 10.0.18363 x86_64)\n"
     ]
    }
   ],
   "source": [
    "recipe_list=[]\n",
    "for link in linklist_text:\n",
    "    time.sleep(0.3)\n",
    "    target=driver.find_element_by_partial_link_text(link)\n",
    "    target.click()\n",
    "    targethome=driver.current_url\n",
    "    time.sleep(0.1)\n",
    "    cards = driver.find_elements_by_class_name(\"grd-title-link\")\n",
    "    for i in range(0,len(cards)):\n",
    "        try:\n",
    "            getcards()\n",
    "        except:\n",
    "            continue\n",
    "    driver.get(targethome)\n",
    "    #find out if there is a next button        \n",
    "    nxt=driver.find_elements_by_class_name(\"rpg-next\")\n",
    "    \n",
    "    #if there is a next button...\n",
    "    if len(nxt) > 0:\n",
    "       \n",
    "        #get last page\n",
    "        pages=driver.find_element_by_class_name(\"rpg-show-mobile\")\n",
    "        lastnum=pages.text.split(\" \")[-1]\n",
    "        lastpage=int(lastnum)\n",
    "        \n",
    "        #do this loop until you reach the last page\n",
    "        for i in range(1,lastpage):\n",
    "            #find the next button\n",
    "            nxt=driver.find_elements_by_class_name(\"rpg-next\")\n",
    "            time.sleep(0.3)git \n",
    "            #click next\n",
    "            nxt[0].click()\n",
    "            #try to get the cards\n",
    "            cards2 = driver.find_elements_by_class_name(\"grd-title-link\")\n",
    "            for i in range(0,len(cards2)):\n",
    "                try:\n",
    "                    getcards()\n",
    "                except:\n",
    "                    continue\n",
    "            \n",
    "    driver.get(url)"
   ]
  },
  {
   "cell_type": "code",
   "execution_count": 106,
   "metadata": {},
   "outputs": [],
   "source": [
    "nxt=driver.find_elements_by_class_name(\"rpg-next\")"
   ]
  },
  {
   "cell_type": "code",
   "execution_count": 109,
   "metadata": {},
   "outputs": [
    {
     "data": {
      "text/plain": [
       "'next →'"
      ]
     },
     "execution_count": 109,
     "metadata": {},
     "output_type": "execute_result"
    }
   ],
   "source": [
    "nxt[0].text"
   ]
  },
  {
   "cell_type": "code",
   "execution_count": 49,
   "metadata": {},
   "outputs": [
    {
     "name": "stdout",
     "output_type": "stream",
     "text": [
      "next →\n"
     ]
    }
   ],
   "source": [
    "print(nxt[0].text)"
   ]
  },
  {
   "cell_type": "code",
   "execution_count": 100,
   "metadata": {},
   "outputs": [],
   "source": [
    "driver.get(targethome)"
   ]
  },
  {
   "cell_type": "code",
   "execution_count": 54,
   "metadata": {},
   "outputs": [
    {
     "data": {
      "text/plain": [
       "0"
      ]
     },
     "execution_count": 54,
     "metadata": {},
     "output_type": "execute_result"
    }
   ],
   "source": [
    "len(nxt)"
   ]
  },
  {
   "cell_type": "code",
   "execution_count": 58,
   "metadata": {},
   "outputs": [
    {
     "data": {
      "text/plain": [
       "''"
      ]
     },
     "execution_count": 58,
     "metadata": {},
     "output_type": "execute_result"
    }
   ],
   "source": [
    "pages.text"
   ]
  },
  {
   "cell_type": "code",
   "execution_count": 110,
   "metadata": {},
   "outputs": [],
   "source": [
    "nxt[0].click()"
   ]
  },
  {
   "cell_type": "code",
   "execution_count": 97,
   "metadata": {},
   "outputs": [
    {
     "data": {
      "text/plain": [
       "'https://www.simplyrecipes.com/recipes/type/1-pot/'"
      ]
     },
     "execution_count": 97,
     "metadata": {},
     "output_type": "execute_result"
    }
   ],
   "source": [
    "driver.current_url"
   ]
  },
  {
   "cell_type": "code",
   "execution_count": null,
   "metadata": {},
   "outputs": [],
   "source": []
  }
 ],
 "metadata": {
  "kernelspec": {
   "display_name": "Python 3",
   "language": "python",
   "name": "python3"
  },
  "language_info": {
   "codemirror_mode": {
    "name": "ipython",
    "version": 3
   },
   "file_extension": ".py",
   "mimetype": "text/x-python",
   "name": "python",
   "nbconvert_exporter": "python",
   "pygments_lexer": "ipython3",
   "version": "3.6.10"
  }
 },
 "nbformat": 4,
 "nbformat_minor": 4
}
