{
 "cells": [
  {
   "cell_type": "code",
   "execution_count": null,
   "metadata": {},
   "outputs": [],
   "source": [
    "\n",
    "#dependencies\n",
    "from bs4 import BeautifulSoup\n",
    "import requests\n",
    "from splinter import Browser\n",
    "from selenium import webdriver\n",
    "from selenium.webdriver.common.keys import Keys\n",
    "import selenium\n",
    "import time\n",
    "import csv"
   ]
  },
  {
   "cell_type": "code",
   "execution_count": null,
   "metadata": {},
   "outputs": [],
   "source": [
    "#set up chromedriver\n",
    "driver=webdriver.Chrome('chromedriver.exe')\n",
    "url = \"https://www.simplyrecipes.com/index/\"\n",
    "driver.get(url) \n",
    "response=requests.get(url)\n",
    "soup=BeautifulSoup(response.text,'html.parser')\n",
    "driver.maximize_window()"
   ]
  },
  {
   "cell_type": "code",
   "execution_count": 7,
   "metadata": {},
   "outputs": [],
   "source": [
    "linklist=[]\n",
    "links=soup.find_all('a')\n",
    "for link in links:\n",
    "    linklist.append(link)\n",
    "linklist_text=[]\n",
    "for i in range(164,1068):\n",
    "    linklist_text.append(linklist[i].text)"
   ]
  },
  {
   "cell_type": "code",
   "execution_count": null,
   "metadata": {},
   "outputs": [],
   "source": [
    "\n",
    "recipe_list=[]\n",
    "for link in linklist_text:\n",
    "    time.sleep(0.3)\n",
    "    target=driver.find_element_by_partial_link_text(link)\n",
    "    target.click()\n",
    "    time.sleep(0.1)\n",
    "    cards = driver.find_elements_by_class_name(\"grd-title-link\")\n",
    "    for i in range(0,len(cards)):\n",
    "        try:\n",
    "            newcards = driver.find_elements_by_class_name(\"grd-title-link\")\n",
    "            time.sleep(0.3)\n",
    "            newcards[i].click()\n",
    "            time.sleep(0.3)\n",
    "            recipe=driver.find_element_by_id(\"sr-recipe-callout\")\n",
    "            recipe_list.append(recipe.text)\n",
    "            driver.back()\n",
    "            time.sleep(0.3)\n",
    "        except:\n",
    "            continue\n",
    "    nxt=driver.find_elements_by_class_name(\"rpg-next\")\n",
    "    driver.get(url)"
   ]
  },
  {
   "cell_type": "code",
   "execution_count": null,
   "metadata": {},
   "outputs": [],
   "source": [
    "nxt=driver.find_elements_by_class_name(\"rpg-next\")"
   ]
  },
  {
   "cell_type": "code",
   "execution_count": null,
   "metadata": {},
   "outputs": [],
   "source": [
    "if nxt:\n",
    "    print(nxt)\n",
    "else:\n",
    "    print(\"else\")"
   ]
  },
  {
   "cell_type": "code",
   "execution_count": null,
   "metadata": {},
   "outputs": [],
   "source": [
    "pages=driver.find_element_by_class_name(\"rpg-show-mobile\")"
   ]
  },
  {
   "cell_type": "code",
   "execution_count": null,
   "metadata": {},
   "outputs": [],
   "source": [
    "#get last page number\n",
    "pages=driver.find_element_by_class_name(\"rpg-show-mobile\")\n",
    "lastnum=pages.text.split(\" \")[-1]\n",
    "lastpage=int(lastnum)"
   ]
  },
  {
   "cell_type": "code",
   "execution_count": null,
   "metadata": {},
   "outputs": [],
   "source": [
    "lastpage"
   ]
  },
  {
   "cell_type": "code",
   "execution_count": null,
   "metadata": {},
   "outputs": [],
   "source": [
    "\n",
    "recipe_list=[]\n",
    "for link in linklist_text:\n",
    "    time.sleep(0.3)\n",
    "    target=driver.find_element_by_partial_link_text(link)\n",
    "    target.click()\n",
    "    time.sleep(0.1)\n",
    "    cards = driver.find_elements_by_class_name(\"grd-title-link\")\n",
    "    for i in range(0,len(cards)):\n",
    "        try:\n",
    "            newcards = driver.find_elements_by_class_name(\"grd-title-link\")\n",
    "            time.sleep(0.3)\n",
    "            newcards[i].click()\n",
    "            time.sleep(0.3)\n",
    "            recipe=driver.find_element_by_id(\"sr-recipe-callout\")\n",
    "            recipe_list.append(recipe.text)\n",
    "            driver.back()\n",
    "            time.sleep(0.3)\n",
    "        except:\n",
    "            continue\n",
    "    nxt=driver.find_elements_by_class_name(\"rpg-next\")\n",
    "    if nxt[0]:\n",
    "        #get the number of pages to iterate through\n",
    "        pages=driver.find_element_by_class_name(\"rpg-show-mobile\")\n",
    "        lastnum=pages.text.split(\" \")[-1]\n",
    "        lastpage=int(lastnum)\n",
    "        #do the following that number of times (number of pages)\n",
    "        for i in range(0,lastpage-2):\n",
    "            #click the next button\n",
    "            nxt=driver.find_elements_by_class_name(\"rpg-next\")\n",
    "            nxt[0].click()\n",
    "            try:\n",
    "                newcards = driver.find_elements_by_class_name(\"grd-title-link\")\n",
    "                time.sleep(0.3)\n",
    "                newcards[i].click()\n",
    "                time.sleep(0.3)\n",
    "                recipe=driver.find_element_by_id(\"sr-recipe-callout\")\n",
    "                recipe_list.append(recipe.text)\n",
    "                driver.back()\n",
    "                time.sleep(0.3)\n",
    "            except:\n",
    "                continue\n",
    "        \n",
    "        \n",
    "    driver.get(url)"
   ]
  },
  {
   "cell_type": "code",
   "execution_count": null,
   "metadata": {},
   "outputs": [],
   "source": [
    "nxt[0].text"
   ]
  },
  {
   "cell_type": "code",
   "execution_count": null,
   "metadata": {},
   "outputs": [],
   "source": [
    "def getcards():\n",
    "            newcards = driver.find_elements_by_class_name(\"grd-title-link\")\n",
    "            time.sleep(0.3)\n",
    "            newcards[i].click()\n",
    "            time.sleep(0.3)\n",
    "            recipe=driver.find_element_by_id(\"sr-recipe-callout\")\n",
    "            recipe_list.append(recipe.text)\n",
    "            driver.back()\n",
    "            time.sleep(0.3)"
   ]
  },
  {
   "cell_type": "code",
   "execution_count": null,
   "metadata": {},
   "outputs": [],
   "source": [
    "def getlastpage():\n",
    "        pages=driver.find_element_by_class_name(\"rpg-show-mobile\")\n",
    "        lastnum=pages.text.split(\" \")[-1]\n",
    "        lastpage=int(lastnum)"
   ]
  },
  {
   "cell_type": "code",
   "execution_count": null,
   "metadata": {},
   "outputs": [],
   "source": [
    "def clicknext():\n",
    "    nxt=driver.find_elements_by_class_name(\"rpg-next\")\n",
    "    nxt[0].click()"
   ]
  },
  {
   "cell_type": "code",
   "execution_count": null,
   "metadata": {},
   "outputs": [],
   "source": [
    "driver=webdriver.Chrome('chromedriver.exe')\n",
    "url = \"https://www.simplyrecipes.com/index/\"\n",
    "driver.get(url) \n",
    "response=requests.get(url)\n",
    "soup=BeautifulSoup(response.text,'html.parser')\n",
    "driver.get(url)"
   ]
  },
  {
   "cell_type": "code",
   "execution_count": null,
   "metadata": {},
   "outputs": [],
   "source": [
    "recipe_list=[]\n",
    "for link in linklist_text:\n",
    "    time.sleep(0.3)\n",
    "    target=driver.find_element_by_partial_link_text(link)\n",
    "    target.click()\n",
    "    targethome=driver.current_url\n",
    "    time.sleep(0.1)\n",
    "    cards = driver.find_elements_by_class_name(\"grd-title-link\")\n",
    "    for i in range(0,len(cards)):\n",
    "        try:\n",
    "            getcards()\n",
    "        except:\n",
    "            continue\n",
    "    driver.get(targethome)\n",
    "    #find out if there is a next button        \n",
    "    nxt=driver.find_elements_by_class_name(\"rpg-next\")\n",
    "    \n",
    "    #if there is a next button...\n",
    "    if len(nxt) > 0:\n",
    "       \n",
    "        #get last page\n",
    "        pages=driver.find_element_by_class_name(\"rpg-show-mobile\")\n",
    "        lastnum=pages.text.split(\" \")[-1]\n",
    "        lastpage=int(lastnum)\n",
    "        \n",
    "        #do this loop until you reach the last page\n",
    "        for i in range(1,lastpage):\n",
    "            #find the next button\n",
    "            nxt=driver.find_elements_by_class_name(\"rpg-next\")\n",
    "            time.sleep(0.3)\n",
    "            #click next\n",
    "            nxt[0].click()\n",
    "            #try to get the cards\n",
    "            cards2 = driver.find_elements_by_class_name(\"grd-title-link\")\n",
    "            for i in range(0,len(cards2)):\n",
    "                try:\n",
    "                    getcards()\n",
    "                except:\n",
    "                    continue\n",
    "            \n",
    "    driver.get(url)"
   ]
  },
  {
   "cell_type": "code",
   "execution_count": 12,
   "metadata": {},
   "outputs": [
    {
     "ename": "NoSuchElementException",
     "evalue": "Message: no such element: Unable to locate element: {\"method\":\"partial link text\",\"selector\":\"Comfort Food 223\"}\n  (Session info: chrome=84.0.4147.125)\n  (Driver info: chromedriver=2.34.522940 (1a76f96f66e3ca7b8e57d503b4dd3bccfba87af1),platform=Windows NT 10.0.18363 x86_64)\n",
     "output_type": "error",
     "traceback": [
      "\u001b[1;31m---------------------------------------------------------------------------\u001b[0m",
      "\u001b[1;31mNoSuchElementException\u001b[0m                    Traceback (most recent call last)",
      "\u001b[1;32m<ipython-input-12-bc126bd578b6>\u001b[0m in \u001b[0;36m<module>\u001b[1;34m\u001b[0m\n\u001b[0;32m      9\u001b[0m \u001b[1;32mfor\u001b[0m \u001b[0mlink\u001b[0m \u001b[1;32min\u001b[0m \u001b[0mlinklist_text\u001b[0m\u001b[1;33m[\u001b[0m\u001b[1;36m1\u001b[0m \u001b[1;33m:\u001b[0m\u001b[1;33m]\u001b[0m\u001b[1;33m:\u001b[0m\u001b[1;33m\u001b[0m\u001b[1;33m\u001b[0m\u001b[0m\n\u001b[0;32m     10\u001b[0m     \u001b[0mtime\u001b[0m\u001b[1;33m.\u001b[0m\u001b[0msleep\u001b[0m\u001b[1;33m(\u001b[0m\u001b[1;36m0.3\u001b[0m\u001b[1;33m)\u001b[0m\u001b[1;33m\u001b[0m\u001b[1;33m\u001b[0m\u001b[0m\n\u001b[1;32m---> 11\u001b[1;33m     \u001b[0mtarget\u001b[0m\u001b[1;33m=\u001b[0m\u001b[0mdriver\u001b[0m\u001b[1;33m.\u001b[0m\u001b[0mfind_element_by_partial_link_text\u001b[0m\u001b[1;33m(\u001b[0m\u001b[0mlink\u001b[0m\u001b[1;33m)\u001b[0m\u001b[1;33m\u001b[0m\u001b[1;33m\u001b[0m\u001b[0m\n\u001b[0m\u001b[0;32m     12\u001b[0m     \u001b[0mtarget\u001b[0m\u001b[1;33m.\u001b[0m\u001b[0mclick\u001b[0m\u001b[1;33m(\u001b[0m\u001b[1;33m)\u001b[0m\u001b[1;33m\u001b[0m\u001b[1;33m\u001b[0m\u001b[0m\n\u001b[0;32m     13\u001b[0m     \u001b[0mtime\u001b[0m\u001b[1;33m.\u001b[0m\u001b[0msleep\u001b[0m\u001b[1;33m(\u001b[0m\u001b[1;36m0.1\u001b[0m\u001b[1;33m)\u001b[0m\u001b[1;33m\u001b[0m\u001b[1;33m\u001b[0m\u001b[0m\n",
      "\u001b[1;32m~\\.conda\\envs\\PythonDataViz\\lib\\site-packages\\selenium\\webdriver\\remote\\webdriver.py\u001b[0m in \u001b[0;36mfind_element_by_partial_link_text\u001b[1;34m(self, link_text)\u001b[0m\n\u001b[0;32m    460\u001b[0m             \u001b[0melement\u001b[0m \u001b[1;33m=\u001b[0m \u001b[0mdriver\u001b[0m\u001b[1;33m.\u001b[0m\u001b[0mfind_element_by_partial_link_text\u001b[0m\u001b[1;33m(\u001b[0m\u001b[1;34m'Sign'\u001b[0m\u001b[1;33m)\u001b[0m\u001b[1;33m\u001b[0m\u001b[1;33m\u001b[0m\u001b[0m\n\u001b[0;32m    461\u001b[0m         \"\"\"\n\u001b[1;32m--> 462\u001b[1;33m         \u001b[1;32mreturn\u001b[0m \u001b[0mself\u001b[0m\u001b[1;33m.\u001b[0m\u001b[0mfind_element\u001b[0m\u001b[1;33m(\u001b[0m\u001b[0mby\u001b[0m\u001b[1;33m=\u001b[0m\u001b[0mBy\u001b[0m\u001b[1;33m.\u001b[0m\u001b[0mPARTIAL_LINK_TEXT\u001b[0m\u001b[1;33m,\u001b[0m \u001b[0mvalue\u001b[0m\u001b[1;33m=\u001b[0m\u001b[0mlink_text\u001b[0m\u001b[1;33m)\u001b[0m\u001b[1;33m\u001b[0m\u001b[1;33m\u001b[0m\u001b[0m\n\u001b[0m\u001b[0;32m    463\u001b[0m \u001b[1;33m\u001b[0m\u001b[0m\n\u001b[0;32m    464\u001b[0m     \u001b[1;32mdef\u001b[0m \u001b[0mfind_elements_by_partial_link_text\u001b[0m\u001b[1;33m(\u001b[0m\u001b[0mself\u001b[0m\u001b[1;33m,\u001b[0m \u001b[0mlink_text\u001b[0m\u001b[1;33m)\u001b[0m\u001b[1;33m:\u001b[0m\u001b[1;33m\u001b[0m\u001b[1;33m\u001b[0m\u001b[0m\n",
      "\u001b[1;32m~\\.conda\\envs\\PythonDataViz\\lib\\site-packages\\selenium\\webdriver\\remote\\webdriver.py\u001b[0m in \u001b[0;36mfind_element\u001b[1;34m(self, by, value)\u001b[0m\n\u001b[0;32m    976\u001b[0m         return self.execute(Command.FIND_ELEMENT, {\n\u001b[0;32m    977\u001b[0m             \u001b[1;34m'using'\u001b[0m\u001b[1;33m:\u001b[0m \u001b[0mby\u001b[0m\u001b[1;33m,\u001b[0m\u001b[1;33m\u001b[0m\u001b[1;33m\u001b[0m\u001b[0m\n\u001b[1;32m--> 978\u001b[1;33m             'value': value})['value']\n\u001b[0m\u001b[0;32m    979\u001b[0m \u001b[1;33m\u001b[0m\u001b[0m\n\u001b[0;32m    980\u001b[0m     \u001b[1;32mdef\u001b[0m \u001b[0mfind_elements\u001b[0m\u001b[1;33m(\u001b[0m\u001b[0mself\u001b[0m\u001b[1;33m,\u001b[0m \u001b[0mby\u001b[0m\u001b[1;33m=\u001b[0m\u001b[0mBy\u001b[0m\u001b[1;33m.\u001b[0m\u001b[0mID\u001b[0m\u001b[1;33m,\u001b[0m \u001b[0mvalue\u001b[0m\u001b[1;33m=\u001b[0m\u001b[1;32mNone\u001b[0m\u001b[1;33m)\u001b[0m\u001b[1;33m:\u001b[0m\u001b[1;33m\u001b[0m\u001b[1;33m\u001b[0m\u001b[0m\n",
      "\u001b[1;32m~\\.conda\\envs\\PythonDataViz\\lib\\site-packages\\selenium\\webdriver\\remote\\webdriver.py\u001b[0m in \u001b[0;36mexecute\u001b[1;34m(self, driver_command, params)\u001b[0m\n\u001b[0;32m    319\u001b[0m         \u001b[0mresponse\u001b[0m \u001b[1;33m=\u001b[0m \u001b[0mself\u001b[0m\u001b[1;33m.\u001b[0m\u001b[0mcommand_executor\u001b[0m\u001b[1;33m.\u001b[0m\u001b[0mexecute\u001b[0m\u001b[1;33m(\u001b[0m\u001b[0mdriver_command\u001b[0m\u001b[1;33m,\u001b[0m \u001b[0mparams\u001b[0m\u001b[1;33m)\u001b[0m\u001b[1;33m\u001b[0m\u001b[1;33m\u001b[0m\u001b[0m\n\u001b[0;32m    320\u001b[0m         \u001b[1;32mif\u001b[0m \u001b[0mresponse\u001b[0m\u001b[1;33m:\u001b[0m\u001b[1;33m\u001b[0m\u001b[1;33m\u001b[0m\u001b[0m\n\u001b[1;32m--> 321\u001b[1;33m             \u001b[0mself\u001b[0m\u001b[1;33m.\u001b[0m\u001b[0merror_handler\u001b[0m\u001b[1;33m.\u001b[0m\u001b[0mcheck_response\u001b[0m\u001b[1;33m(\u001b[0m\u001b[0mresponse\u001b[0m\u001b[1;33m)\u001b[0m\u001b[1;33m\u001b[0m\u001b[1;33m\u001b[0m\u001b[0m\n\u001b[0m\u001b[0;32m    322\u001b[0m             response['value'] = self._unwrap_value(\n\u001b[0;32m    323\u001b[0m                 response.get('value', None))\n",
      "\u001b[1;32m~\\.conda\\envs\\PythonDataViz\\lib\\site-packages\\selenium\\webdriver\\remote\\errorhandler.py\u001b[0m in \u001b[0;36mcheck_response\u001b[1;34m(self, response)\u001b[0m\n\u001b[0;32m    240\u001b[0m                 \u001b[0malert_text\u001b[0m \u001b[1;33m=\u001b[0m \u001b[0mvalue\u001b[0m\u001b[1;33m[\u001b[0m\u001b[1;34m'alert'\u001b[0m\u001b[1;33m]\u001b[0m\u001b[1;33m.\u001b[0m\u001b[0mget\u001b[0m\u001b[1;33m(\u001b[0m\u001b[1;34m'text'\u001b[0m\u001b[1;33m)\u001b[0m\u001b[1;33m\u001b[0m\u001b[1;33m\u001b[0m\u001b[0m\n\u001b[0;32m    241\u001b[0m             \u001b[1;32mraise\u001b[0m \u001b[0mexception_class\u001b[0m\u001b[1;33m(\u001b[0m\u001b[0mmessage\u001b[0m\u001b[1;33m,\u001b[0m \u001b[0mscreen\u001b[0m\u001b[1;33m,\u001b[0m \u001b[0mstacktrace\u001b[0m\u001b[1;33m,\u001b[0m \u001b[0malert_text\u001b[0m\u001b[1;33m)\u001b[0m\u001b[1;33m\u001b[0m\u001b[1;33m\u001b[0m\u001b[0m\n\u001b[1;32m--> 242\u001b[1;33m         \u001b[1;32mraise\u001b[0m \u001b[0mexception_class\u001b[0m\u001b[1;33m(\u001b[0m\u001b[0mmessage\u001b[0m\u001b[1;33m,\u001b[0m \u001b[0mscreen\u001b[0m\u001b[1;33m,\u001b[0m \u001b[0mstacktrace\u001b[0m\u001b[1;33m)\u001b[0m\u001b[1;33m\u001b[0m\u001b[1;33m\u001b[0m\u001b[0m\n\u001b[0m\u001b[0;32m    243\u001b[0m \u001b[1;33m\u001b[0m\u001b[0m\n\u001b[0;32m    244\u001b[0m     \u001b[1;32mdef\u001b[0m \u001b[0m_value_or_default\u001b[0m\u001b[1;33m(\u001b[0m\u001b[0mself\u001b[0m\u001b[1;33m,\u001b[0m \u001b[0mobj\u001b[0m\u001b[1;33m,\u001b[0m \u001b[0mkey\u001b[0m\u001b[1;33m,\u001b[0m \u001b[0mdefault\u001b[0m\u001b[1;33m)\u001b[0m\u001b[1;33m:\u001b[0m\u001b[1;33m\u001b[0m\u001b[1;33m\u001b[0m\u001b[0m\n",
      "\u001b[1;31mNoSuchElementException\u001b[0m: Message: no such element: Unable to locate element: {\"method\":\"partial link text\",\"selector\":\"Comfort Food 223\"}\n  (Session info: chrome=84.0.4147.125)\n  (Driver info: chromedriver=2.34.522940 (1a76f96f66e3ca7b8e57d503b4dd3bccfba87af1),platform=Windows NT 10.0.18363 x86_64)\n"
     ]
    }
   ],
   "source": [
    "driver=webdriver.Chrome('chromedriver.exe')\n",
    "url = \"https://www.simplyrecipes.com/index/\"\n",
    "driver.get(url) \n",
    "response=requests.get(url)\n",
    "soup=BeautifulSoup(response.text,'html.parser')\n",
    "driver.maximize_window()\n",
    "\n",
    "recipe_list=[]\n",
    "for link in linklist_text[1 :]:\n",
    "    time.sleep(0.3)\n",
    "    target=driver.find_element_by_partial_link_text(link)\n",
    "    target.click()\n",
    "    time.sleep(0.1)\n",
    "    cards = driver.find_elements_by_class_name(\"grd-title-link\")\n",
    "    for i in range(0,len(cards)):\n",
    "        try:\n",
    "            newcards = driver.find_elements_by_class_name(\"grd-title-link\")\n",
    "            time.sleep(0.3)\n",
    "            newcards[i].click()\n",
    "            time.sleep(0.3)\n",
    "            recipe=driver.find_element_by_id(\"sr-recipe-callout\")\n",
    "            recipe_list.append(recipe.text)\n",
    "            driver.back()\n",
    "            time.sleep(0.3)\n",
    "        except:\n",
    "            continue\n",
    "    nxt=driver.find_elements_by_class_name(\"rpg-next\")\n",
    "    if len(nxt) > 0:\n",
    "        pages=driver.find_elements_by_class_name(\"rpg-page-numbers\")\n",
    "        textpages=pages[-2].text\n",
    "        lastpage=int(textpages)\n",
    "        for i in range(1,lastpage):\n",
    "            nxt2=driver.find_elements_by_class_name(\"rpg-next\")\n",
    "            time.sleep(0.3)\n",
    "            try:\n",
    "                nxt2[0].click()\n",
    "                cards2 = driver.find_elements_by_class_name(\"grd-title-link\")\n",
    "                for i in range(0,len(cards2)):\n",
    "                    try:\n",
    "                        newcards2 = driver.find_elements_by_class_name(\"grd-title-link\")\n",
    "                        time.sleep(0.3)\n",
    "                        newcards2[i].click()\n",
    "                        time.sleep(0.3)\n",
    "                        recipe=driver.find_element_by_id(\"sr-recipe-callout\")\n",
    "                        recipe_list.append(recipe.text)\n",
    "                        driver.back()\n",
    "                        time.sleep(0.3)\n",
    "                    except:\n",
    "                        continue\n",
    "            except:\n",
    "                continue\n",
    "    with open (\"kathryn_recipe_list.txt\", \"a\") as fout:\n",
    "        for recipe_text in recipe_list:\n",
    "            fout.write(\"%s\\n\" % recipe_text.encode(\"utf-8\"))\n",
    "            recipe_list=[]\n",
    "    driver.get(url)"
   ]
  },
  {
   "cell_type": "code",
   "execution_count": null,
   "metadata": {},
   "outputs": [],
   "source": [
    "text=driver.find_elements_by_class_name(\"rpg-page-numbers\")"
   ]
  },
  {
   "cell_type": "code",
   "execution_count": 9,
   "metadata": {},
   "outputs": [
    {
     "name": "stdout",
     "output_type": "stream",
     "text": [
      "b'Print\\nAir Fryer Crispy Cauliflower Recipe\\nPrep time: 5 minutesCook time: 12 minutesYield: Serves 6\\nTo cook without an air fryer: Preheat the oven to 350\\xcb\\x9aF. Spread the cauliflower florets out on a baking sheet and bake for 20-30 minutes, or until cauliflower is crisp. Rotate the cauliflower once during baking so they cook evenly.\\nINGREDIENTS\\nFor the blue cheese dip:\\n1/4 cup Greek yogurt\\n1/4 cup mayonnaise\\n1/4 cup crumbled blue cheese\\nPinch of ground black pepper\\nDash of hot sauce\\nFor the crispy cauliflower:\\n1 head cauliflower\\n1 teaspoon kosher salt\\n1/2 teaspoon chili powder\\n1/2 teaspoon garlic powder\\n2 large eggs + 1/4 cup water\\n1 cup breadcrumbs\\nNonstick spray, for air fryer\\nSpecial equipment:\\nAir Fryer\\nMETHODHIDE PHOTOS\\n1 Make the blue cheese dip: Stir together ingredients in a medium bowl. Keep in fridge until needed.\\n2 Prepare the cauliflower: Cut the cauliflower into florets. It\\xe2\\x80\\x99s okay to have a few different sizes, but try to make sure there are no florets bigger than about 1 1/2 inches.\\n3 Bread the cauliflower: In a medium bowl toss florets with salt, chili powder, and garlic powder. In a separate small bowl, add eggs and water and whisk together. Add the egg mixture to the bowl with the cauliflower and toss to coat. Once the cauliflower is coated with the egg mixture, toss with breadcrumbs and coat well.\\n3 Air-fry the cauliflower: Spray the basket of an air fryer with nonstick spray and place as many cauliflower florets in the basket as will fit in a single layer. Return the basket to the fryer and cook at 350\\xcb\\x9aF for 7 minutes. Then flip the florets and fry for another 7 minutes.\\nRepeat until all cauliflower is done.\\n4 Serve! Serve cauliflower immediately once all batches are done, or serve on a rolling basis as the batches come out of the fryer. Cauliflower is best right out of the fryer! Serve with the blue cheese dip as an appetizer or side dish.\\nHello! All photos and content are copyright protected. Please do not use our photos without prior written permission. Thank you!\\nPrint'\n"
     ]
    }
   ],
   "source": [
    "print(recipe_text.encode(\"utf-8\"))"
   ]
  },
  {
   "cell_type": "code",
   "execution_count": null,
   "metadata": {},
   "outputs": [],
   "source": [
    "recipe_list=[]\n",
    "for link in linklist_text:\n",
    "    time.sleep(0.3)\n",
    "    target=driver.find_element_by_partial_link_text(link)\n",
    "    target.click()\n",
    "    time.sleep(0.1)\n",
    "    cards = driver.find_elements_by_class_name(\"grd-title-link\")\n",
    "    for i in range(0,len(cards)):\n",
    "        try:\n",
    "            newcards = driver.find_elements_by_class_name(\"grd-title-link\")\n",
    "            time.sleep(0.3)\n",
    "            newcards[i].click()\n",
    "            time.sleep(0.3)\n",
    "            recipe=driver.find_element_by_id(\"sr-recipe-callout\")\n",
    "            recipe_list.append(recipe.text)\n",
    "            driver.back()\n",
    "            time.sleep(0.3)\n",
    "        except:\n",
    "            continue\n",
    "        try:\n",
    "        nxt=driver.find_elements_by_class_name(\"rpg-next\")\n",
    "        nxt[0].click()\n",
    "        cards = driver.find_elements_by_class_name(\"grd-title-link\")\n",
    "        for i in range(0,len(cards)):\n",
    "        try:\n",
    "            newcards = driver.find_elements_by_class_name(\"grd-title-link\")\n",
    "            time.sleep(0.3)\n",
    "            newcards[i].click()\n",
    "            time.sleep(0.3)\n",
    "            recipe=driver.find_element_by_id(\"sr-recipe-callout\")\n",
    "            recipe_list.append(recipe.text)\n",
    "            driver.back()\n",
    "            time.sleep(0.3)\n",
    "            except:\n",
    "                continue\n",
    "            cards2 = driver.find_elements_by_class_name(\"grd-title-link\")\n",
    "            for i in range(0,len(cards2)):\n",
    "                try:\n",
    "                    newcards2 = driver.find_elements_by_class_name(\"grd-title-link\")\n",
    "                    time.sleep(0.3)\n",
    "                    newcards2[i].click()\n",
    "                    time.sleep(0.3)\n",
    "                    recipe=driver.find_element_by_id(\"sr-recipe-callout\")\n",
    "                    recipe_list.append(recipe.text)\n",
    "                    driver.back()\n",
    "                    time.sleep(0.3)\n",
    "                except:\n",
    "                    continue\n",
    "    with open (\"recipe_list.txt\", \"a\") as fout:\n",
    "        for recipe_text in recipe_list:\n",
    "            fout.write(\"%s\\n\" % recipe_text)\n",
    "            recipe_list=[]\n",
    "    driver.get(url)"
   ]
  },
  {
   "cell_type": "code",
   "execution_count": null,
   "metadata": {},
   "outputs": [],
   "source": []
  },
  {
   "cell_type": "code",
   "execution_count": null,
   "metadata": {},
   "outputs": [],
   "source": []
  }
 ],
 "metadata": {
  "kernelspec": {
   "display_name": "Python 3.6.10 64-bit ('PythonDataViz': conda)",
   "language": "python",
   "name": "python361064bitpythondatavizcondaed56fc30986a464784f8a472c80ebaf6"
  },
  "language_info": {
   "codemirror_mode": {
    "name": "ipython",
    "version": 3
   },
   "file_extension": ".py",
   "mimetype": "text/x-python",
   "name": "python",
   "nbconvert_exporter": "python",
   "pygments_lexer": "ipython3",
   "version": "3.6.10"
  }
 },
 "nbformat": 4,
 "nbformat_minor": 4
}