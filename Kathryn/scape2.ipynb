{
 "cells": [
  {
   "cell_type": "code",
   "execution_count": null,
   "metadata": {},
   "outputs": [],
   "source": [
    "\n"
   ]
  },
  {
   "cell_type": "code",
   "execution_count": 1,
   "metadata": {},
   "outputs": [],
   "source": [
    "#dependencies\n",
    "from bs4 import BeautifulSoup\n",
    "import requests\n",
    "from splinter import Browser\n",
    "from selenium import webdriver\n",
    "from selenium.webdriver.common.keys import Keys\n",
    "import selenium\n",
    "import time\n",
    "import csv"
   ]
  },
  {
   "cell_type": "code",
   "execution_count": 2,
   "metadata": {},
   "outputs": [],
   "source": [
    "#set up chromedriver\n",
    "driver=webdriver.Chrome('chromedriver.exe')\n",
    "url = \"https://www.simplyrecipes.com/?s\"\n",
    "driver.get(url) \n",
    "response=requests.get(url)\n",
    "soup=BeautifulSoup(response.text,'html.parser')"
   ]
  },
  {
   "cell_type": "code",
   "execution_count": 5,
   "metadata": {},
   "outputs": [],
   "source": [
    "linklist=[]\n",
    "links=soup.find_all('a')\n",
    "for link in links:\n",
    "    linklist.append(link)\n"
   ]
  },
  {
   "cell_type": "code",
   "execution_count": 8,
   "metadata": {},
   "outputs": [],
   "source": [
    "linkindex=[]\n",
    "for (i, link) in enumerate(links):\n",
    "    linkindex.append(f\"{i,} {link.text}\")"
   ]
  },
  {
   "cell_type": "code",
   "execution_count": 9,
   "metadata": {},
   "outputs": [
    {
     "name": "stdout",
     "output_type": "stream",
     "text": [
      "['(0,) Shop', '(1,) Home', '(2,) About', '(3,) Recipe Index', '(4,) Simply Recipes on Facebook', '(5,) Simply Recipes on Pinterest', '(6,) Simply Recipes on Twitter', '(7,) Simply Recipes on Instagram', '(8,) Simply Recipes Food and Cooking Blog', '(9,) \\n\\nSaved\\n', '(10,) \\n\\nList\\n', '(11,) \\n\\nSaved\\n', '(12,) \\n\\nShopping List\\n', '(13,) Summer Grilling!', '(14,) Favorite Restaurant Recipes', '(15,) Summer Cookbook Club', '(16,) Weekly Meal Plans', '(17,) Eat Your Food! (Kid-friendly)', '(18,) Cooking for Two', '(19,) Use It Up!', \"(20,) Editors' Picks\", '(21,) Pantry Power', '(22,) Produce Guides', '(23,) Equipment Guides', '(24,) Allergy-Friendly', '(25,) Dairy-Free', '(26,) Gluten-Free', '(27,) Healthy', '(28,) Low Carb', '(29,) Paleo', '(30,) Vegan', '(31,) Vegetarian', '(32,) Beef', '(33,) Cheese', '(34,) Chicken', '(35,) Egg', '(36,) Fish', '(37,) Fish and Seafood', '(38,) Fruit', '(39,) Lamb', '(40,) Pasta and Noodles', '(41,) Pork', '(42,) Rice', '(43,) Seafood', '(44,) Turkey', '(45,) Vegetables', '(46,) Appetizer', '(47,) Breakfast', '(48,) Brunch', '(49,) Dessert', '(50,) Dinner', '(51,) Drink', '(52,) Lunch', '(53,) Salad', '(54,) Sandwich', '(55,) Side Dish', '(56,) Snack', '(57,) Soup', '(58,) Soup and Stew', '(59,) Stew', '(60,) African', '(61,) Basque', '(62,) Belgian', '(63,) Brazilian', '(64,) British', '(65,) Cajun', '(66,) Cambodian', '(67,) Chinese', '(68,) Cowboy', '(69,) Creole', '(70,) Danish', '(71,) Ethiopian', '(72,) French', '(73,) German', '(74,) Greek', '(75,) Hawaiian', '(76,) Hungarian', '(77,) Indian', '(78,) Irish', '(79,) Italian', '(80,) Jamaican', '(81,) Japanese', '(82,) Jewish', '(83,) Korean', '(84,) Latin American', '(85,) Mediterranean', '(86,) Mexican', '(87,) Mexican and Tex Mex', '(88,) Middle Eastern', '(89,) Moroccan', '(90,) New England', '(91,) New Orleans', '(92,) Persian', '(93,) Polish', '(94,) Portuguese', '(95,) Provencal', '(96,) Puerto Rican', '(97,) Southern', '(98,) Southwestern', '(99,) Spanish', '(100,) Swedish', '(101,) TexMex', '(102,) Thai', '(103,) Vietnamese', '(104,) Birthday', '(105,) Christmas', '(106,) Easter', \"(107,) Father's Day\", '(108,) Favorite Fall', '(109,) Favorite Spring', '(110,) Favorite Summer', '(111,) Favorite Winter', '(112,) Fourth of July', '(113,) Game Day', '(114,) Halloween', '(115,) Hanukkah', '(116,) Holiday', '(117,) Lent', '(118,) Mardi Gras', \"(119,) Mother's Day\", \"(120,) New Year's\", '(121,) Passover', \"(122,) St. Patrick's Day\", '(123,) Super Bowl', '(124,) Thanksgiving', \"(125,) Valentine's Day\", '(126,) 1-Pot', '(127,) Air Fryer', '(128,) BBQ', '(129,) Baking', '(130,) Budget', '(131,) Candy', '(132,) Canning', '(133,) Casserole', '(134,) Comfort Food', '(135,) Condiment', '(136,) Cookie', '(137,) Deep Fried', '(138,) Dip', '(139,) Freezer-friendly', '(140,) Grill', '(141,) How To', '(142,) Instant Pot', '(143,) Jams and Jellies', '(144,) Kid-friendly', '(145,) Make-ahead', '(146,) Microwave', '(147,) Pantry Meal', '(148,) Pressure Cooker', '(149,) Quick and Easy', '(150,) Restaurant Favorite', '(151,) Salsa', '(152,) Sauce', '(153,) Sheet Pan Dinner', '(154,) Skillet Recipe', '(155,) Slow Cooker', '(156,) Sous Vide', '(157,) Stir-fry', '(158,) Recipe Index', '(159,) Shop', '(160,) Simply Recipes on Facebook', '(161,) Simply Recipes on Pinterest', '(162,) Simply Recipes on Twitter', '(163,) Simply Recipes on Instagram', '(164,) \\n\\n \\n\\nSummer at Home: Family Pizza Night!\\n\\n\\n\\n\\t\\t\\tIf you’re not already making pizza every week, what are you waiting for? This is a fantastic tradition to start for your family. And thanks to our method for pizza on the grill, it’s also a great way to enjoy pizza at home in your backyard this summer!\\t\\t\\n', '(165,) \\n\\n \\n\\nNo-Churn Peach Cobbler Ice Cream\\n\\n\\n\\n\\t\\t\\tNo ice cream maker? No problem! Get ready to enjoy summer peaches at their best with this No-Churn Peach Cobbler Ice Cream. It’s easy and only takes 20 minutes to make. The hard part is waiting for it to freeze! \\t\\t\\n', '(166,) \\n\\n \\n\\nEscabeche (Pickled Jalapeños)\\n\\n\\n\\n\\t\\t\\tThese classic pickled jalapeños, or jalapeños escabeche, are made with fresh jalapeño chili peppers, white onions, garlic, carrots, cider vinegar and herbs. Serve them alongside Mexican dishes, or slice them up for burgers, tacos, or salsas.\\t\\t\\n', '(167,) \\n\\n \\n\\n5 Recipes to Celebrate Your Farmers Market Bounty\\n\\n\\n\\n\\t\\t\\tGrab up all the summer vegetables and cook them in fresh, fast weeknight recipes for quick and easy warm-weather dinners featuring vegetable pizza, scallops with sweetcorn, stuffed zucchini and steak with peppers!\\t\\t\\n', '(168,) \\n\\n \\n\\nSautéed Greens with Pine Nuts and Raisins\\n\\n\\n\\n\\t\\t\\tSautéed kale, mustard, turnip, beet or collard greens, tossed with toasted pine nuts, golden raisins, a little red pepper and black pepper. Sicilian-style greens.\\t\\t\\n', '(169,) \\n\\n \\n\\nBraised Red Cabbage with Chestnuts\\n\\n\\n\\n\\t\\t\\tSweet and sour red cabbage, cooked with bacon, apples, onions, and roasted chestnuts. Great holiday side!\\t\\t\\n', '(170,) \\n\\n \\n\\nWinter Root Vegetable Slaw\\n\\n\\n\\n\\t\\t\\tIt looks like cole slaw, but this shredded salad of root veggies -- carrots, radishes, parsnips and celery root -- is an excellent accompaniment to heavier winter foods. \\t\\t\\n', '(171,) \\n\\n \\n\\nSwedish Coffee Bread (Tea Ring)\\n\\n\\n\\n\\t\\t\\tSwedish coffee bread or tea ring, a slightly sweet yeast bread flavored with cardamom, and either braided or made into a wreath-shaped pastry.\\t\\t\\n', \"(172,) \\n\\n \\n\\nCinnamon Snap Cookies\\n\\n\\n\\n\\t\\t\\tCinnamon Snaps! This version of crispy gingersnap cookies are packed with cinnamon and sweetened with honey. They're a good choice for bake sales and holiday cookie trays.\\t\\t\\n\", \"(173,) \\n\\n \\n\\nSpritz Cookies\\n\\n\\n\\n\\t\\t\\tSpritz cookies are a classic Christmas cookie! With roots in Germany and Scandinavia, they're a simple butter cookie pressed into festive shapes and topped with all sorts of garnishes.\\t\\t\\n\", '(174,) \\n\\n \\n\\nFeast of the Seven Fishes\\n\\n\\n\\n\\t\\t\\tAn Italian-American tradition for Christmas Eve, the Feast of the Seven Fishes features seven courses each with a different seafood.\\t\\t\\n', \"(175,) \\n\\n \\n\\nDorie Greenspan – Around My French Table\\n\\n\\n\\n\\t\\t\\tBook review of Dorie Greenspan's Around My French Table cookbook.\\t\\t\\n\", '(176,) \\n\\n \\n\\nSpanish Romesco Sauce\\n\\n\\n\\n\\t\\t\\tClassic Spanish Romesco sauce, made with roasted red peppers, almonds, garlic and tomatoes.\\t\\t\\n', '(177,) \\n\\n \\n\\nGinger Scones\\n\\n\\n\\n\\t\\t\\tSuper gingery buttermilk scones, made with both candied and fresh ginger, with a hint of lemon.\\t\\t\\n', '(178,) \\n\\n \\n\\nChampagne Mushroom Sauce\\n\\n\\n\\n\\t\\t\\tA fancy sauce made with leftover sparkling wine, dried mushrooms and stock that is wonderful with chicken or turkey.\\t\\t\\n', '(179,) \\n\\n \\n\\nKale with Seaweed, Sesame and Ginger\\n\\n\\n\\n\\t\\t\\tWilted kale recipe with arame seaweed, garlic, sesame, and fresh minced ginger.\\t\\t\\n', '(180,) 2', '(181,) 203', '(182,) Summer Grilling!', '(183,) Favorite Restaurant Recipes', '(184,) Summer Cookbook Club', '(185,) Weekly Meal Plans', '(186,) Eat Your Food! (Kid-friendly)', '(187,) Cooking for Two', '(188,) Use It Up!', '(189,) Editors’ Picks', '(190,) Pantry Power', '(191,) Produce Guides', '(192,) Equipment Guides', '(193,) ', '(194,) Read more about us...', '(195,) About', '(196,) Advertise', '(197,) Privacy Policy', '(198,) Your California Privacy Rights']\n"
     ]
    }
   ],
   "source": [
    "print (linkindex)"
   ]
  },
  {
   "cell_type": "code",
   "execution_count": null,
   "metadata": {},
   "outputs": [],
   "source": []
  }
 ],
 "metadata": {
  "kernelspec": {
   "display_name": "Python 3",
   "language": "python",
   "name": "python3"
  },
  "language_info": {
   "codemirror_mode": {
    "name": "ipython",
    "version": 3
   },
   "file_extension": ".py",
   "mimetype": "text/x-python",
   "name": "python",
   "nbconvert_exporter": "python",
   "pygments_lexer": "ipython3",
   "version": "3.6.10"
  }
 },
 "nbformat": 4,
 "nbformat_minor": 4
}
