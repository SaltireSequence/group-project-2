{
 "cells": [
  {
   "cell_type": "code",
   "execution_count": 1,
   "metadata": {},
   "outputs": [],
   "source": [
    "#dependencies\n",
    "from bs4 import BeautifulSoup\n",
    "import requests\n",
    "from splinter import Browser\n",
    "from selenium import webdriver\n",
    "from selenium.webdriver.common.keys import Keys\n",
    "import selenium"
   ]
  },
  {
   "cell_type": "code",
   "execution_count": 119,
   "metadata": {},
   "outputs": [],
   "source": [
    "driver=webdriver.Chrome('chromedriver.exe')"
   ]
  },
  {
   "cell_type": "code",
   "execution_count": 29,
   "metadata": {},
   "outputs": [],
   "source": [
    "#This cell returns an error, but it still works\n",
    "executable_path = {'executable_path': 'chromedriver.exe'}\n",
    "browser = Browser('chrome', **executable_path, headless=False)"
   ]
  },
  {
   "cell_type": "code",
   "execution_count": 14,
   "metadata": {},
   "outputs": [],
   "source": [
    "url = \"https://www.simplyrecipes.com/index/\""
   ]
  },
  {
   "cell_type": "code",
   "execution_count": 120,
   "metadata": {},
   "outputs": [],
   "source": [
    "#you may not need this cell\n",
    "driver.get(url) "
   ]
  },
  {
   "cell_type": "code",
   "execution_count": 16,
   "metadata": {},
   "outputs": [],
   "source": [
    "response=requests.get(url)"
   ]
  },
  {
   "cell_type": "code",
   "execution_count": 17,
   "metadata": {},
   "outputs": [],
   "source": [
    "soup=BeautifulSoup(response.text,'html.parser')"
   ]
  },
  {
   "cell_type": "code",
   "execution_count": 18,
   "metadata": {},
   "outputs": [],
   "source": [
    "linklist=[]\n",
    "links=soup.find_all('a')\n",
    "for link in links:\n",
    "    linklist.append(link)\n"
   ]
  },
  {
   "cell_type": "code",
   "execution_count": 19,
   "metadata": {},
   "outputs": [],
   "source": [
    "linkindex=[]\n",
    "for (i, link) in enumerate(links):\n",
    "    linkindex.append(f\"{i,} {link.text}\")"
   ]
  },
  {
   "cell_type": "code",
   "execution_count": 20,
   "metadata": {},
   "outputs": [],
   "source": [
    "#print(linkindex)"
   ]
  },
  {
   "cell_type": "code",
   "execution_count": 21,
   "metadata": {},
   "outputs": [],
   "source": [
    "linklist_short=[]\n",
    "for i in range(164,1068):\n",
    "    linklist_short.append(linklist[i].attrs['href'])"
   ]
  },
  {
   "cell_type": "code",
   "execution_count": 22,
   "metadata": {},
   "outputs": [],
   "source": [
    "#for link in linklist_short:\n",
    "#    print(link)"
   ]
  },
  {
   "cell_type": "code",
   "execution_count": 24,
   "metadata": {},
   "outputs": [],
   "source": [
    "testlink=linklist_short[1]"
   ]
  },
  {
   "cell_type": "code",
   "execution_count": 32,
   "metadata": {},
   "outputs": [],
   "source": [
    "browser.visit(url)"
   ]
  },
  {
   "cell_type": "code",
   "execution_count": 35,
   "metadata": {},
   "outputs": [
    {
     "ename": "AttributeError",
     "evalue": "'WebDriver' object has no attribute 'click'",
     "output_type": "error",
     "traceback": [
      "\u001b[1;31m---------------------------------------------------------------------------\u001b[0m",
      "\u001b[1;31mAttributeError\u001b[0m                            Traceback (most recent call last)",
      "\u001b[1;32m<ipython-input-35-75a62fe9e101>\u001b[0m in \u001b[0;36m<module>\u001b[1;34m\u001b[0m\n\u001b[1;32m----> 1\u001b[1;33m \u001b[0mdriver\u001b[0m\u001b[1;33m.\u001b[0m\u001b[0mclick\u001b[0m\u001b[1;33m(\u001b[0m\u001b[0mtestlink\u001b[0m\u001b[1;33m)\u001b[0m\u001b[1;33m\u001b[0m\u001b[1;33m\u001b[0m\u001b[0m\n\u001b[0m",
      "\u001b[1;31mAttributeError\u001b[0m: 'WebDriver' object has no attribute 'click'"
     ]
    }
   ],
   "source": [
    "driver.click(testlink)"
   ]
  },
  {
   "cell_type": "code",
   "execution_count": 36,
   "metadata": {},
   "outputs": [],
   "source": [
    "response=requests.get(testlink)"
   ]
  },
  {
   "cell_type": "code",
   "execution_count": 43,
   "metadata": {},
   "outputs": [],
   "source": [
    "browser.visit(url)"
   ]
  },
  {
   "cell_type": "code",
   "execution_count": 46,
   "metadata": {},
   "outputs": [],
   "source": [
    "linklist_text=[]\n",
    "for i in range(164,1068):\n",
    "    linklist_text.append(linklist[i].text)"
   ]
  },
  {
   "cell_type": "code",
   "execution_count": 48,
   "metadata": {},
   "outputs": [],
   "source": [
    "browser.links.find_by_partial_text(linklist_text[0]).click()"
   ]
  },
  {
   "cell_type": "code",
   "execution_count": 60,
   "metadata": {},
   "outputs": [],
   "source": [
    "driver.get(url)"
   ]
  },
  {
   "cell_type": "code",
   "execution_count": 76,
   "metadata": {},
   "outputs": [],
   "source": [
    "test=browser.find_by_css(\"grd-title-link\")"
   ]
  },
  {
   "cell_type": "code",
   "execution_count": 87,
   "metadata": {},
   "outputs": [],
   "source": [
    "test=linklist_text[1]"
   ]
  },
  {
   "cell_type": "code",
   "execution_count": 99,
   "metadata": {},
   "outputs": [],
   "source": [
    "test=(test[0:5])"
   ]
  },
  {
   "cell_type": "code",
   "execution_count": 110,
   "metadata": {},
   "outputs": [],
   "source": [
    "testlink=browser.links.find_by_partial_text(test)"
   ]
  },
  {
   "cell_type": "code",
   "execution_count": 126,
   "metadata": {},
   "outputs": [],
   "source": [
    "item=driver.find_elements_by_partial_link_text(linklist_text[1])"
   ]
  },
  {
   "cell_type": "code",
   "execution_count": 130,
   "metadata": {},
   "outputs": [],
   "source": [
    "item[0].click()"
   ]
  },
  {
   "cell_type": "code",
   "execution_count": 136,
   "metadata": {},
   "outputs": [],
   "source": [
    "test=driver.find_element_by_class_name(\"grd-title-link\")"
   ]
  },
  {
   "cell_type": "code",
   "execution_count": 138,
   "metadata": {},
   "outputs": [],
   "source": [
    "test.click()"
   ]
  },
  {
   "cell_type": "code",
   "execution_count": 140,
   "metadata": {},
   "outputs": [],
   "source": [
    "recipe=driver.find_elements_by_id(\"sr-recipe-callout\")"
   ]
  },
  {
   "cell_type": "code",
   "execution_count": 143,
   "metadata": {},
   "outputs": [
    {
     "name": "stdout",
     "output_type": "stream",
     "text": [
      "Save It Print\n",
      "Baked Acorn Squash with Butter and Brown Sugar Recipe\n",
      "Prep time: 10 minutesCook time: 1 hour, 15 minutesYield: Serves 2 to 4, depending on how much squash you like to eat.\n",
      "INGREDIENTS\n",
      "1 Acorn squash\n",
      "1 Tbsp Butter\n",
      "2 Tbsp Brown Sugar\n",
      "2 teaspoons Maple Syrup\n",
      "Dash of Salt\n",
      "METHODHIDE PHOTOS\n",
      "1 Preheat your oven to 400°F (205°C).\n",
      "2 Prep the squash: If you have a microwave, microwave the squash for a minute each, to make it easier to cut. Stabilize the squash on a cutting board as best you can, stem end down if the stem is short enough, otherwise on the side. Using a sharp, sturdy chef's knife, carefully cut the acorn squash in half, from tip to stem. If on its side, the squash can rock back and forth, so take care as you are cutting it.\n",
      "Use a sturdy metal spoon to scrape out the seeds and stringy bits inside each squash half, until the inside is smooth.\n",
      "Take a sharp paring knife and score the insides of the acorn squash halves in a cross-hatch pattern, about a half-inch deep cuts.\n",
      "Place the squash halves cut side up in a roasting pan. Pour 1/4-inch of water over the bottom of the pan so that the squash doesn't burn or get dried out in the oven.\n",
      "3 Add butter, salt, brown sugar, maple syrup: Rub a half tablespoon of butter into the insides of each half. Sprinkle with a little salt if you are using unsalted butter.\n",
      "Crumble a tablespoon of brown sugar into the center of each half and drizzle with a teaspoon of maple syrup.\n",
      "4 Bake: Bake at 400°F (205°C) for about an hour to an hour 15 minutes, until the tops of the squash halves are nicely browned, and the squash flesh is very soft and cooked through.\n",
      "It's hard to overcook squash, it just gets better with more caramelization. But don't undercook it.\n",
      "5 Remove from oven, spoon brown sugar butter sauce over squash: When done, remove the squash halves from the oven and let them cool for a bit before serving.\n",
      "Spoon any buttery sugar sauce that has not already been absorbed by the squash over the exposed areas.\n",
      "Hello! All photos and content are copyright protected. Please do not use our photos without prior written permission. Thank you!\n",
      "Save It Print\n"
     ]
    }
   ],
   "source": [
    "print (recipe[0].text)"
   ]
  },
  {
   "cell_type": "code",
   "execution_count": null,
   "metadata": {},
   "outputs": [],
   "source": []
  }
 ],
 "metadata": {
  "kernelspec": {
   "display_name": "Python 3.6.10 64-bit ('PythonDataViz': conda)",
   "language": "python",
   "name": "python361064bitpythondatavizcondaed56fc30986a464784f8a472c80ebaf6"
  },
  "language_info": {
   "codemirror_mode": {
    "name": "ipython",
    "version": 3
   },
   "file_extension": ".py",
   "mimetype": "text/x-python",
   "name": "python",
   "nbconvert_exporter": "python",
   "pygments_lexer": "ipython3",
   "version": "3.6.10"
  }
 },
 "nbformat": 4,
 "nbformat_minor": 4
}
