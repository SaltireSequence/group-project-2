{
 "cells": [
  {
   "cell_type": "code",
   "execution_count": 1,
   "metadata": {},
   "outputs": [],
   "source": [
    "#dependencies\n",
    "from bs4 import BeautifulSoup\n",
    "import requests\n",
    "from splinter import Browser\n",
    "from selenium import webdriver\n",
    "from selenium.webdriver.common.keys import Keys\n",
    "import selenium\n",
    "import time"
   ]
  },
  {
   "cell_type": "code",
   "execution_count": 2,
   "metadata": {},
   "outputs": [],
   "source": [
    "driver=webdriver.Chrome('chromedriver.exe')"
   ]
  },
  {
   "cell_type": "code",
   "execution_count": 3,
   "metadata": {},
   "outputs": [],
   "source": [
    "url = \"https://www.simplyrecipes.com/index/\""
   ]
  },
  {
   "cell_type": "code",
   "execution_count": 4,
   "metadata": {},
   "outputs": [],
   "source": [
    "driver.get(url) "
   ]
  },
  {
   "cell_type": "code",
   "execution_count": 5,
   "metadata": {},
   "outputs": [],
   "source": [
    "response=requests.get(url)"
   ]
  },
  {
   "cell_type": "code",
   "execution_count": 6,
   "metadata": {},
   "outputs": [],
   "source": [
    "soup=BeautifulSoup(response.text,'html.parser')"
   ]
  },
  {
   "cell_type": "code",
   "execution_count": 7,
   "metadata": {},
   "outputs": [],
   "source": [
    "linklist=[]\n",
    "links=soup.find_all('a')\n",
    "for link in links:\n",
    "    linklist.append(link)\n"
   ]
  },
  {
   "cell_type": "code",
   "execution_count": 8,
   "metadata": {},
   "outputs": [],
   "source": [
    "linkindex=[]\n",
    "for (i, link) in enumerate(links):\n",
    "    linkindex.append(f\"{i,} {link.text}\")"
   ]
  },
  {
   "cell_type": "code",
   "execution_count": 9,
   "metadata": {},
   "outputs": [],
   "source": [
    "#print(linkindex)"
   ]
  },
  {
   "cell_type": "code",
   "execution_count": 10,
   "metadata": {},
   "outputs": [],
   "source": [
    "linklist_short=[]\n",
    "for i in range(164,1068):\n",
    "    linklist_short.append(linklist[i].attrs['href'])"
   ]
  },
  {
   "cell_type": "code",
   "execution_count": 11,
   "metadata": {},
   "outputs": [],
   "source": [
    "#for link in linklist_short:\n",
    "#    print(link)"
   ]
  },
  {
   "cell_type": "code",
   "execution_count": 12,
   "metadata": {},
   "outputs": [],
   "source": [
    "testlink=linklist_short[1]"
   ]
  },
  {
   "cell_type": "code",
   "execution_count": 137,
   "metadata": {},
   "outputs": [],
   "source": [
    "linklist_text=[]\n",
    "for i in range(164,1068):\n",
    "    linklist_text.append(linklist[i].text)"
   ]
  },
  {
   "cell_type": "code",
   "execution_count": null,
   "metadata": {},
   "outputs": [],
   "source": [
    "recipe_list=[]\n",
    "for link in linklist_text:\n",
    "    time.sleep(0.3)\n",
    "    target=driver.find_element_by_partial_link_text(link)\n",
    "    target.click()\n",
    "    time.sleep(0.1)\n",
    "    cards = driver.find_elements_by_class_name(\"grd-title-link\")\n",
    "    for i in range(0,len(cards)):\n",
    "        try:\n",
    "            newcards = driver.find_elements_by_class_name(\"grd-title-link\")\n",
    "            time.sleep(0.3)\n",
    "            newcards[i].click()\n",
    "            time.sleep(0.3)\n",
    "            recipe=driver.find_element_by_id(\"sr-recipe-callout\")\n",
    "            recipe_list.append(recipe.text)\n",
    "            driver.back()\n",
    "            time.sleep(0.3)\n",
    "        except:\n",
    "            continue\n",
    "    driver.get(url)"
   ]
  },
  {
   "cell_type": "code",
   "execution_count": 192,
   "metadata": {},
   "outputs": [
    {
     "data": {
      "text/plain": [
       "'Save It Print\\nVegan Stuffed Squash with Brown Rice and Mushrooms Recipe\\nPrep time: 20 minutesCook time: 1 hourYield: Serves 6\\nThe vegetables and rice for the filling and the roasted squash halves can be prepped a day or two ahead. Warm them on the stovetop or in the microwave before continuing with the recipe.\\nNote that one of the squashes is pureed and mixed into the filling. The remaining squash halves will be stuffed and served.\\nINGREDIENTS\\nFor the squash:\\n4 small winter squash (about 1 1/2 pounds each), like kabocha, acorn squash, or pie pumpkins\\n1/2 tablespoon olive oil\\n1/4 teaspoon salt\\n1/4 teaspoon pepper\\nFor the filling:\\n4 tablespoons olive oil, divided\\n2 cups brown rice\\n4 cups low-sodium vegetable broth or water\\n1 cup diced carrot\\n1 cup diced shallots\\n1 cup diced celery\\n1 1/4 pounds mushrooms, diced (I used a mix of creminis and wild mushrooms),\\n3 cloves garlic, minced\\n1/2 cup white wine\\nPinch cinnamon\\n1 cup chopped mixed herbs (parsley, chives, and chervil work beautifully here)\\nMETHODHIDE PHOTOS\\n1 Heat the oven to 400F and prepare the squash. Cut the squash in half and scrape out the seeds. Cut a small sliver from the bottom of each squash half to create a stable surface for the \"bowl.\" Rub the squash halves inside and out with olive oil, then sprinkle generously with salt and pepper.\\n2 Roast the squash: Roast the squash halves cut-side down for 30 minutes, then flip them over and roast cut-side up (like a bowl) for another 15 minutes. When done, the squash should be easily pierced with a fork and toasted golden-brown on the surface. (About 45 minutes total; if the squash finishes roasting before the filling is ready, turn the oven heat to its lowest temperature and keep them warm until needed.)\\n3 While the squash roasts, begin preparing the rice stuffing: In a large pot over medium heat, toast the rice with 1 tablespoon of olive oil until the rice smells fragrant and nutty, 3 to 5 minutes. Stir frequently to avoid burning.\\n4 Cook the rice: Pour the vegetable broth or water over the rice and give it a quick stir. Bring to a boil over high heat. Once the water reaches boiling, turn down heat to low, cover the pot, and cook for 25 to 30 minutes until the rice is tender. If the rice isn’t done, continue checking every five minutes.\\n5 Cook the carrots, shallots, and celery: Warm 1 tablespoon of olive oil in a 12-inch skillet over medium heat. Sauté the carrot, shallot, and celery until the shallots become translucent, about 5 minutes. Transfer the veggies to a large bowl, and set aside.\\n6 Cook the mushrooms in batches: In the same 12-inch skillet, add 1 tablespoon of olive oil and turn the heat to medium-high. Add a third of the mushrooms – do not to overcrowd the pan. Sprinkle 1/8 teaspoon salt and a little pepper over the mushrooms, but do not stir.\\nLet the mushrooms cook without stirring for 2 to 3 minutes, until a caramelized crust forms on the bottom of the mushrooms. (Lift one up to check!) Once you see a brown crust, stir the mushrooms together. Continue cooking, stirring often, until the mushrooms have released all their liquid and look evenly browned on all sides.\\nRepeat with the remaining mushrooms, adding more oil to the pan as needed.\\n7 Finish the vegetables: When all the mushrooms are cooked, return the cooked mushrooms, carrots, shallots, and celery to the pan over medium-high heat. Stir in the garlic and cook until fragrant, 30 seconds. Add the white wine and scrape any glazed bits from the bottom of the pan as the wine simmers. Cook for another 2 to 3 minutes, until most of the wine has evaporated. Remove from heat.\\n(If the vegetables and rice are ready before the roasted squash, cover the pans to keep warm until needed. If necessary, re-warm briefly on the stovetop or the microwave before continuing with the recipe.)\\n8 Set 6 of the roasted squash halves on plates for serving; scoop the flesh from the remaining 2 squash halves. Transfer the flesh to a food processor. Add the cinnamon and puree until very smooth.\\n9 Finish the squash filling: In a large bowl, combine the mushrooms, vegetables, cooked rice, and squash puree and mix until well-combined. Taste and add more salt, pepper, or cinnamon if you like. Finally, stir in fresh herbs, reserving some herbs for sprinkling over top.\\n10 Stuff the squashes and serve: Divide the filling equally between all the squash halves, mounding the filling slightly. Sprinkle with chopped herbs and serve immediately while piping hot.\\nHello! All photos and content are copyright protected. Please do not use our photos without prior written permission. Thank you!\\nSave It Print'"
      ]
     },
     "execution_count": 192,
     "metadata": {},
     "output_type": "execute_result"
    }
   ],
   "source": []
  },
  {
   "cell_type": "code",
   "execution_count": null,
   "metadata": {},
   "outputs": [],
   "source": [
    "recip"
   ]
  }
 ],
 "metadata": {
  "kernelspec": {
   "display_name": "Python 3.6.10 64-bit ('PythonDataViz': conda)",
   "language": "python",
   "name": "python361064bitpythondatavizcondaed56fc30986a464784f8a472c80ebaf6"
  },
  "language_info": {
   "codemirror_mode": {
    "name": "ipython",
    "version": 3
   },
   "file_extension": ".py",
   "mimetype": "text/x-python",
   "name": "python",
   "nbconvert_exporter": "python",
   "pygments_lexer": "ipython3",
   "version": "3.6.10"
  }
 },
 "nbformat": 4,
 "nbformat_minor": 4
}
