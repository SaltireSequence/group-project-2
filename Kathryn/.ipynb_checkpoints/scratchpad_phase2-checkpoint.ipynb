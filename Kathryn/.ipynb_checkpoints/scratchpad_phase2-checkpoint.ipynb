{
 "cells": [
  {
   "cell_type": "code",
   "execution_count": 5,
   "metadata": {},
   "outputs": [],
   "source": [
    "#dependencies\n",
    "from bs4 import BeautifulSoup\n",
    "import requests\n",
    "from splinter import Browser\n",
    "from selenium import webdriver\n",
    "from selenium.webdriver.common.keys import Keys\n",
    "import selenium\n",
    "import time\n",
    "import csv"
   ]
  },
  {
   "cell_type": "code",
   "execution_count": 20,
   "metadata": {},
   "outputs": [],
   "source": [
    "driver=webdriver.Chrome('chromedriver.exe')"
   ]
  },
  {
   "cell_type": "code",
   "execution_count": 7,
   "metadata": {},
   "outputs": [],
   "source": [
    "url = \"https://www.simplyrecipes.com/index/\""
   ]
  },
  {
   "cell_type": "code",
   "execution_count": 21,
   "metadata": {},
   "outputs": [],
   "source": [
    "driver.get(url) "
   ]
  },
  {
   "cell_type": "code",
   "execution_count": 9,
   "metadata": {},
   "outputs": [],
   "source": [
    "response=requests.get(url)"
   ]
  },
  {
   "cell_type": "code",
   "execution_count": 10,
   "metadata": {},
   "outputs": [],
   "source": [
    "soup=BeautifulSoup(response.text,'html.parser')"
   ]
  },
  {
   "cell_type": "code",
   "execution_count": 11,
   "metadata": {},
   "outputs": [],
   "source": [
    "linklist=[]\n",
    "links=soup.find_all('a')\n",
    "for link in links:\n",
    "    linklist.append(link)\n"
   ]
  },
  {
   "cell_type": "code",
   "execution_count": 12,
   "metadata": {},
   "outputs": [],
   "source": [
    "linkindex=[]\n",
    "for (i, link) in enumerate(links):\n",
    "    linkindex.append(f\"{i,} {link.text}\")"
   ]
  },
  {
   "cell_type": "code",
   "execution_count": 13,
   "metadata": {},
   "outputs": [],
   "source": [
    "#print(linkindex)"
   ]
  },
  {
   "cell_type": "code",
   "execution_count": 14,
   "metadata": {},
   "outputs": [],
   "source": [
    "linklist_short=[]\n",
    "for i in range(164,1068):\n",
    "    linklist_short.append(linklist[i].attrs['href'])"
   ]
  },
  {
   "cell_type": "code",
   "execution_count": 15,
   "metadata": {},
   "outputs": [],
   "source": [
    "#for link in linklist_short:\n",
    "#    print(link)"
   ]
  },
  {
   "cell_type": "code",
   "execution_count": 16,
   "metadata": {},
   "outputs": [],
   "source": [
    "testlink=linklist_short[1]"
   ]
  },
  {
   "cell_type": "code",
   "execution_count": 17,
   "metadata": {},
   "outputs": [],
   "source": [
    "linklist_text=[]\n",
    "for i in range(164,1068):\n",
    "    linklist_text.append(linklist[i].text)"
   ]
  },
  {
   "cell_type": "code",
   "execution_count": null,
   "metadata": {},
   "outputs": [],
   "source": [
    "recipe_list=[]\n",
    "for link in linklist_text:\n",
    "    time.sleep(0.3)\n",
    "    target=driver.find_element_by_partial_link_text(link)\n",
    "    target.click()\n",
    "    time.sleep(0.1)\n",
    "    cards = driver.find_elements_by_class_name(\"grd-title-link\")\n",
    "    for i in range(0,len(cards)):\n",
    "        try:\n",
    "            newcards = driver.find_elements_by_class_name(\"grd-title-link\")\n",
    "            time.sleep(0.3)\n",
    "            newcards[i].click()\n",
    "            time.sleep(0.3)\n",
    "            recipe=driver.find_element_by_id(\"sr-recipe-callout\")\n",
    "            recipe_list.append(recipe.text)\n",
    "            driver.back()\n",
    "            time.sleep(0.3)\n",
    "        except:\n",
    "            continue\n",
    "    driver.get(url)"
   ]
  },
  {
   "cell_type": "code",
   "execution_count": 15,
   "metadata": {},
   "outputs": [],
   "source": [
    "with open('test.csv','w') as tester:\n",
    "    writer=csv.writer(tester, delimiter='\\t',lineterminator='\\n',)\n",
    "    for i in range(0,10):\n",
    "       row = [i]\n",
    "       writer.writerow(row)"
   ]
  },
  {
   "cell_type": "code",
   "execution_count": null,
   "metadata": {},
   "outputs": [],
   "source": [
    "driver=webdriver.Chrome('chromedriver.exe')\n",
    "driver.get(url)\n",
    "recipe_list=[]\n",
    "for link in linklist_text:\n",
    "    time.sleep(0.3)\n",
    "    target=driver.find_element_by_partial_link_text(link)\n",
    "    target.click()\n",
    "    time.sleep(0.1)\n",
    "    cards = driver.find_elements_by_class_name(\"grd-title-link\")\n",
    "    for i in range(0,len(cards)):\n",
    "        try:\n",
    "            newcards = driver.find_elements_by_class_name(\"grd-title-link\")\n",
    "            time.sleep(0.3)\n",
    "            newcards[i].click()\n",
    "            time.sleep(0.3)\n",
    "            recipe=driver.find_element_by_id(\"sr-recipe-callout\")\n",
    "            recipe_list.append(recipe.text)\n",
    "            driver.back()\n",
    "            time.sleep(0.3)\n",
    "        except:\n",
    "            continue\n",
    "    driver.get(url)"
   ]
  },
  {
   "cell_type": "code",
   "execution_count": null,
   "metadata": {},
   "outputs": [],
   "source": [
    "recipe_list"
   ]
  },
  {
   "cell_type": "code",
   "execution_count": null,
   "metadata": {},
   "outputs": [],
   "source": []
  }
 ],
 "metadata": {
  "kernelspec": {
   "display_name": "Python 3.6.10 64-bit ('PythonDataViz': conda)",
   "language": "python",
   "name": "python361064bitpythondatavizcondaed56fc30986a464784f8a472c80ebaf6"
  },
  "language_info": {
   "codemirror_mode": {
    "name": "ipython",
    "version": 3
   },
   "file_extension": ".py",
   "mimetype": "text/x-python",
   "name": "python",
   "nbconvert_exporter": "python",
   "pygments_lexer": "ipython3",
   "version": "3.6.10"
  }
 },
 "nbformat": 4,
 "nbformat_minor": 4
}
