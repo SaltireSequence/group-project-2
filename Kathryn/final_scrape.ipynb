{
 "cells": [
  {
   "cell_type": "code",
   "execution_count": null,
   "metadata": {},
   "outputs": [],
   "source": []
  },
  {
   "cell_type": "code",
   "execution_count": null,
   "metadata": {},
   "outputs": [],
   "source": [
    "driver=webdriver.Chrome('chromedriver.exe')\n",
    "url = \"https://www.simplyrecipes.com/index/\"\n",
    "driver.get(url) \n",
    "response=requests.get(url)\n",
    "soup=BeautifulSoup(response.text,'html.parser')\n",
    "driver.maximize_window()\n",
    "\n",
    "recipe_list=[]\n",
    "for link in linklist_text[1 :]:\n",
    "    time.sleep(0.3)\n",
    "    target=driver.find_element_by_partial_link_text(link)\n",
    "    target.click()\n",
    "    time.sleep(0.1)\n",
    "    cards = driver.find_elements_by_class_name(\"grd-title-link\")\n",
    "    for i in range(0,len(cards)):\n",
    "        try:\n",
    "            newcards = driver.find_elements_by_class_name(\"grd-title-link\")\n",
    "            time.sleep(0.3)\n",
    "            newcards[i].click()\n",
    "            time.sleep(0.3)\n",
    "            recipe=driver.find_element_by_id(\"sr-recipe-callout\")\n",
    "            recipe_list.append(recipe.text)\n",
    "            driver.back()\n",
    "            time.sleep(0.3)\n",
    "        except:\n",
    "            continue\n",
    "    nxt=driver.find_elements_by_class_name(\"rpg-next\")\n",
    "    if len(nxt) > 0:\n",
    "        pages=driver.find_elements_by_class_name(\"rpg-page-numbers\")\n",
    "        textpages=pages[-2].text\n",
    "        lastpage=int(textpages)\n",
    "        for i in range(1,lastpage):\n",
    "            nxt2=driver.find_elements_by_class_name(\"rpg-next\")\n",
    "            time.sleep(0.3)\n",
    "            try:\n",
    "                nxt2[0].click()\n",
    "                cards2 = driver.find_elements_by_class_name(\"grd-title-link\")\n",
    "                for i in range(0,len(cards2)):\n",
    "                    try:\n",
    "                        newcards2 = driver.find_elements_by_class_name(\"grd-title-link\")\n",
    "                        time.sleep(0.3)\n",
    "                        newcards2[i].click()\n",
    "                        time.sleep(0.3)\n",
    "                        recipe=driver.find_element_by_id(\"sr-recipe-callout\")\n",
    "                        recipe_list.append(recipe.text)\n",
    "                        driver.back()\n",
    "                        time.sleep(0.3)\n",
    "                    except:\n",
    "                        continue\n",
    "            except:\n",
    "                continue\n",
    "    with open (\"recipe_list2.txt\", \"a\") as fout:\n",
    "        for recipe_text in recipe_list:\n",
    "            fout.write(\"%s\\n\" % recipe_text.encode(\"utf-8\"))\n",
    "            recipe_list=[]\n",
    "    driver.get(url)"
   ]
  }
 ],
 "metadata": {
  "kernelspec": {
   "display_name": "Python 3",
   "language": "python",
   "name": "python3"
  },
  "language_info": {
   "codemirror_mode": {
    "name": "ipython",
    "version": 3
   },
   "file_extension": ".py",
   "mimetype": "text/x-python",
   "name": "python",
   "nbconvert_exporter": "python",
   "pygments_lexer": "ipython3",
   "version": "3.7.6"
  }
 },
 "nbformat": 4,
 "nbformat_minor": 4
}
