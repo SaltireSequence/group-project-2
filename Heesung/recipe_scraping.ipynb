{
 "cells": [
  {
   "cell_type": "markdown",
   "metadata": {},
   "source": []
  },
  {
   "cell_type": "markdown",
   "metadata": {},
   "source": [
    "## Step-1 Scraping"
   ]
  },
  {
   "cell_type": "code",
   "execution_count": 6,
   "metadata": {},
   "outputs": [],
   "source": [
    "#dependency\n",
    "import pandas as pd\n",
    "from bs4 import BeautifulSoup\n",
    "import requests\n",
    "import pymongo\n",
    "from splinter import Browser\n",
    "from bs4 import BeautifulSoup\n",
    "import time\n",
    "import selenium\n",
    "import time\n",
    "import csv\n",
    "from bs4 import BeautifulSoup\n",
    "import requests\n",
    "from selenium import webdriver\n",
    "from selenium.webdriver.common.keys import Keys\n",
    "import selenium\n",
    "import time\n",
    "import csv\n",
    "import pprint"
   ]
  },
  {
   "cell_type": "code",
   "execution_count": 7,
   "metadata": {},
   "outputs": [],
   "source": [
    "driver=webdriver.Chrome('chromedriver')\n",
    "url = \"https://www.simplyrecipes.com/index/\"\n",
    "driver.get(url) \n",
    "driver.maximize_window()"
   ]
  },
  {
   "cell_type": "markdown",
   "metadata": {},
   "source": []
  },
  {
   "cell_type": "code",
   "execution_count": 8,
   "metadata": {},
   "outputs": [
    {
     "ename": "WebDriverException",
     "evalue": "Message: unknown error: Chrome failed to start: crashed.\n  (chrome not reachable)\n  (The process started from chrome location /Applications/Google Chrome.app/Contents/MacOS/Google Chrome is no longer running, so ChromeDriver is assuming that Chrome has crashed.)\n",
     "output_type": "error",
     "traceback": [
      "\u001b[0;31m---------------------------------------------------------------------------\u001b[0m",
      "\u001b[0;31mWebDriverException\u001b[0m                        Traceback (most recent call last)",
      "\u001b[0;32m<ipython-input-8-ff5fa8079327>\u001b[0m in \u001b[0;36m<module>\u001b[0;34m\u001b[0m\n\u001b[0;32m----> 1\u001b[0;31m \u001b[0mdriver\u001b[0m\u001b[0;34m=\u001b[0m\u001b[0mwebdriver\u001b[0m\u001b[0;34m.\u001b[0m\u001b[0mChrome\u001b[0m\u001b[0;34m(\u001b[0m\u001b[0;34m'chromedriver'\u001b[0m\u001b[0;34m)\u001b[0m\u001b[0;34m\u001b[0m\u001b[0;34m\u001b[0m\u001b[0m\n\u001b[0m\u001b[1;32m      2\u001b[0m \u001b[0murl\u001b[0m \u001b[0;34m=\u001b[0m \u001b[0;34m\"https://www.simplyrecipes.com/index/\"\u001b[0m\u001b[0;34m\u001b[0m\u001b[0;34m\u001b[0m\u001b[0m\n\u001b[1;32m      3\u001b[0m \u001b[0mdriver\u001b[0m\u001b[0;34m.\u001b[0m\u001b[0mget\u001b[0m\u001b[0;34m(\u001b[0m\u001b[0murl\u001b[0m\u001b[0;34m)\u001b[0m\u001b[0;34m\u001b[0m\u001b[0;34m\u001b[0m\u001b[0m\n\u001b[1;32m      4\u001b[0m \u001b[0mdriver\u001b[0m\u001b[0;34m.\u001b[0m\u001b[0mmaximize_window\u001b[0m\u001b[0;34m(\u001b[0m\u001b[0;34m)\u001b[0m\u001b[0;34m\u001b[0m\u001b[0;34m\u001b[0m\u001b[0m\n\u001b[1;32m      5\u001b[0m \u001b[0mresponse\u001b[0m\u001b[0;34m=\u001b[0m\u001b[0mrequests\u001b[0m\u001b[0;34m.\u001b[0m\u001b[0mget\u001b[0m\u001b[0;34m(\u001b[0m\u001b[0murl\u001b[0m\u001b[0;34m)\u001b[0m\u001b[0;34m\u001b[0m\u001b[0;34m\u001b[0m\u001b[0m\n",
      "\u001b[0;32m~/app/anaconda3/lib/python3.7/site-packages/selenium/webdriver/chrome/webdriver.py\u001b[0m in \u001b[0;36m__init__\u001b[0;34m(self, executable_path, port, options, service_args, desired_capabilities, service_log_path, chrome_options, keep_alive)\u001b[0m\n\u001b[1;32m     79\u001b[0m                     \u001b[0mremote_server_addr\u001b[0m\u001b[0;34m=\u001b[0m\u001b[0mself\u001b[0m\u001b[0;34m.\u001b[0m\u001b[0mservice\u001b[0m\u001b[0;34m.\u001b[0m\u001b[0mservice_url\u001b[0m\u001b[0;34m,\u001b[0m\u001b[0;34m\u001b[0m\u001b[0;34m\u001b[0m\u001b[0m\n\u001b[1;32m     80\u001b[0m                     keep_alive=keep_alive),\n\u001b[0;32m---> 81\u001b[0;31m                 desired_capabilities=desired_capabilities)\n\u001b[0m\u001b[1;32m     82\u001b[0m         \u001b[0;32mexcept\u001b[0m \u001b[0mException\u001b[0m\u001b[0;34m:\u001b[0m\u001b[0;34m\u001b[0m\u001b[0;34m\u001b[0m\u001b[0m\n\u001b[1;32m     83\u001b[0m             \u001b[0mself\u001b[0m\u001b[0;34m.\u001b[0m\u001b[0mquit\u001b[0m\u001b[0;34m(\u001b[0m\u001b[0;34m)\u001b[0m\u001b[0;34m\u001b[0m\u001b[0;34m\u001b[0m\u001b[0m\n",
      "\u001b[0;32m~/app/anaconda3/lib/python3.7/site-packages/selenium/webdriver/remote/webdriver.py\u001b[0m in \u001b[0;36m__init__\u001b[0;34m(self, command_executor, desired_capabilities, browser_profile, proxy, keep_alive, file_detector, options)\u001b[0m\n\u001b[1;32m    155\u001b[0m             warnings.warn(\"Please use FirefoxOptions to set browser profile\",\n\u001b[1;32m    156\u001b[0m                           DeprecationWarning, stacklevel=2)\n\u001b[0;32m--> 157\u001b[0;31m         \u001b[0mself\u001b[0m\u001b[0;34m.\u001b[0m\u001b[0mstart_session\u001b[0m\u001b[0;34m(\u001b[0m\u001b[0mcapabilities\u001b[0m\u001b[0;34m,\u001b[0m \u001b[0mbrowser_profile\u001b[0m\u001b[0;34m)\u001b[0m\u001b[0;34m\u001b[0m\u001b[0;34m\u001b[0m\u001b[0m\n\u001b[0m\u001b[1;32m    158\u001b[0m         \u001b[0mself\u001b[0m\u001b[0;34m.\u001b[0m\u001b[0m_switch_to\u001b[0m \u001b[0;34m=\u001b[0m \u001b[0mSwitchTo\u001b[0m\u001b[0;34m(\u001b[0m\u001b[0mself\u001b[0m\u001b[0;34m)\u001b[0m\u001b[0;34m\u001b[0m\u001b[0;34m\u001b[0m\u001b[0m\n\u001b[1;32m    159\u001b[0m         \u001b[0mself\u001b[0m\u001b[0;34m.\u001b[0m\u001b[0m_mobile\u001b[0m \u001b[0;34m=\u001b[0m \u001b[0mMobile\u001b[0m\u001b[0;34m(\u001b[0m\u001b[0mself\u001b[0m\u001b[0;34m)\u001b[0m\u001b[0;34m\u001b[0m\u001b[0;34m\u001b[0m\u001b[0m\n",
      "\u001b[0;32m~/app/anaconda3/lib/python3.7/site-packages/selenium/webdriver/remote/webdriver.py\u001b[0m in \u001b[0;36mstart_session\u001b[0;34m(self, capabilities, browser_profile)\u001b[0m\n\u001b[1;32m    250\u001b[0m         parameters = {\"capabilities\": w3c_caps,\n\u001b[1;32m    251\u001b[0m                       \"desiredCapabilities\": capabilities}\n\u001b[0;32m--> 252\u001b[0;31m         \u001b[0mresponse\u001b[0m \u001b[0;34m=\u001b[0m \u001b[0mself\u001b[0m\u001b[0;34m.\u001b[0m\u001b[0mexecute\u001b[0m\u001b[0;34m(\u001b[0m\u001b[0mCommand\u001b[0m\u001b[0;34m.\u001b[0m\u001b[0mNEW_SESSION\u001b[0m\u001b[0;34m,\u001b[0m \u001b[0mparameters\u001b[0m\u001b[0;34m)\u001b[0m\u001b[0;34m\u001b[0m\u001b[0;34m\u001b[0m\u001b[0m\n\u001b[0m\u001b[1;32m    253\u001b[0m         \u001b[0;32mif\u001b[0m \u001b[0;34m'sessionId'\u001b[0m \u001b[0;32mnot\u001b[0m \u001b[0;32min\u001b[0m \u001b[0mresponse\u001b[0m\u001b[0;34m:\u001b[0m\u001b[0;34m\u001b[0m\u001b[0;34m\u001b[0m\u001b[0m\n\u001b[1;32m    254\u001b[0m             \u001b[0mresponse\u001b[0m \u001b[0;34m=\u001b[0m \u001b[0mresponse\u001b[0m\u001b[0;34m[\u001b[0m\u001b[0;34m'value'\u001b[0m\u001b[0;34m]\u001b[0m\u001b[0;34m\u001b[0m\u001b[0;34m\u001b[0m\u001b[0m\n",
      "\u001b[0;32m~/app/anaconda3/lib/python3.7/site-packages/selenium/webdriver/remote/webdriver.py\u001b[0m in \u001b[0;36mexecute\u001b[0;34m(self, driver_command, params)\u001b[0m\n\u001b[1;32m    319\u001b[0m         \u001b[0mresponse\u001b[0m \u001b[0;34m=\u001b[0m \u001b[0mself\u001b[0m\u001b[0;34m.\u001b[0m\u001b[0mcommand_executor\u001b[0m\u001b[0;34m.\u001b[0m\u001b[0mexecute\u001b[0m\u001b[0;34m(\u001b[0m\u001b[0mdriver_command\u001b[0m\u001b[0;34m,\u001b[0m \u001b[0mparams\u001b[0m\u001b[0;34m)\u001b[0m\u001b[0;34m\u001b[0m\u001b[0;34m\u001b[0m\u001b[0m\n\u001b[1;32m    320\u001b[0m         \u001b[0;32mif\u001b[0m \u001b[0mresponse\u001b[0m\u001b[0;34m:\u001b[0m\u001b[0;34m\u001b[0m\u001b[0;34m\u001b[0m\u001b[0m\n\u001b[0;32m--> 321\u001b[0;31m             \u001b[0mself\u001b[0m\u001b[0;34m.\u001b[0m\u001b[0merror_handler\u001b[0m\u001b[0;34m.\u001b[0m\u001b[0mcheck_response\u001b[0m\u001b[0;34m(\u001b[0m\u001b[0mresponse\u001b[0m\u001b[0;34m)\u001b[0m\u001b[0;34m\u001b[0m\u001b[0;34m\u001b[0m\u001b[0m\n\u001b[0m\u001b[1;32m    322\u001b[0m             response['value'] = self._unwrap_value(\n\u001b[1;32m    323\u001b[0m                 response.get('value', None))\n",
      "\u001b[0;32m~/app/anaconda3/lib/python3.7/site-packages/selenium/webdriver/remote/errorhandler.py\u001b[0m in \u001b[0;36mcheck_response\u001b[0;34m(self, response)\u001b[0m\n\u001b[1;32m    240\u001b[0m                 \u001b[0malert_text\u001b[0m \u001b[0;34m=\u001b[0m \u001b[0mvalue\u001b[0m\u001b[0;34m[\u001b[0m\u001b[0;34m'alert'\u001b[0m\u001b[0;34m]\u001b[0m\u001b[0;34m.\u001b[0m\u001b[0mget\u001b[0m\u001b[0;34m(\u001b[0m\u001b[0;34m'text'\u001b[0m\u001b[0;34m)\u001b[0m\u001b[0;34m\u001b[0m\u001b[0;34m\u001b[0m\u001b[0m\n\u001b[1;32m    241\u001b[0m             \u001b[0;32mraise\u001b[0m \u001b[0mexception_class\u001b[0m\u001b[0;34m(\u001b[0m\u001b[0mmessage\u001b[0m\u001b[0;34m,\u001b[0m \u001b[0mscreen\u001b[0m\u001b[0;34m,\u001b[0m \u001b[0mstacktrace\u001b[0m\u001b[0;34m,\u001b[0m \u001b[0malert_text\u001b[0m\u001b[0;34m)\u001b[0m\u001b[0;34m\u001b[0m\u001b[0;34m\u001b[0m\u001b[0m\n\u001b[0;32m--> 242\u001b[0;31m         \u001b[0;32mraise\u001b[0m \u001b[0mexception_class\u001b[0m\u001b[0;34m(\u001b[0m\u001b[0mmessage\u001b[0m\u001b[0;34m,\u001b[0m \u001b[0mscreen\u001b[0m\u001b[0;34m,\u001b[0m \u001b[0mstacktrace\u001b[0m\u001b[0;34m)\u001b[0m\u001b[0;34m\u001b[0m\u001b[0;34m\u001b[0m\u001b[0m\n\u001b[0m\u001b[1;32m    243\u001b[0m \u001b[0;34m\u001b[0m\u001b[0m\n\u001b[1;32m    244\u001b[0m     \u001b[0;32mdef\u001b[0m \u001b[0m_value_or_default\u001b[0m\u001b[0;34m(\u001b[0m\u001b[0mself\u001b[0m\u001b[0;34m,\u001b[0m \u001b[0mobj\u001b[0m\u001b[0;34m,\u001b[0m \u001b[0mkey\u001b[0m\u001b[0;34m,\u001b[0m \u001b[0mdefault\u001b[0m\u001b[0;34m)\u001b[0m\u001b[0;34m:\u001b[0m\u001b[0;34m\u001b[0m\u001b[0;34m\u001b[0m\u001b[0m\n",
      "\u001b[0;31mWebDriverException\u001b[0m: Message: unknown error: Chrome failed to start: crashed.\n  (chrome not reachable)\n  (The process started from chrome location /Applications/Google Chrome.app/Contents/MacOS/Google Chrome is no longer running, so ChromeDriver is assuming that Chrome has crashed.)\n"
     ]
    }
   ],
   "source": [
    "driver=webdriver.Chrome('chromedriver')\n",
    "url = \"https://www.simplyrecipes.com/index/\"\n",
    "driver.get(url)\n",
    "driver.maximize_window()\n",
    "response=requests.get(url)\n",
    "soup=BeautifulSoup(response.text,'html.parser')"
   ]
  },
  {
   "cell_type": "code",
   "execution_count": 4,
   "metadata": {},
   "outputs": [],
   "source": [
    "linklist=[]\n",
    "links=soup.find_all('a')\n",
    "for link in links:\n",
    "    linklist.append(link)\n",
    "linklist_text=[]\n",
    "for i in range(164,1068):\n",
    "    linklist_text.append(linklist[i].text)"
   ]
  },
  {
   "cell_type": "code",
   "execution_count": 5,
   "metadata": {},
   "outputs": [
    {
     "ename": "NoSuchWindowException",
     "evalue": "Message: no such window: window was already closed\n  (Session info: chrome=84.0.4147.125)\n",
     "output_type": "error",
     "traceback": [
      "\u001b[0;31m---------------------------------------------------------------------------\u001b[0m",
      "\u001b[0;31mNoSuchWindowException\u001b[0m                     Traceback (most recent call last)",
      "\u001b[0;32m<ipython-input-5-a86882128a5d>\u001b[0m in \u001b[0;36m<module>\u001b[0;34m\u001b[0m\n\u001b[1;32m     18\u001b[0m         \u001b[0;32mexcept\u001b[0m\u001b[0;34m:\u001b[0m\u001b[0;34m\u001b[0m\u001b[0;34m\u001b[0m\u001b[0m\n\u001b[1;32m     19\u001b[0m             \u001b[0;32mcontinue\u001b[0m\u001b[0;34m\u001b[0m\u001b[0;34m\u001b[0m\u001b[0m\n\u001b[0;32m---> 20\u001b[0;31m     \u001b[0mdriver\u001b[0m\u001b[0;34m.\u001b[0m\u001b[0mget\u001b[0m\u001b[0;34m(\u001b[0m\u001b[0murl\u001b[0m\u001b[0;34m)\u001b[0m\u001b[0;34m\u001b[0m\u001b[0;34m\u001b[0m\u001b[0m\n\u001b[0m\u001b[1;32m     21\u001b[0m \u001b[0;34m\u001b[0m\u001b[0m\n\u001b[1;32m     22\u001b[0m     \u001b[0;32mwith\u001b[0m \u001b[0mopen\u001b[0m \u001b[0;34m(\u001b[0m\u001b[0;34m\"recipe_list.txt\"\u001b[0m\u001b[0;34m,\u001b[0m \u001b[0;34m\"a\"\u001b[0m\u001b[0;34m)\u001b[0m \u001b[0;32mas\u001b[0m \u001b[0mfout\u001b[0m\u001b[0;34m:\u001b[0m\u001b[0;34m\u001b[0m\u001b[0;34m\u001b[0m\u001b[0m\n",
      "\u001b[0;32m~/app/anaconda3/lib/python3.7/site-packages/selenium/webdriver/remote/webdriver.py\u001b[0m in \u001b[0;36mget\u001b[0;34m(self, url)\u001b[0m\n\u001b[1;32m    331\u001b[0m         \u001b[0mLoads\u001b[0m \u001b[0ma\u001b[0m \u001b[0mweb\u001b[0m \u001b[0mpage\u001b[0m \u001b[0;32min\u001b[0m \u001b[0mthe\u001b[0m \u001b[0mcurrent\u001b[0m \u001b[0mbrowser\u001b[0m \u001b[0msession\u001b[0m\u001b[0;34m.\u001b[0m\u001b[0;34m\u001b[0m\u001b[0;34m\u001b[0m\u001b[0m\n\u001b[1;32m    332\u001b[0m         \"\"\"\n\u001b[0;32m--> 333\u001b[0;31m         \u001b[0mself\u001b[0m\u001b[0;34m.\u001b[0m\u001b[0mexecute\u001b[0m\u001b[0;34m(\u001b[0m\u001b[0mCommand\u001b[0m\u001b[0;34m.\u001b[0m\u001b[0mGET\u001b[0m\u001b[0;34m,\u001b[0m \u001b[0;34m{\u001b[0m\u001b[0;34m'url'\u001b[0m\u001b[0;34m:\u001b[0m \u001b[0murl\u001b[0m\u001b[0;34m}\u001b[0m\u001b[0;34m)\u001b[0m\u001b[0;34m\u001b[0m\u001b[0;34m\u001b[0m\u001b[0m\n\u001b[0m\u001b[1;32m    334\u001b[0m \u001b[0;34m\u001b[0m\u001b[0m\n\u001b[1;32m    335\u001b[0m     \u001b[0;34m@\u001b[0m\u001b[0mproperty\u001b[0m\u001b[0;34m\u001b[0m\u001b[0;34m\u001b[0m\u001b[0m\n",
      "\u001b[0;32m~/app/anaconda3/lib/python3.7/site-packages/selenium/webdriver/remote/webdriver.py\u001b[0m in \u001b[0;36mexecute\u001b[0;34m(self, driver_command, params)\u001b[0m\n\u001b[1;32m    319\u001b[0m         \u001b[0mresponse\u001b[0m \u001b[0;34m=\u001b[0m \u001b[0mself\u001b[0m\u001b[0;34m.\u001b[0m\u001b[0mcommand_executor\u001b[0m\u001b[0;34m.\u001b[0m\u001b[0mexecute\u001b[0m\u001b[0;34m(\u001b[0m\u001b[0mdriver_command\u001b[0m\u001b[0;34m,\u001b[0m \u001b[0mparams\u001b[0m\u001b[0;34m)\u001b[0m\u001b[0;34m\u001b[0m\u001b[0;34m\u001b[0m\u001b[0m\n\u001b[1;32m    320\u001b[0m         \u001b[0;32mif\u001b[0m \u001b[0mresponse\u001b[0m\u001b[0;34m:\u001b[0m\u001b[0;34m\u001b[0m\u001b[0;34m\u001b[0m\u001b[0m\n\u001b[0;32m--> 321\u001b[0;31m             \u001b[0mself\u001b[0m\u001b[0;34m.\u001b[0m\u001b[0merror_handler\u001b[0m\u001b[0;34m.\u001b[0m\u001b[0mcheck_response\u001b[0m\u001b[0;34m(\u001b[0m\u001b[0mresponse\u001b[0m\u001b[0;34m)\u001b[0m\u001b[0;34m\u001b[0m\u001b[0;34m\u001b[0m\u001b[0m\n\u001b[0m\u001b[1;32m    322\u001b[0m             response['value'] = self._unwrap_value(\n\u001b[1;32m    323\u001b[0m                 response.get('value', None))\n",
      "\u001b[0;32m~/app/anaconda3/lib/python3.7/site-packages/selenium/webdriver/remote/errorhandler.py\u001b[0m in \u001b[0;36mcheck_response\u001b[0;34m(self, response)\u001b[0m\n\u001b[1;32m    240\u001b[0m                 \u001b[0malert_text\u001b[0m \u001b[0;34m=\u001b[0m \u001b[0mvalue\u001b[0m\u001b[0;34m[\u001b[0m\u001b[0;34m'alert'\u001b[0m\u001b[0;34m]\u001b[0m\u001b[0;34m.\u001b[0m\u001b[0mget\u001b[0m\u001b[0;34m(\u001b[0m\u001b[0;34m'text'\u001b[0m\u001b[0;34m)\u001b[0m\u001b[0;34m\u001b[0m\u001b[0;34m\u001b[0m\u001b[0m\n\u001b[1;32m    241\u001b[0m             \u001b[0;32mraise\u001b[0m \u001b[0mexception_class\u001b[0m\u001b[0;34m(\u001b[0m\u001b[0mmessage\u001b[0m\u001b[0;34m,\u001b[0m \u001b[0mscreen\u001b[0m\u001b[0;34m,\u001b[0m \u001b[0mstacktrace\u001b[0m\u001b[0;34m,\u001b[0m \u001b[0malert_text\u001b[0m\u001b[0;34m)\u001b[0m\u001b[0;34m\u001b[0m\u001b[0;34m\u001b[0m\u001b[0m\n\u001b[0;32m--> 242\u001b[0;31m         \u001b[0;32mraise\u001b[0m \u001b[0mexception_class\u001b[0m\u001b[0;34m(\u001b[0m\u001b[0mmessage\u001b[0m\u001b[0;34m,\u001b[0m \u001b[0mscreen\u001b[0m\u001b[0;34m,\u001b[0m \u001b[0mstacktrace\u001b[0m\u001b[0;34m)\u001b[0m\u001b[0;34m\u001b[0m\u001b[0;34m\u001b[0m\u001b[0m\n\u001b[0m\u001b[1;32m    243\u001b[0m \u001b[0;34m\u001b[0m\u001b[0m\n\u001b[1;32m    244\u001b[0m     \u001b[0;32mdef\u001b[0m \u001b[0m_value_or_default\u001b[0m\u001b[0;34m(\u001b[0m\u001b[0mself\u001b[0m\u001b[0;34m,\u001b[0m \u001b[0mobj\u001b[0m\u001b[0;34m,\u001b[0m \u001b[0mkey\u001b[0m\u001b[0;34m,\u001b[0m \u001b[0mdefault\u001b[0m\u001b[0;34m)\u001b[0m\u001b[0;34m:\u001b[0m\u001b[0;34m\u001b[0m\u001b[0;34m\u001b[0m\u001b[0m\n",
      "\u001b[0;31mNoSuchWindowException\u001b[0m: Message: no such window: window was already closed\n  (Session info: chrome=84.0.4147.125)\n"
     ]
    }
   ],
   "source": [
    "for link in linklist_text[0:5]:\n",
    "    time.sleep(0.3)\n",
    "    target=driver.find_element_by_partial_link_text(link)\n",
    "    target.click()\n",
    "    time.sleep(0.1)\n",
    "    cards = driver.find_elements_by_class_name(\"grd-title-link\")\n",
    "    recipe_list=[]\n",
    "    for i in range(0,len(cards)):\n",
    "        try:\n",
    "            newcards = driver.find_elements_by_class_name(\"grd-title-link\")\n",
    "            time.sleep(0.3)\n",
    "            newcards[i].click()\n",
    "            time.sleep(0.3)\n",
    "            recipe=driver.find_element_by_id(\"sr-recipe-callout\")\n",
    "            recipe_list.append(recipe.text)\n",
    "            driver.back()\n",
    "            time.sleep(0.3)\n",
    "        except:\n",
    "            continue\n",
    "    driver.get(url)\n",
    "    \n",
    "    with open (\"recipe_list.txt\", \"a\") as fout:\n",
    "        for recipe_text in recipe_list:\n",
    "            fout.write(\"%s\\n\" % recipe_text)"
   ]
  },
  {
   "cell_type": "code",
   "execution_count": 35,
   "metadata": {},
   "outputs": [
    {
     "name": "stdout",
     "output_type": "stream",
     "text": [
      "['Print\\nSweet Corn Gnocchi Skillet Recipe\\nPrep time: 15 minutesCook time: 20 minutesYield: 4 servings\\nINGREDIENTS\\n1 pound gnocchi\\n2 tablespoons olive oil\\nKernels from 3 ears sweet corn, or about 3 cups corn kernels\\n1 small sweet onion, diced\\n3 cloves garlic, minced\\n1/2 cup heavy cream (optional)\\n1/2 teaspoon salt\\nGround black pepper\\n8 ounces small mozzarella balls (also called pearls or ciliegine)\\nFresh basil, minced\\nMETHODHIDE PHOTOS\\n1 Cook the gnocchi: Bring a pot of salted water to boil. Add gnocchi and cook until they float, about 4-5 minutes. Remove gnocchi and reserve 1/2 cup of the cooking water for the skillet.\\n2 Cook the corn kernels: Heat a large skillet over medium-high heat, then add the olive oil. When the oil is shimmering, add the corn kernels. Let kernels cook in the skillet for 4-5 minutes until they are brown and blistered. Don’t stir them too much. Let them sit so they get some color.\\n3 Add onions and garlic: Once the corn has blistered, add the sweet onions and garlic. Cook for a few minutes until the onions have softened and are translucent.\\n4 Make the skillet sauce: Once the onions are soft, add the cooked gnocchi to the skillet and toss everything together. Turn the heat down to low and add 1/2 cup of the reserved gnocchi water, or 1/2 cup cream. Stir to combine ingredients, then let simmer until the sauce has thickened slightly. Taste and season with salt and pepper.\\n5 Finish the dish: Right before serving, add the mozzarella balls to the skillet and garnish with fresh basil.\\nLeftovers will keep well in the fridge for a few days. Reheat it in a skillet over low heat with a little water. If you freeze the dish, make sure to thaw and reheat it gently. A microwave will ruin the sauce and the gnocchi texture.\\nHello! All photos and content are copyright protected. Please do not use our photos without prior written permission. Thank you!\\nPrint', 'Print\\nSkillet Peach Crisp with Ginger and Pecans Recipe\\nPrep time: 10 minutesCook time: 35 minutesYield: 8 to 10 servings\\nYou can make your own oat flour by pulverizing rolled oats in a food processor, but most supermarkets carry oat flour as well. One of my favorite brands is Bob’s Red Mill.\\nRecipe Tester Suggestion: Add an extra peach or two if you have them and want more juicy peaches in your crisp!\\nINGREDIENTS\\nFor the crisp topping:\\n1/2 cup (66 grams) oat flour (See recipe note)\\n1/2 cup (78 grams) all-purpose flour\\n1/3 cup old-fashioned rolled oats\\n1/4 cup light brown sugar\\n1/2 teaspoon fine sea salt or table salt\\n3/4 cups pecans, roughly chopped\\n1/2 cup unsalted butter cut into small pieces, well chilled\\nFor the peaches:\\n2 pounds peaches, sliced 1/2-inch thick (about 6 medium, or 6 cups sliced)\\n1/2 teaspoon ground ginger\\n1/3 cup crystallized candied ginger, diced small\\n1/4 cup granulated sugar\\n2 tablespoons lemon juice (about 1/2 lemon)\\n2 tablespoons unsalted butter, for the pan\\nMETHODHIDE PHOTOS\\n1 Preheat oven to 350°F.\\n2 Make the crisp topping: In a small bowl, combine the two flours with a fork—sometimes oat flour clumps together more than all-purpose. Add the rolled oats, brown sugar, and sea salt. Add the pecans and stir to combine.\\nFinally, rub the butter until topping is buttery and crumbly. It should clump together easily between your fingers.\\n3 Prepare the peaches: In a medium bowl, combine the sliced peaches, ground ginger, crystalized ginger, and sugar, along with the lemon juice. Stir together gently with a spatula.\\n4 Prepare the pan: Put the remaining 2 tablespoons of butter into the cast iron pan and place into the oven for about 5 minutes, just until the butter melts.\\n5 Assemble the crisp: Remove the pan from the oven and add the peach-ginger combination, spreading it out evenly. Add little dabs of the crisp topping as evenly as you can across the top of the peaches.\\n  6 Bake the crisp: Bake in the oven for 30 to 35 minutes, or until the filling is bubbling and the top is golden brown.\\n7 Cool and serve: This is going to be hard, but you need to wait at least an hour before you scoop into this. Otherwise the juices will run everywhere, and you may burn your mouth.\\nOnce it’s made, this keeps best covered, in the refrigerator, for 3 to 4 days. Simply reheat it in a low oven for about 10 minutes.\\nHello! All photos and content are copyright protected. Please do not use our photos without prior written permission. Thank you!\\nPrint', 'Print\\nOne-Pan Paprika Chicken with Potatoes and Tomatoes Recipe\\nPrep time: 15 minutesCook time: 1 hourYield: Serves 4 to 6\\nSmall red or yellow potatoes can be substituted for the baby potatoes; cut them into bite-sized pieces before baking.\\nINGREDIENTS\\n6 to 8 chicken thighs (about 3 pounds, bone-in, skin-on, trimmed of excess fat)\\n2 tablespoons Dijon mustard\\nJuice of 1 lemon\\n2 teaspoons paprika\\n4 tablespoons olive oil\\n1 1/2 pounds baby potatoes\\n1 red onion, cut into 8 wedges\\n6 garlic cloves, smashed\\n1/2 pint cherry tomatoes\\nHandful of thyme sprigs\\nLeaves from 3 to 4 parsley sprigs, for garnish\\nMETHODHIDE PHOTOS\\n1 Heat the oven to 400°F. Place a rack in the middle position.\\n2 Prepare the chicken: With scissors or a sharp knife, trim the excess chicken skin and fat from the thighs. Sprinkle all over with salt and pepper.\\n3 Marinate the chicken in the sauce: In a large bowl, stir together the mustard, lemon juice, paprika, 2 tablespoons of the oil, and additional salt and pepper to taste. Add the chicken thighs and toss to coat. Set aside while you chop the vegetables.\\n4 Prepare the vegetables: Cut the baby potatoes into halves. Peel the red onion and cut it into 8 wedges through the root end. Cut the cherry tomatoes in half, but keep them separate from the other vegetables.\\n5 Bake the chicken and vegetables: In a large baking dish (9x13-inch pan, 3-quart dish, or other similar sized baking dish), toss the potatoes, onion, and garlic with salt, pepper, and the remaining 2 tablespoons of olive oil. Spread them evenly in the pan and top with thyme sprigs.\\nNestle the chicken into the vegetables and scrape any extra sauce over top. Bake at 400°F for 30 minutes, uncovered.\\n6 Add the tomatoes: Remove the pan from the oven, scatter the cherry tomatoes on top, and return the pan to the oven.\\n7 Bake for another 25 to 30 minutes, or until the potatoes are tender and an instant-read thermometer inserted into the middle of a thigh registers 165°F. Serve with a salad or crusty bread.\\nHello! All photos and content are copyright protected. Please do not use our photos without prior written permission. Thank you!\\nPrint', \"Print\\nTuscan Chicken Pasta Skillet Recipe\\nPrep time: 25 minutesCook time: 25 minutesMarinating time: 15 minutesYield: 4 servings\\nINGREDIENTS\\nFor the marinade:\\n1/4 cup olive oil\\n1 teaspoon kosher salt\\n1/2 teaspoon ground black pepper\\n1/2 teaspoon dried Italian seasoning\\nFor the dinner:\\n1 1/2 pounds boneless skinless chicken breasts\\n2 tablespoons extra virgin olive oil\\n12 ounces cherry tomatoes (about 2 cups), halved\\n1 tablespoon minced garlic\\n8 ounces spaghetti\\n1/2 teaspoon kosher salt\\n1 cup quartered marinated artichokes hearts, drained\\n1/3 cup Kalamata olives, pitted and sliced\\n1/4 cup freshly grated parmesan cheese\\n6 basil leaves, thinly sliced\\n2 teaspoons chopped fresh parsley (optional)\\nMETHODHIDE PHOTOS\\n1 Marinate the chicken: In a small bowl, combine 1/4 cup olive oil, 1 teaspoon salt, 1/2 teaspoon pepper, and Italian seasoning. Cut each chicken breast lengthwise to create 4 long, thin pieces. Place chicken in a shallow dish. Pour marinade over the chicken, turn to evenly coat. Let sit for 15 minutes before cooking.\\n2 Cook the chicken: Heat a large high-sided skillet or sauté pan over medium-high heat. Add 2 tablespoons of olive oil. Once the oil is hot, add the chicken. Cook until the chicken is golden brown and fully cooked, about 6 to 8 minutes per side.\\nTransfer chicken to a cutting board to rest while cooking the pasta.\\n3 Cook the pasta: Add tomatoes, garlic, spaghetti, 4 cups water, and 1/2 teaspoon salt to the skillet. Bring to a boil over high heat. Cook and stir frequently, until the pasta is tender and water has mostly evaporated—about 9 to 11 minutes. You want to have a small amount of water in the pan to create a light sauce.\\nAdd more water if needed, 1/2 cup at a time for a softer pasta. Turn off the heat.  \\n4 Finish and toss: Cut the chicken into 1/4-inch thick slices. Add the artichoke hearts, olives, Parmesan cheese, sliced chicken, and basil. Toss to combine. If you'd like a thicker sauce, you can add 1 or 2 tablespoons of butter. Taste and season with more salt and pepper as desired.\\n5 Serve: Garnish pasta with parsley, then divide among plates and serve warm.\\nHello! All photos and content are copyright protected. Please do not use our photos without prior written permission. Thank you!\\nPrint\", 'Print\\nSteak on the Stovetop Recipe\\nPrep time: 30 minutesCook time: 10 minutesYield: 2 servings\\nINGREDIENTS\\nOne 3/4- to 1-pound steak, 3/4- to 1-inch thick, such as ribeye, strip, or porterhouse\\nKosher salt\\n2 tablespoons unsalted butter, optional\\nA few sprigs fresh thyme or rosemary, optional\\nFlaky sea salt, for sprinkling, optional\\nMETHODHIDE PHOTOS\\n1 Pat the steak dry: Pat the steak dry with paper towels and season it liberally with salt all over; let rest at room temperature for 30 minutes.\\n2 Heat the skillet: Heat a cast-iron or stainless-steel skillet large enough to hold the steak on the stove over medium-high heat until very hot and it just barely starts to smoke, about 3 minutes.\\n3 Pat the steak dry (again) and cook: Pat the steak dry again with paper towels, add the steak, and cook, pressing down to make sure it gets good contact with the pan, until a nice sear starts to form, about 2 minutes; flip over and cook for 2 minutes more.\\nFor a rare to medium-rare steak: Depending on the thickness of your steak, for a rare to medium-rare steak you should be able to remove the steak from the pan after 4 total minutes of cooking time.\\nFor a medium to well-done steak: Reduce the heat to medium-low and continue to cook, flipping over every minute or so, to your desired temperature, anywhere from an additional 2 to 6 minutes (or more for extra well-done).\\n4 Baste with butter and herbs (optional): If you want even more flavor, add the butter and herbs to the pan during the last couple minutes of cooking and baste it with the butter.\\n5 Serve: Remove the steak from the pan and let rest for a couple of minutes before slicing. If desired, sprinkle with some flaky sea salt. Serve.\\nHello! All photos and content are copyright protected. Please do not use our photos without prior written permission. Thank you!\\nPrint', 'Print\\nOne-Pan Paprika Chicken with Potatoes and Tomatoes Recipe\\nPrep time: 15 minutesCook time: 1 hourYield: Serves 4 to 6\\nSmall red or yellow potatoes can be substituted for the baby potatoes; cut them into bite-sized pieces before baking.\\nINGREDIENTS\\n6 to 8 chicken thighs (about 3 pounds, bone-in, skin-on, trimmed of excess fat)\\n2 tablespoons Dijon mustard\\nJuice of 1 lemon\\n2 teaspoons paprika\\n4 tablespoons olive oil\\n1 1/2 pounds baby potatoes\\n1 red onion, cut into 8 wedges\\n6 garlic cloves, smashed\\n1/2 pint cherry tomatoes\\nHandful of thyme sprigs\\nLeaves from 3 to 4 parsley sprigs, for garnish\\nMETHODHIDE PHOTOS\\n1 Heat the oven to 400°F. Place a rack in the middle position.\\n2 Prepare the chicken: With scissors or a sharp knife, trim the excess chicken skin and fat from the thighs. Sprinkle all over with salt and pepper.\\n3 Marinate the chicken in the sauce: In a large bowl, stir together the mustard, lemon juice, paprika, 2 tablespoons of the oil, and additional salt and pepper to taste. Add the chicken thighs and toss to coat. Set aside while you chop the vegetables.\\n4 Prepare the vegetables: Cut the baby potatoes into halves. Peel the red onion and cut it into 8 wedges through the root end. Cut the cherry tomatoes in half, but keep them separate from the other vegetables.\\n5 Bake the chicken and vegetables: In a large baking dish (9x13-inch pan, 3-quart dish, or other similar sized baking dish), toss the potatoes, onion, and garlic with salt, pepper, and the remaining 2 tablespoons of olive oil. Spread them evenly in the pan and top with thyme sprigs.\\nNestle the chicken into the vegetables and scrape any extra sauce over top. Bake at 400°F for 30 minutes, uncovered.\\n6 Add the tomatoes: Remove the pan from the oven, scatter the cherry tomatoes on top, and return the pan to the oven.\\n7 Bake for another 25 to 30 minutes, or until the potatoes are tender and an instant-read thermometer inserted into the middle of a thigh registers 165°F. Serve with a salad or crusty bread.\\nHello! All photos and content are copyright protected. Please do not use our photos without prior written permission. Thank you!\\nPrint', 'Print\\nSlow Cooker Chickpea Curry with Sweet Potatoes and Red Peppers Recipe\\nPrep time: 15 minutesCook time: 8 hoursYield: 8 to 10 servings\\nI prefer white-fleshed sweet potatoes for this recipe because they\\'re starchier and hold up better to longer cooking. If you use orange-fleshed sweet potatoes, they will break down a little more and make a thicker, creamier sauce, which is also good!\\nTo reduce cooking time, soak the chickpeas overnight, skip the extra water, and cook on high for 4 to 6 hours.\\nINGREDIENTS\\n1 tablespoon olive oil\\n1 medium yellow onion, diced\\n1 pound dried chickpeas, rinsed\\n2 tablespoons curry powder\\n1 large white-fleshed sweet potato, peeled and diced (See Recipe Note)\\n1 large or two small sweet bell peppers, diced (red or yellow, about 1/2 pound)\\n1 (28-ounce) can diced tomatoes\\n1 (15.5 ounce) can coconut milk\\n1 1/4 cups water\\n3 cloves garlic, minced\\n1 diced serrano, jalapeño, or fresno chili (optional)\\n1 teaspoon salt\\n6 cups spinach, roughly chopped, to serve\\nCooked rice, to serve (optional)\\nChopped cilantro, to serve\\nLime or lemon wedges, to serve\\nSpecial equipment:\\n6-quart or larger slow cooker\\nMETHODHIDE PHOTOS\\n1 Combine the ingredients in the slow cooker: Drizzle olive oil in the bottom of a 6-quart or larger slow cooker then add onion and stir to coat. Pour dried chickpeas on top, then sprinkle the curry powder evenly over the beans.\\nFollow with sweet potato, bell pepper, tomatoes, coconut milk, water, garlic, chili pepper (if using), and salt. Do not stir (leaving the chickpeas on the bottom and the sweet potatoes on top helps everything cook more evenly).\\n2 Cook on low for 6 to 8 hours: If you\\'re around, stir the curry after about 4 hours and give it a check. At this point, the curry should seem soupy and the chickpeas will likely be edible, but still crunchy. If the slow cooker seems dry, add another half cup of water. (The curry will also be fine if you\\'re not around to stir it.)\\nTotal cooking time will depend on your slow cooker and your chickpeas. The curry can be served any time after the chickpeas are soft and tender.\\nIt\\'s also fine to if the curry cooks a little longer, or if you leave it on the \"warm\" setting for a while. The recipe is very forgiving! The curry will get thicker and creamier the longer it cooks.\\n3 Serve with spinach: Stir the curry well. Taste and add additional salt if needed. Serve the curry over bowls of chopped spinach, stirring to wilt the spinach. (You can also stir the spinach directly into the curry if that\\'s more convenient for you.)\\nGarnish with cilantro and a squeeze of lemon or lime.\\nLeftovers will keep for about a week or can be frozen for up to three months.\\nHello! All photos and content are copyright protected. Please do not use our photos without prior written permission. Thank you!\\nPrint', \"Print\\nTuscan Chicken Pasta Skillet Recipe\\nPrep time: 25 minutesCook time: 25 minutesMarinating time: 15 minutesYield: 4 servings\\nINGREDIENTS\\nFor the marinade:\\n1/4 cup olive oil\\n1 teaspoon kosher salt\\n1/2 teaspoon ground black pepper\\n1/2 teaspoon dried Italian seasoning\\nFor the dinner:\\n1 1/2 pounds boneless skinless chicken breasts\\n2 tablespoons extra virgin olive oil\\n12 ounces cherry tomatoes (about 2 cups), halved\\n1 tablespoon minced garlic\\n8 ounces spaghetti\\n1/2 teaspoon kosher salt\\n1 cup quartered marinated artichokes hearts, drained\\n1/3 cup Kalamata olives, pitted and sliced\\n1/4 cup freshly grated parmesan cheese\\n6 basil leaves, thinly sliced\\n2 teaspoons chopped fresh parsley (optional)\\nMETHODHIDE PHOTOS\\n1 Marinate the chicken: In a small bowl, combine 1/4 cup olive oil, 1 teaspoon salt, 1/2 teaspoon pepper, and Italian seasoning. Cut each chicken breast lengthwise to create 4 long, thin pieces. Place chicken in a shallow dish. Pour marinade over the chicken, turn to evenly coat. Let sit for 15 minutes before cooking.\\n2 Cook the chicken: Heat a large high-sided skillet or sauté pan over medium-high heat. Add 2 tablespoons of olive oil. Once the oil is hot, add the chicken. Cook until the chicken is golden brown and fully cooked, about 6 to 8 minutes per side.\\nTransfer chicken to a cutting board to rest while cooking the pasta.\\n3 Cook the pasta: Add tomatoes, garlic, spaghetti, 4 cups water, and 1/2 teaspoon salt to the skillet. Bring to a boil over high heat. Cook and stir frequently, until the pasta is tender and water has mostly evaporated—about 9 to 11 minutes. You want to have a small amount of water in the pan to create a light sauce.\\nAdd more water if needed, 1/2 cup at a time for a softer pasta. Turn off the heat.  \\n4 Finish and toss: Cut the chicken into 1/4-inch thick slices. Add the artichoke hearts, olives, Parmesan cheese, sliced chicken, and basil. Toss to combine. If you'd like a thicker sauce, you can add 1 or 2 tablespoons of butter. Taste and season with more salt and pepper as desired.\\n5 Serve: Garnish pasta with parsley, then divide among plates and serve warm.\\nHello! All photos and content are copyright protected. Please do not use our photos without prior written permission. Thank you!\\nPrint\"]\n"
     ]
    }
   ],
   "source": [
    "\n",
    "print(recipe_list)\n",
    "\n"
   ]
  },
  {
   "cell_type": "code",
   "execution_count": null,
   "metadata": {},
   "outputs": [],
   "source": []
  }
 ],
 "metadata": {
  "anaconda-cloud": {},
  "kernelspec": {
   "display_name": "Python 3",
   "language": "python",
   "name": "python3"
  },
  "language_info": {
   "codemirror_mode": {
    "name": "ipython",
    "version": 3
   },
   "file_extension": ".py",
   "mimetype": "text/x-python",
   "name": "python",
   "nbconvert_exporter": "python",
   "pygments_lexer": "ipython3",
   "version": "3.7.3"
  }
 },
 "nbformat": 4,
 "nbformat_minor": 2
}
